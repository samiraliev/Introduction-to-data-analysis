{
 "cells": [
  {
   "cell_type": "markdown",
   "metadata": {},
   "source": [
    "# Анализ данных в финам"
   ]
  },
  {
   "cell_type": "code",
   "execution_count": 96,
   "metadata": {},
   "outputs": [
    {
     "data": {
      "text/html": [
       "        <script type=\"text/javascript\">\n",
       "        window.PlotlyConfig = {MathJaxConfig: 'local'};\n",
       "        if (window.MathJax) {MathJax.Hub.Config({SVG: {font: \"STIX-Web\"}});}\n",
       "        if (typeof require !== 'undefined') {\n",
       "        require.undef(\"plotly\");\n",
       "        requirejs.config({\n",
       "            paths: {\n",
       "                'plotly': ['https://cdn.plot.ly/plotly-latest.min']\n",
       "            }\n",
       "        });\n",
       "        require(['plotly'], function(Plotly) {\n",
       "            window._Plotly = Plotly;\n",
       "        });\n",
       "        }\n",
       "        </script>\n",
       "        "
      ]
     },
     "metadata": {},
     "output_type": "display_data"
    }
   ],
   "source": [
    "import pandas as pd\n",
    "import pandas_datareader as web\n",
    "from datetime import datetime\n",
    "from finam.export import Exporter, Market, Timeframe\n",
    "from plotly.offline import download_plotlyjs, init_notebook_mode, plot, iplot\n",
    "import plotly.graph_objs as go\n",
    "init_notebook_mode(connected=True)\n",
    "import numpy as np\n",
    "import matplotlib as plt\n",
    "import datetime"
   ]
  },
  {
   "cell_type": "code",
   "execution_count": 21,
   "metadata": {},
   "outputs": [
    {
     "data": {
      "text/html": [
       "<div>\n",
       "<style scoped>\n",
       "    .dataframe tbody tr th:only-of-type {\n",
       "        vertical-align: middle;\n",
       "    }\n",
       "\n",
       "    .dataframe tbody tr th {\n",
       "        vertical-align: top;\n",
       "    }\n",
       "\n",
       "    .dataframe thead th {\n",
       "        text-align: right;\n",
       "    }\n",
       "</style>\n",
       "<table border=\"1\" class=\"dataframe\">\n",
       "  <thead>\n",
       "    <tr style=\"text-align: right;\">\n",
       "      <th></th>\n",
       "      <th>BOARDID</th>\n",
       "      <th>SHORTNAME</th>\n",
       "      <th>SECID</th>\n",
       "      <th>NUMTRADES</th>\n",
       "      <th>VALUE</th>\n",
       "      <th>OPEN</th>\n",
       "      <th>LOW</th>\n",
       "      <th>HIGH</th>\n",
       "      <th>CLOSE</th>\n",
       "      <th>WAPRICE</th>\n",
       "    </tr>\n",
       "    <tr>\n",
       "      <th>TRADEDATE</th>\n",
       "      <th></th>\n",
       "      <th></th>\n",
       "      <th></th>\n",
       "      <th></th>\n",
       "      <th></th>\n",
       "      <th></th>\n",
       "      <th></th>\n",
       "      <th></th>\n",
       "      <th></th>\n",
       "      <th></th>\n",
       "    </tr>\n",
       "  </thead>\n",
       "  <tbody>\n",
       "    <tr>\n",
       "      <th>2017-12-04</th>\n",
       "      <td>RPMA</td>\n",
       "      <td>Роснефть</td>\n",
       "      <td>ROSN</td>\n",
       "      <td>98</td>\n",
       "      <td>3.503776e+09</td>\n",
       "      <td>292.0</td>\n",
       "      <td>241.0320</td>\n",
       "      <td>292.70</td>\n",
       "      <td>246.8392</td>\n",
       "      <td>NaN</td>\n",
       "    </tr>\n",
       "    <tr>\n",
       "      <th>2017-12-05</th>\n",
       "      <td>RPMA</td>\n",
       "      <td>Роснефть</td>\n",
       "      <td>ROSN</td>\n",
       "      <td>102</td>\n",
       "      <td>3.585532e+09</td>\n",
       "      <td>292.7</td>\n",
       "      <td>14.5075</td>\n",
       "      <td>293.45</td>\n",
       "      <td>290.1500</td>\n",
       "      <td>NaN</td>\n",
       "    </tr>\n",
       "    <tr>\n",
       "      <th>2017-12-06</th>\n",
       "      <td>RPMA</td>\n",
       "      <td>Роснефть</td>\n",
       "      <td>ROSN</td>\n",
       "      <td>91</td>\n",
       "      <td>3.594788e+09</td>\n",
       "      <td>293.4</td>\n",
       "      <td>241.4470</td>\n",
       "      <td>293.40</td>\n",
       "      <td>290.9000</td>\n",
       "      <td>NaN</td>\n",
       "    </tr>\n",
       "    <tr>\n",
       "      <th>2017-12-07</th>\n",
       "      <td>RPMA</td>\n",
       "      <td>Роснефть</td>\n",
       "      <td>ROSN</td>\n",
       "      <td>97</td>\n",
       "      <td>3.211593e+09</td>\n",
       "      <td>292.4</td>\n",
       "      <td>241.6545</td>\n",
       "      <td>293.60</td>\n",
       "      <td>291.1500</td>\n",
       "      <td>NaN</td>\n",
       "    </tr>\n",
       "    <tr>\n",
       "      <th>2017-12-08</th>\n",
       "      <td>RPMA</td>\n",
       "      <td>Роснефть</td>\n",
       "      <td>ROSN</td>\n",
       "      <td>100</td>\n",
       "      <td>3.576409e+09</td>\n",
       "      <td>292.5</td>\n",
       "      <td>242.2770</td>\n",
       "      <td>293.50</td>\n",
       "      <td>291.9000</td>\n",
       "      <td>NaN</td>\n",
       "    </tr>\n",
       "  </tbody>\n",
       "</table>\n",
       "</div>"
      ],
      "text/plain": [
       "           BOARDID SHORTNAME SECID  NUMTRADES         VALUE   OPEN       LOW  \\\n",
       "TRADEDATE                                                                      \n",
       "2017-12-04    RPMA  Роснефть  ROSN         98  3.503776e+09  292.0  241.0320   \n",
       "2017-12-05    RPMA  Роснефть  ROSN        102  3.585532e+09  292.7   14.5075   \n",
       "2017-12-06    RPMA  Роснефть  ROSN         91  3.594788e+09  293.4  241.4470   \n",
       "2017-12-07    RPMA  Роснефть  ROSN         97  3.211593e+09  292.4  241.6545   \n",
       "2017-12-08    RPMA  Роснефть  ROSN        100  3.576409e+09  292.5  242.2770   \n",
       "\n",
       "              HIGH     CLOSE  WAPRICE  \n",
       "TRADEDATE                              \n",
       "2017-12-04  292.70  246.8392      NaN  \n",
       "2017-12-05  293.45  290.1500      NaN  \n",
       "2017-12-06  293.40  290.9000      NaN  \n",
       "2017-12-07  293.60  291.1500      NaN  \n",
       "2017-12-08  293.50  291.9000      NaN  "
      ]
     },
     "execution_count": 21,
     "metadata": {},
     "output_type": "execute_result"
    }
   ],
   "source": [
    "rosn=web.DataReader('ROSN', 'moex', start='2017-12-01', end='2018-12-31')\n",
    "rosn.head(5)"
   ]
  },
  {
   "cell_type": "code",
   "execution_count": 23,
   "metadata": {},
   "outputs": [
    {
     "data": {
      "text/html": [
       "<div>\n",
       "<style scoped>\n",
       "    .dataframe tbody tr th:only-of-type {\n",
       "        vertical-align: middle;\n",
       "    }\n",
       "\n",
       "    .dataframe tbody tr th {\n",
       "        vertical-align: top;\n",
       "    }\n",
       "\n",
       "    .dataframe thead th {\n",
       "        text-align: right;\n",
       "    }\n",
       "</style>\n",
       "<table border=\"1\" class=\"dataframe\">\n",
       "  <thead>\n",
       "    <tr style=\"text-align: right;\">\n",
       "      <th></th>\n",
       "      <th>name</th>\n",
       "      <th>code</th>\n",
       "      <th>market</th>\n",
       "    </tr>\n",
       "    <tr>\n",
       "      <th>id</th>\n",
       "      <th></th>\n",
       "      <th></th>\n",
       "      <th></th>\n",
       "    </tr>\n",
       "  </thead>\n",
       "  <tbody>\n",
       "    <tr>\n",
       "      <th>17273</th>\n",
       "      <td>Роснефть</td>\n",
       "      <td>ROSN</td>\n",
       "      <td>1</td>\n",
       "    </tr>\n",
       "    <tr>\n",
       "      <th>17265</th>\n",
       "      <td>ROSN</td>\n",
       "      <td>ROSN</td>\n",
       "      <td>3</td>\n",
       "    </tr>\n",
       "    <tr>\n",
       "      <th>17290</th>\n",
       "      <td>Роснефть</td>\n",
       "      <td>ROSN</td>\n",
       "      <td>8</td>\n",
       "    </tr>\n",
       "    <tr>\n",
       "      <th>19894</th>\n",
       "      <td>ROSN</td>\n",
       "      <td>ROSN</td>\n",
       "      <td>14</td>\n",
       "    </tr>\n",
       "    <tr>\n",
       "      <th>22428</th>\n",
       "      <td>ROSN(RTS-Standard)</td>\n",
       "      <td>ROSN</td>\n",
       "      <td>38</td>\n",
       "    </tr>\n",
       "    <tr>\n",
       "      <th>17273</th>\n",
       "      <td>Роснефть</td>\n",
       "      <td>ROSN</td>\n",
       "      <td>200</td>\n",
       "    </tr>\n",
       "    <tr>\n",
       "      <th>419953</th>\n",
       "      <td>Rosneft</td>\n",
       "      <td>ROSN</td>\n",
       "      <td>620</td>\n",
       "    </tr>\n",
       "  </tbody>\n",
       "</table>\n",
       "</div>"
      ],
      "text/plain": [
       "                      name  code  market\n",
       "id                                      \n",
       "17273             Роснефть  ROSN       1\n",
       "17265                 ROSN  ROSN       3\n",
       "17290             Роснефть  ROSN       8\n",
       "19894                 ROSN  ROSN      14\n",
       "22428   ROSN(RTS-Standard)  ROSN      38\n",
       "17273             Роснефть  ROSN     200\n",
       "419953             Rosneft  ROSN     620"
      ]
     },
     "execution_count": 23,
     "metadata": {},
     "output_type": "execute_result"
    }
   ],
   "source": [
    "exporter = Exporter()\n",
    "exporter.lookup(code='ROSN')"
   ]
  },
  {
   "cell_type": "code",
   "execution_count": 43,
   "metadata": {},
   "outputs": [
    {
     "data": {
      "text/html": [
       "<div>\n",
       "<style scoped>\n",
       "    .dataframe tbody tr th:only-of-type {\n",
       "        vertical-align: middle;\n",
       "    }\n",
       "\n",
       "    .dataframe tbody tr th {\n",
       "        vertical-align: top;\n",
       "    }\n",
       "\n",
       "    .dataframe thead th {\n",
       "        text-align: right;\n",
       "    }\n",
       "</style>\n",
       "<table border=\"1\" class=\"dataframe\">\n",
       "  <thead>\n",
       "    <tr style=\"text-align: right;\">\n",
       "      <th></th>\n",
       "      <th>name</th>\n",
       "      <th>code</th>\n",
       "      <th>market</th>\n",
       "    </tr>\n",
       "    <tr>\n",
       "      <th>id</th>\n",
       "      <th></th>\n",
       "      <th></th>\n",
       "      <th></th>\n",
       "    </tr>\n",
       "  </thead>\n",
       "  <tbody>\n",
       "    <tr>\n",
       "      <th>17273</th>\n",
       "      <td>Роснефть</td>\n",
       "      <td>ROSN</td>\n",
       "      <td>1</td>\n",
       "    </tr>\n",
       "  </tbody>\n",
       "</table>\n",
       "</div>"
      ],
      "text/plain": [
       "           name  code  market\n",
       "id                           \n",
       "17273  Роснефть  ROSN       1"
      ]
     },
     "metadata": {},
     "output_type": "display_data"
    },
    {
     "data": {
      "text/html": [
       "<div>\n",
       "<style scoped>\n",
       "    .dataframe tbody tr th:only-of-type {\n",
       "        vertical-align: middle;\n",
       "    }\n",
       "\n",
       "    .dataframe tbody tr th {\n",
       "        vertical-align: top;\n",
       "    }\n",
       "\n",
       "    .dataframe thead th {\n",
       "        text-align: right;\n",
       "    }\n",
       "</style>\n",
       "<table border=\"1\" class=\"dataframe\">\n",
       "  <thead>\n",
       "    <tr style=\"text-align: right;\">\n",
       "      <th></th>\n",
       "      <th>&lt;OPEN&gt;</th>\n",
       "      <th>&lt;HIGH&gt;</th>\n",
       "      <th>&lt;LOW&gt;</th>\n",
       "      <th>&lt;CLOSE&gt;</th>\n",
       "      <th>&lt;VOL&gt;</th>\n",
       "    </tr>\n",
       "    <tr>\n",
       "      <th>index</th>\n",
       "      <th></th>\n",
       "      <th></th>\n",
       "      <th></th>\n",
       "      <th></th>\n",
       "      <th></th>\n",
       "    </tr>\n",
       "  </thead>\n",
       "  <tbody>\n",
       "    <tr>\n",
       "      <th>2018-01-03</th>\n",
       "      <td>292.15</td>\n",
       "      <td>297.95</td>\n",
       "      <td>292.15</td>\n",
       "      <td>297.95</td>\n",
       "      <td>2231440</td>\n",
       "    </tr>\n",
       "    <tr>\n",
       "      <th>2018-01-04</th>\n",
       "      <td>299.00</td>\n",
       "      <td>308.25</td>\n",
       "      <td>297.60</td>\n",
       "      <td>307.00</td>\n",
       "      <td>5754500</td>\n",
       "    </tr>\n",
       "    <tr>\n",
       "      <th>2018-01-05</th>\n",
       "      <td>307.00</td>\n",
       "      <td>313.65</td>\n",
       "      <td>304.65</td>\n",
       "      <td>311.95</td>\n",
       "      <td>4236460</td>\n",
       "    </tr>\n",
       "    <tr>\n",
       "      <th>2018-01-09</th>\n",
       "      <td>312.55</td>\n",
       "      <td>316.25</td>\n",
       "      <td>311.15</td>\n",
       "      <td>315.10</td>\n",
       "      <td>4572510</td>\n",
       "    </tr>\n",
       "    <tr>\n",
       "      <th>2018-01-10</th>\n",
       "      <td>316.10</td>\n",
       "      <td>319.85</td>\n",
       "      <td>312.00</td>\n",
       "      <td>317.75</td>\n",
       "      <td>5560000</td>\n",
       "    </tr>\n",
       "  </tbody>\n",
       "</table>\n",
       "</div>"
      ],
      "text/plain": [
       "            <OPEN>  <HIGH>   <LOW>  <CLOSE>    <VOL>\n",
       "index                                               \n",
       "2018-01-03  292.15  297.95  292.15   297.95  2231440\n",
       "2018-01-04  299.00  308.25  297.60   307.00  5754500\n",
       "2018-01-05  307.00  313.65  304.65   311.95  4236460\n",
       "2018-01-09  312.55  316.25  311.15   315.10  4572510\n",
       "2018-01-10  316.10  319.85  312.00   317.75  5560000"
      ]
     },
     "execution_count": 43,
     "metadata": {},
     "output_type": "execute_result"
    }
   ],
   "source": [
    "start_date = datetime(2017, 12, 31)\n",
    "end_date = datetime(2018, 12, 31)\n",
    "rosn = exporter.lookup(code='ROSN',market=Market.SHARES)\n",
    "\n",
    "display(sber)\n",
    "\n",
    "data_daily = exporter.download(\n",
    "    rosn.index[0], \n",
    "    market=Market.SHARES,\n",
    "    start_date=start_date,\n",
    "    end_date=end_date\n",
    ")\n",
    "data_daily.head()"
   ]
  },
  {
   "cell_type": "code",
   "execution_count": 44,
   "metadata": {},
   "outputs": [
    {
     "data": {
      "text/html": [
       "<div>\n",
       "<style scoped>\n",
       "    .dataframe tbody tr th:only-of-type {\n",
       "        vertical-align: middle;\n",
       "    }\n",
       "\n",
       "    .dataframe tbody tr th {\n",
       "        vertical-align: top;\n",
       "    }\n",
       "\n",
       "    .dataframe thead th {\n",
       "        text-align: right;\n",
       "    }\n",
       "</style>\n",
       "<table border=\"1\" class=\"dataframe\">\n",
       "  <thead>\n",
       "    <tr style=\"text-align: right;\">\n",
       "      <th></th>\n",
       "      <th>Open</th>\n",
       "      <th>High</th>\n",
       "      <th>Low</th>\n",
       "      <th>Close</th>\n",
       "      <th>Volume</th>\n",
       "    </tr>\n",
       "    <tr>\n",
       "      <th>index</th>\n",
       "      <th></th>\n",
       "      <th></th>\n",
       "      <th></th>\n",
       "      <th></th>\n",
       "      <th></th>\n",
       "    </tr>\n",
       "  </thead>\n",
       "  <tbody>\n",
       "    <tr>\n",
       "      <th>2018-01-03</th>\n",
       "      <td>292.15</td>\n",
       "      <td>297.95</td>\n",
       "      <td>292.15</td>\n",
       "      <td>297.95</td>\n",
       "      <td>2231440</td>\n",
       "    </tr>\n",
       "    <tr>\n",
       "      <th>2018-01-04</th>\n",
       "      <td>299.00</td>\n",
       "      <td>308.25</td>\n",
       "      <td>297.60</td>\n",
       "      <td>307.00</td>\n",
       "      <td>5754500</td>\n",
       "    </tr>\n",
       "    <tr>\n",
       "      <th>2018-01-05</th>\n",
       "      <td>307.00</td>\n",
       "      <td>313.65</td>\n",
       "      <td>304.65</td>\n",
       "      <td>311.95</td>\n",
       "      <td>4236460</td>\n",
       "    </tr>\n",
       "    <tr>\n",
       "      <th>2018-01-09</th>\n",
       "      <td>312.55</td>\n",
       "      <td>316.25</td>\n",
       "      <td>311.15</td>\n",
       "      <td>315.10</td>\n",
       "      <td>4572510</td>\n",
       "    </tr>\n",
       "    <tr>\n",
       "      <th>2018-01-10</th>\n",
       "      <td>316.10</td>\n",
       "      <td>319.85</td>\n",
       "      <td>312.00</td>\n",
       "      <td>317.75</td>\n",
       "      <td>5560000</td>\n",
       "    </tr>\n",
       "  </tbody>\n",
       "</table>\n",
       "</div>"
      ],
      "text/plain": [
       "              Open    High     Low   Close   Volume\n",
       "index                                              \n",
       "2018-01-03  292.15  297.95  292.15  297.95  2231440\n",
       "2018-01-04  299.00  308.25  297.60  307.00  5754500\n",
       "2018-01-05  307.00  313.65  304.65  311.95  4236460\n",
       "2018-01-09  312.55  316.25  311.15  315.10  4572510\n",
       "2018-01-10  316.10  319.85  312.00  317.75  5560000"
      ]
     },
     "execution_count": 44,
     "metadata": {},
     "output_type": "execute_result"
    }
   ],
   "source": [
    "data_daily.columns = ['Open', 'High','Low','Close','Volume']\n",
    "data_daily.head(5)"
   ]
  },
  {
   "cell_type": "code",
   "execution_count": 45,
   "metadata": {},
   "outputs": [
    {
     "data": {
      "text/plain": [
       "index\n",
       "2018-01-31    120369350\n",
       "2018-02-28     84799770\n",
       "2018-03-31     93115390\n",
       "2018-04-30    195115790\n",
       "2018-05-31     95871390\n",
       "2018-06-30     82423870\n",
       "2018-07-31     58669390\n",
       "2018-08-31     72208990\n",
       "2018-09-30     63172060\n",
       "2018-10-31     83610160\n",
       "2018-11-30    107027800\n",
       "2018-12-31     75386260\n",
       "Freq: M, Name: Volume, dtype: int64"
      ]
     },
     "execution_count": 45,
     "metadata": {},
     "output_type": "execute_result"
    }
   ],
   "source": [
    "data_volume_month=data_daily.Volume.resample('m').sum()\n",
    "data_volume_month"
   ]
  },
  {
   "cell_type": "code",
   "execution_count": 46,
   "metadata": {},
   "outputs": [
    {
     "data": {
      "text/plain": [
       "array([292.15, 345.  , 326.95, 314.5 , 390.05, 384.2 , 394.5 , 418.5 ,\n",
       "       435.7 , 495.95, 460.  , 431.55])"
      ]
     },
     "execution_count": 46,
     "metadata": {},
     "output_type": "execute_result"
    }
   ],
   "source": [
    "open_m=data_daily.Open.resample('M').first().values\n",
    "open_m"
   ]
  },
  {
   "cell_type": "code",
   "execution_count": 47,
   "metadata": {},
   "outputs": [],
   "source": [
    "close_m=data_daily.Close.resample('M').last().values\n",
    "low_m=data_daily.Low.resample('M').min().values\n",
    "high_m=data_daily.High.resample('M').max().values"
   ]
  },
  {
   "cell_type": "code",
   "execution_count": 48,
   "metadata": {},
   "outputs": [
    {
     "data": {
      "text/plain": [
       "Index(['Jan', 'Feb', 'Mar', 'Apr', 'May', 'Jun', 'Jul', 'Aug', 'Sep', 'Oct',\n",
       "       'Nov', 'Dec'],\n",
       "      dtype='object')"
      ]
     },
     "execution_count": 48,
     "metadata": {},
     "output_type": "execute_result"
    }
   ],
   "source": [
    "month=data_daily.index.strftime('%b').unique()\n",
    "month"
   ]
  },
  {
   "cell_type": "code",
   "execution_count": 49,
   "metadata": {},
   "outputs": [
    {
     "data": {
      "text/plain": [
       "PeriodIndex(['2018-01', '2018-02', '2018-03', '2018-04', '2018-05', '2018-06',\n",
       "             '2018-07', '2018-08', '2018-09', '2018-10', '2018-11', '2018-12'],\n",
       "            dtype='period[M]', name='index', freq='M')"
      ]
     },
     "execution_count": 49,
     "metadata": {},
     "output_type": "execute_result"
    }
   ],
   "source": [
    "data_daily.to_period('M').index.unique()"
   ]
  },
  {
   "cell_type": "code",
   "execution_count": 50,
   "metadata": {},
   "outputs": [
    {
     "data": {
      "text/html": [
       "<div>\n",
       "<style scoped>\n",
       "    .dataframe tbody tr th:only-of-type {\n",
       "        vertical-align: middle;\n",
       "    }\n",
       "\n",
       "    .dataframe tbody tr th {\n",
       "        vertical-align: top;\n",
       "    }\n",
       "\n",
       "    .dataframe thead th {\n",
       "        text-align: right;\n",
       "    }\n",
       "</style>\n",
       "<table border=\"1\" class=\"dataframe\">\n",
       "  <thead>\n",
       "    <tr style=\"text-align: right;\">\n",
       "      <th></th>\n",
       "      <th>month</th>\n",
       "      <th>open</th>\n",
       "      <th>close</th>\n",
       "      <th>low</th>\n",
       "      <th>high</th>\n",
       "    </tr>\n",
       "    <tr>\n",
       "      <th>index</th>\n",
       "      <th></th>\n",
       "      <th></th>\n",
       "      <th></th>\n",
       "      <th></th>\n",
       "      <th></th>\n",
       "    </tr>\n",
       "  </thead>\n",
       "  <tbody>\n",
       "    <tr>\n",
       "      <th>2018-01</th>\n",
       "      <td>Jan</td>\n",
       "      <td>292.15</td>\n",
       "      <td>343.2</td>\n",
       "      <td>292.15</td>\n",
       "      <td>359.30</td>\n",
       "    </tr>\n",
       "    <tr>\n",
       "      <th>2018-02</th>\n",
       "      <td>Feb</td>\n",
       "      <td>345.00</td>\n",
       "      <td>330.5</td>\n",
       "      <td>319.50</td>\n",
       "      <td>353.00</td>\n",
       "    </tr>\n",
       "    <tr>\n",
       "      <th>2018-03</th>\n",
       "      <td>Mar</td>\n",
       "      <td>326.95</td>\n",
       "      <td>313.9</td>\n",
       "      <td>305.00</td>\n",
       "      <td>327.85</td>\n",
       "    </tr>\n",
       "  </tbody>\n",
       "</table>\n",
       "</div>"
      ],
      "text/plain": [
       "        month    open  close     low    high\n",
       "index                                       \n",
       "2018-01   Jan  292.15  343.2  292.15  359.30\n",
       "2018-02   Feb  345.00  330.5  319.50  353.00\n",
       "2018-03   Mar  326.95  313.9  305.00  327.85"
      ]
     },
     "execution_count": 50,
     "metadata": {},
     "output_type": "execute_result"
    }
   ],
   "source": [
    "moth_a = pd.DataFrame(\n",
    "    {'month':month,'open':open_m,'close':close_m,'low':low_m,'high':high_m},\n",
    "    index=data_daily.to_period('M').index.unique())\n",
    "moth_a.head(3)"
   ]
  },
  {
   "cell_type": "code",
   "execution_count": 51,
   "metadata": {},
   "outputs": [
    {
     "data": {
      "text/html": [
       "<div>\n",
       "<style scoped>\n",
       "    .dataframe tbody tr th:only-of-type {\n",
       "        vertical-align: middle;\n",
       "    }\n",
       "\n",
       "    .dataframe tbody tr th {\n",
       "        vertical-align: top;\n",
       "    }\n",
       "\n",
       "    .dataframe thead th {\n",
       "        text-align: right;\n",
       "    }\n",
       "</style>\n",
       "<table border=\"1\" class=\"dataframe\">\n",
       "  <thead>\n",
       "    <tr style=\"text-align: right;\">\n",
       "      <th></th>\n",
       "      <th>Open</th>\n",
       "      <th>Low</th>\n",
       "      <th>High</th>\n",
       "      <th>Close</th>\n",
       "    </tr>\n",
       "    <tr>\n",
       "      <th>index</th>\n",
       "      <th></th>\n",
       "      <th></th>\n",
       "      <th></th>\n",
       "      <th></th>\n",
       "    </tr>\n",
       "  </thead>\n",
       "  <tbody>\n",
       "    <tr>\n",
       "      <th>2018-01-31</th>\n",
       "      <td>292.15</td>\n",
       "      <td>292.15</td>\n",
       "      <td>359.30</td>\n",
       "      <td>343.20</td>\n",
       "    </tr>\n",
       "    <tr>\n",
       "      <th>2018-02-28</th>\n",
       "      <td>345.00</td>\n",
       "      <td>319.50</td>\n",
       "      <td>353.00</td>\n",
       "      <td>330.50</td>\n",
       "    </tr>\n",
       "    <tr>\n",
       "      <th>2018-03-31</th>\n",
       "      <td>326.95</td>\n",
       "      <td>305.00</td>\n",
       "      <td>327.85</td>\n",
       "      <td>313.90</td>\n",
       "    </tr>\n",
       "    <tr>\n",
       "      <th>2018-04-30</th>\n",
       "      <td>314.50</td>\n",
       "      <td>281.65</td>\n",
       "      <td>388.25</td>\n",
       "      <td>383.00</td>\n",
       "    </tr>\n",
       "    <tr>\n",
       "      <th>2018-05-31</th>\n",
       "      <td>390.05</td>\n",
       "      <td>374.25</td>\n",
       "      <td>408.05</td>\n",
       "      <td>385.30</td>\n",
       "    </tr>\n",
       "    <tr>\n",
       "      <th>2018-06-30</th>\n",
       "      <td>384.20</td>\n",
       "      <td>371.40</td>\n",
       "      <td>399.85</td>\n",
       "      <td>396.15</td>\n",
       "    </tr>\n",
       "    <tr>\n",
       "      <th>2018-07-31</th>\n",
       "      <td>394.50</td>\n",
       "      <td>388.35</td>\n",
       "      <td>419.00</td>\n",
       "      <td>419.00</td>\n",
       "    </tr>\n",
       "    <tr>\n",
       "      <th>2018-08-31</th>\n",
       "      <td>418.50</td>\n",
       "      <td>407.20</td>\n",
       "      <td>444.95</td>\n",
       "      <td>435.70</td>\n",
       "    </tr>\n",
       "    <tr>\n",
       "      <th>2018-09-30</th>\n",
       "      <td>435.70</td>\n",
       "      <td>432.40</td>\n",
       "      <td>495.00</td>\n",
       "      <td>493.00</td>\n",
       "    </tr>\n",
       "    <tr>\n",
       "      <th>2018-10-31</th>\n",
       "      <td>495.95</td>\n",
       "      <td>443.05</td>\n",
       "      <td>522.80</td>\n",
       "      <td>460.45</td>\n",
       "    </tr>\n",
       "    <tr>\n",
       "      <th>2018-11-30</th>\n",
       "      <td>460.00</td>\n",
       "      <td>397.25</td>\n",
       "      <td>487.85</td>\n",
       "      <td>423.10</td>\n",
       "    </tr>\n",
       "    <tr>\n",
       "      <th>2018-12-31</th>\n",
       "      <td>431.55</td>\n",
       "      <td>401.85</td>\n",
       "      <td>442.05</td>\n",
       "      <td>430.95</td>\n",
       "    </tr>\n",
       "  </tbody>\n",
       "</table>\n",
       "</div>"
      ],
      "text/plain": [
       "              Open     Low    High   Close\n",
       "index                                     \n",
       "2018-01-31  292.15  292.15  359.30  343.20\n",
       "2018-02-28  345.00  319.50  353.00  330.50\n",
       "2018-03-31  326.95  305.00  327.85  313.90\n",
       "2018-04-30  314.50  281.65  388.25  383.00\n",
       "2018-05-31  390.05  374.25  408.05  385.30\n",
       "2018-06-30  384.20  371.40  399.85  396.15\n",
       "2018-07-31  394.50  388.35  419.00  419.00\n",
       "2018-08-31  418.50  407.20  444.95  435.70\n",
       "2018-09-30  435.70  432.40  495.00  493.00\n",
       "2018-10-31  495.95  443.05  522.80  460.45\n",
       "2018-11-30  460.00  397.25  487.85  423.10\n",
       "2018-12-31  431.55  401.85  442.05  430.95"
      ]
     },
     "execution_count": 51,
     "metadata": {},
     "output_type": "execute_result"
    }
   ],
   "source": [
    "rosn_m = data_daily.resample('m').agg({'Open':'first','Low':'min','High':'max','Close':'last'})\n",
    "rosn_m"
   ]
  },
  {
   "cell_type": "code",
   "execution_count": 52,
   "metadata": {},
   "outputs": [
    {
     "data": {
      "application/vnd.plotly.v1+json": {
       "config": {
        "linkText": "Export to plot.ly",
        "plotlyServerURL": "https://plot.ly",
        "showLink": false
       },
       "data": [
        {
         "close": [
          297.95,
          307,
          311.95,
          315.1,
          317.75,
          325,
          324.35,
          319.95,
          317.5,
          326.5,
          333.1,
          328,
          332.95,
          335,
          344.5,
          351.5,
          351.8,
          346.35,
          342.1,
          343.2,
          344.95,
          339.9,
          338.3,
          330,
          336,
          326.65,
          324.55,
          325.3,
          325.4,
          326,
          324.3,
          324.2,
          324,
          322,
          333.5,
          337.3,
          341.8,
          337.5,
          330.5,
          323.5,
          319.5,
          320.5,
          318.7,
          315,
          313.25,
          314.7,
          312,
          310.35,
          314.2,
          319.3,
          316,
          317.55,
          317.5,
          316.15,
          314.5,
          308.05,
          309.65,
          308.8,
          316.35,
          313.9,
          309.05,
          313.25,
          319.6,
          322.65,
          319.6,
          299.5,
          307.6,
          324,
          333,
          323,
          319,
          329.5,
          333.1,
          337.3,
          338.95,
          351,
          352.25,
          370,
          375,
          380,
          381,
          383,
          401.05,
          387.15,
          386.75,
          388.25,
          393.05,
          395.7,
          401.45,
          403.55,
          394.85,
          389.8,
          381.85,
          387,
          386.9,
          385.55,
          377.7,
          378,
          378.3,
          379.55,
          383,
          381.05,
          385.3,
          382.55,
          384.9,
          381.95,
          380.8,
          380.05,
          381,
          382.15,
          384.55,
          382,
          381.7,
          383.25,
          387,
          392.35,
          390.2,
          392.75,
          390.8,
          393.95,
          389.3,
          394.6,
          396.5,
          396.15,
          394.7,
          389.95,
          393.25,
          406.05,
          403.4,
          408.15,
          413.2,
          409.85,
          406.45,
          406.9,
          407.3,
          399.5,
          400.9,
          400.5,
          393.25,
          394.5,
          394.9,
          395.8,
          397.35,
          403.5,
          406.45,
          419,
          416.6,
          416.8,
          411.25,
          419.35,
          427.9,
          429,
          432.3,
          433.25,
          437.2,
          431.3,
          428.55,
          422.3,
          425.8,
          427,
          434,
          437.3,
          430,
          428.1,
          434.75,
          436,
          440.5,
          437,
          435.7,
          438.75,
          439.35,
          434.5,
          436.05,
          439.55,
          449.45,
          448.8,
          444.9,
          442.4,
          441.35,
          441.3,
          440.4,
          437.85,
          438.7,
          440.4,
          447.05,
          460,
          458.5,
          478,
          493,
          494.05,
          491.4,
          512,
          508.2,
          503,
          479.45,
          473.1,
          468.75,
          462.55,
          465.1,
          462.05,
          468.7,
          467.85,
          466.6,
          467,
          465.3,
          455,
          463.5,
          458.4,
          453.3,
          458.5,
          453.7,
          460.45,
          460,
          459.6,
          482.45,
          484.1,
          475,
          468.6,
          463.5,
          443.6,
          427.15,
          424.25,
          420.85,
          424.1,
          413.55,
          411.85,
          411.1,
          405.2,
          407,
          419.8,
          421.45,
          417,
          423.1,
          434,
          439,
          439,
          430,
          439,
          428.5,
          425.55,
          422,
          415.75,
          418,
          416,
          412.15,
          418.2,
          415.6,
          415,
          414,
          409,
          414.5,
          420.5,
          425.95,
          430.95
         ],
         "high": [
          297.95,
          308.25,
          313.65,
          316.25,
          319.85,
          325,
          326.95,
          326.7,
          321.45,
          326.5,
          333.35,
          332.95,
          332.95,
          336.4,
          345.85,
          359.3,
          356.85,
          356.8,
          352.85,
          347.45,
          353,
          349,
          340.45,
          337.25,
          338.3,
          335.4,
          329.5,
          332.65,
          328.05,
          326.95,
          333.8,
          328.25,
          327.8,
          325.35,
          333.5,
          338,
          345.85,
          343.2,
          335.7,
          327.85,
          324.8,
          324.45,
          324.95,
          317.4,
          316.45,
          319.55,
          315.35,
          311.5,
          316,
          319.45,
          324.6,
          319.25,
          321.5,
          319.75,
          315.25,
          314.45,
          311.25,
          310.85,
          317.5,
          318.1,
          316.85,
          313.85,
          319.95,
          325.95,
          322.3,
          318.85,
          313.95,
          324,
          333,
          331.75,
          324.5,
          329.5,
          337.85,
          339,
          342.45,
          351,
          362.5,
          370,
          376,
          380.65,
          381.15,
          388.25,
          408.05,
          400.9,
          394.95,
          398.95,
          394.55,
          400,
          403.75,
          404.5,
          402,
          398,
          392.05,
          389.7,
          391.55,
          388.35,
          384.7,
          381.5,
          379.45,
          379.65,
          383.5,
          383.8,
          386,
          386.75,
          387.75,
          386.35,
          382.75,
          384,
          383.75,
          382.95,
          386.5,
          386.9,
          383.55,
          384.5,
          389.5,
          393.6,
          395.9,
          395.15,
          395.4,
          399.65,
          397.35,
          396.5,
          399.85,
          396.2,
          398.8,
          394.7,
          393.75,
          406.05,
          405,
          410.45,
          419,
          414.15,
          408.45,
          412,
          411.9,
          406.5,
          402.2,
          403.3,
          401.5,
          396.35,
          395.1,
          396.55,
          400,
          404.4,
          407,
          419,
          419.8,
          419.45,
          416.7,
          422.6,
          432.45,
          430,
          432.3,
          441.15,
          439.95,
          442,
          433.25,
          430,
          427.85,
          429.9,
          434,
          440,
          441.25,
          431.9,
          434.75,
          437.95,
          444.95,
          444.3,
          438.25,
          439.7,
          444.85,
          440.5,
          439,
          441.55,
          449.45,
          451.35,
          453.35,
          445.85,
          443.7,
          445,
          442,
          442.75,
          444.85,
          443.9,
          449.4,
          460.35,
          464.5,
          478,
          495,
          499,
          498.8,
          512.25,
          522.8,
          516,
          492.45,
          483.7,
          475.8,
          467.05,
          468.75,
          469.25,
          472,
          472.9,
          469.5,
          474.3,
          473.65,
          464.9,
          468.1,
          463,
          458.65,
          459.95,
          461.7,
          467,
          463.95,
          462.25,
          484.35,
          487.85,
          485,
          474.25,
          475.6,
          462.7,
          441.6,
          430.7,
          428.65,
          425.85,
          423.45,
          416,
          414.25,
          410.75,
          415.15,
          420.1,
          425.85,
          424.6,
          424.4,
          439.9,
          440.55,
          439,
          438.4,
          442.05,
          441,
          429.5,
          428.05,
          423,
          422.3,
          421.5,
          414.85,
          418.2,
          416.8,
          416.3,
          419.2,
          411.3,
          414.5,
          421.35,
          428.25,
          431.5
         ],
         "low": [
          292.15,
          297.6,
          304.65,
          311.15,
          312,
          316.05,
          318.55,
          318.75,
          314,
          312.95,
          325.05,
          326.65,
          324.4,
          329.2,
          331.6,
          343.5,
          346.3,
          346.35,
          341.5,
          338.5,
          344.55,
          337.25,
          332,
          328.35,
          332.4,
          326.6,
          320.35,
          324.7,
          323.5,
          322.75,
          324.3,
          323.1,
          322.05,
          320.55,
          319.5,
          329.05,
          340.6,
          336.65,
          329.15,
          322.1,
          314.6,
          319.3,
          318.05,
          312.2,
          312.25,
          313.1,
          312,
          307.55,
          305.55,
          311.5,
          316,
          312.6,
          316,
          315,
          311.25,
          308.05,
          308.15,
          305,
          309.7,
          313.2,
          309.05,
          309.05,
          313.3,
          320.1,
          318.05,
          281.65,
          296.4,
          306.9,
          316.2,
          319.8,
          315.1,
          320.05,
          326,
          333,
          334.1,
          336.1,
          347.8,
          348.05,
          364,
          373.5,
          376,
          379.15,
          389.3,
          386.1,
          385.05,
          387.5,
          385.8,
          393.2,
          392.45,
          397.45,
          392,
          388.65,
          381.85,
          380.1,
          385.45,
          381.5,
          376.05,
          374.25,
          374.7,
          374.25,
          376.55,
          379,
          381.1,
          381.65,
          382.85,
          371.4,
          377.1,
          380.05,
          378.45,
          381.05,
          378.85,
          381.2,
          377.3,
          379,
          379.4,
          383.25,
          387.7,
          387.05,
          388.45,
          388.7,
          388.7,
          387.7,
          394,
          391.05,
          392.5,
          388.35,
          388.35,
          391.95,
          398.8,
          402.4,
          407.25,
          407.15,
          399.6,
          403.45,
          404,
          398.15,
          396.7,
          397.2,
          391.1,
          391.4,
          390.35,
          390.85,
          393.85,
          397.35,
          399,
          405.6,
          412.1,
          413.65,
          407.2,
          412.5,
          420.6,
          418.8,
          424.3,
          429.7,
          429,
          430,
          425.05,
          422.1,
          421,
          418.05,
          425.85,
          432.4,
          426.25,
          425,
          426.5,
          432.15,
          435.35,
          435,
          430.95,
          432.4,
          436.85,
          434.45,
          433.2,
          432.4,
          438.95,
          446,
          441.15,
          438.5,
          437.85,
          437.55,
          435.75,
          436.8,
          438,
          434.45,
          440.45,
          446.55,
          454.7,
          456.7,
          476.45,
          487.8,
          489,
          491.5,
          500.85,
          498.35,
          478.05,
          473.1,
          466.7,
          458.15,
          463.65,
          460.2,
          462,
          466,
          462.65,
          464.6,
          463.6,
          450.3,
          455.25,
          453.5,
          448.9,
          453.05,
          443.05,
          456.2,
          455.5,
          456.75,
          461.7,
          478.7,
          473.4,
          465,
          462.5,
          443.6,
          425.5,
          421.85,
          420.5,
          421.2,
          412.25,
          409,
          408.1,
          401.25,
          397.25,
          408,
          418.7,
          412.5,
          414.4,
          429.25,
          433.25,
          430,
          422.55,
          429.15,
          424.3,
          421.5,
          419.15,
          414,
          414.35,
          414,
          407.15,
          406.5,
          410.1,
          405.05,
          412.45,
          401.85,
          409.5,
          416.35,
          421.7,
          421.4
         ],
         "open": [
          292.15,
          299,
          307,
          312.55,
          316.1,
          318.2,
          325.5,
          325,
          320,
          315.95,
          326.85,
          332.75,
          328,
          333.55,
          334.95,
          347.9,
          350,
          353,
          344.05,
          341.8,
          345,
          346.15,
          336,
          332.05,
          332.45,
          333,
          323.5,
          328.2,
          326.15,
          326.5,
          328.55,
          326.65,
          325.4,
          323.9,
          321.6,
          331.5,
          341.35,
          342.5,
          333.5,
          326.95,
          322.95,
          321.65,
          322.15,
          317.15,
          314.55,
          314.65,
          314.05,
          311,
          310,
          315.8,
          321.8,
          317,
          317.65,
          318.6,
          315.1,
          313.8,
          310.1,
          308.3,
          309.7,
          317.55,
          314.5,
          309.05,
          313.5,
          321,
          321.85,
          318.4,
          298.5,
          309,
          324.95,
          331.5,
          317.9,
          323.1,
          329.3,
          335.25,
          336.5,
          339,
          352.9,
          349.6,
          368.15,
          375,
          379.5,
          381.05,
          390.05,
          400.1,
          388,
          389.5,
          388.25,
          400,
          394.3,
          402.05,
          401.95,
          395.5,
          392,
          382.35,
          387.85,
          387.5,
          384.65,
          379.2,
          378.45,
          376.55,
          378.9,
          382.5,
          381.8,
          384.2,
          383.5,
          383.6,
          382,
          381.75,
          380.5,
          381.7,
          382.8,
          385.45,
          383.5,
          381.05,
          381.85,
          386.45,
          393.15,
          390.5,
          393.6,
          390,
          395.05,
          390.3,
          394.95,
          391.2,
          394.5,
          393.95,
          390.85,
          392.9,
          405,
          402.4,
          409.7,
          412,
          407,
          407.1,
          406.3,
          406.45,
          401,
          401.1,
          401.05,
          394.05,
          394.55,
          392.45,
          396.1,
          397.35,
          400.4,
          407,
          418.5,
          417.15,
          416.7,
          412.55,
          420.6,
          427,
          427.55,
          429.7,
          430.1,
          439.75,
          430.05,
          428.55,
          423.2,
          426.5,
          427.8,
          434.5,
          437.8,
          430.8,
          429.25,
          435.15,
          436,
          444.3,
          435,
          435.7,
          439,
          438.1,
          435,
          436,
          438.95,
          449.45,
          449.4,
          445.45,
          442.15,
          442.65,
          440.85,
          440.85,
          438.3,
          439.95,
          442.15,
          449.85,
          460.15,
          457.95,
          478.15,
          495.95,
          497,
          492.1,
          512,
          506,
          490.55,
          481.2,
          473.3,
          462,
          464.75,
          468.25,
          462.5,
          470.2,
          467.3,
          466.35,
          469,
          464,
          456.45,
          461.9,
          458.3,
          454.45,
          457.55,
          457,
          460,
          460.55,
          462.2,
          482.95,
          483.8,
          472.5,
          472.2,
          462,
          439.85,
          429.05,
          426,
          422.35,
          423.15,
          410.7,
          411.8,
          408.85,
          405.8,
          408.75,
          419.15,
          420.45,
          416.95,
          431.55,
          434.4,
          435,
          436,
          429.9,
          436.75,
          428.25,
          426.25,
          423,
          415.65,
          416.7,
          412.8,
          407.25,
          412.95,
          413,
          414.7,
          411,
          409.5,
          419.95,
          423,
          426.7
         ],
         "type": "ohlc",
         "x": [
          "2018-01-03T00:00:00",
          "2018-01-04T00:00:00",
          "2018-01-05T00:00:00",
          "2018-01-09T00:00:00",
          "2018-01-10T00:00:00",
          "2018-01-11T00:00:00",
          "2018-01-12T00:00:00",
          "2018-01-15T00:00:00",
          "2018-01-16T00:00:00",
          "2018-01-17T00:00:00",
          "2018-01-18T00:00:00",
          "2018-01-19T00:00:00",
          "2018-01-22T00:00:00",
          "2018-01-23T00:00:00",
          "2018-01-24T00:00:00",
          "2018-01-25T00:00:00",
          "2018-01-26T00:00:00",
          "2018-01-29T00:00:00",
          "2018-01-30T00:00:00",
          "2018-01-31T00:00:00",
          "2018-02-01T00:00:00",
          "2018-02-02T00:00:00",
          "2018-02-05T00:00:00",
          "2018-02-06T00:00:00",
          "2018-02-07T00:00:00",
          "2018-02-08T00:00:00",
          "2018-02-09T00:00:00",
          "2018-02-12T00:00:00",
          "2018-02-13T00:00:00",
          "2018-02-14T00:00:00",
          "2018-02-15T00:00:00",
          "2018-02-16T00:00:00",
          "2018-02-19T00:00:00",
          "2018-02-20T00:00:00",
          "2018-02-21T00:00:00",
          "2018-02-22T00:00:00",
          "2018-02-26T00:00:00",
          "2018-02-27T00:00:00",
          "2018-02-28T00:00:00",
          "2018-03-01T00:00:00",
          "2018-03-02T00:00:00",
          "2018-03-05T00:00:00",
          "2018-03-06T00:00:00",
          "2018-03-07T00:00:00",
          "2018-03-09T00:00:00",
          "2018-03-12T00:00:00",
          "2018-03-13T00:00:00",
          "2018-03-14T00:00:00",
          "2018-03-15T00:00:00",
          "2018-03-16T00:00:00",
          "2018-03-19T00:00:00",
          "2018-03-20T00:00:00",
          "2018-03-21T00:00:00",
          "2018-03-22T00:00:00",
          "2018-03-23T00:00:00",
          "2018-03-26T00:00:00",
          "2018-03-27T00:00:00",
          "2018-03-28T00:00:00",
          "2018-03-29T00:00:00",
          "2018-03-30T00:00:00",
          "2018-04-02T00:00:00",
          "2018-04-03T00:00:00",
          "2018-04-04T00:00:00",
          "2018-04-05T00:00:00",
          "2018-04-06T00:00:00",
          "2018-04-09T00:00:00",
          "2018-04-10T00:00:00",
          "2018-04-11T00:00:00",
          "2018-04-12T00:00:00",
          "2018-04-13T00:00:00",
          "2018-04-16T00:00:00",
          "2018-04-17T00:00:00",
          "2018-04-18T00:00:00",
          "2018-04-19T00:00:00",
          "2018-04-20T00:00:00",
          "2018-04-23T00:00:00",
          "2018-04-24T00:00:00",
          "2018-04-25T00:00:00",
          "2018-04-26T00:00:00",
          "2018-04-27T00:00:00",
          "2018-04-28T00:00:00",
          "2018-04-30T00:00:00",
          "2018-05-02T00:00:00",
          "2018-05-03T00:00:00",
          "2018-05-04T00:00:00",
          "2018-05-07T00:00:00",
          "2018-05-08T00:00:00",
          "2018-05-10T00:00:00",
          "2018-05-11T00:00:00",
          "2018-05-14T00:00:00",
          "2018-05-15T00:00:00",
          "2018-05-16T00:00:00",
          "2018-05-17T00:00:00",
          "2018-05-18T00:00:00",
          "2018-05-21T00:00:00",
          "2018-05-22T00:00:00",
          "2018-05-23T00:00:00",
          "2018-05-24T00:00:00",
          "2018-05-25T00:00:00",
          "2018-05-28T00:00:00",
          "2018-05-29T00:00:00",
          "2018-05-30T00:00:00",
          "2018-05-31T00:00:00",
          "2018-06-01T00:00:00",
          "2018-06-04T00:00:00",
          "2018-06-05T00:00:00",
          "2018-06-06T00:00:00",
          "2018-06-07T00:00:00",
          "2018-06-08T00:00:00",
          "2018-06-09T00:00:00",
          "2018-06-11T00:00:00",
          "2018-06-13T00:00:00",
          "2018-06-14T00:00:00",
          "2018-06-15T00:00:00",
          "2018-06-18T00:00:00",
          "2018-06-19T00:00:00",
          "2018-06-20T00:00:00",
          "2018-06-21T00:00:00",
          "2018-06-22T00:00:00",
          "2018-06-25T00:00:00",
          "2018-06-26T00:00:00",
          "2018-06-27T00:00:00",
          "2018-06-28T00:00:00",
          "2018-06-29T00:00:00",
          "2018-07-02T00:00:00",
          "2018-07-03T00:00:00",
          "2018-07-04T00:00:00",
          "2018-07-05T00:00:00",
          "2018-07-06T00:00:00",
          "2018-07-09T00:00:00",
          "2018-07-10T00:00:00",
          "2018-07-11T00:00:00",
          "2018-07-12T00:00:00",
          "2018-07-13T00:00:00",
          "2018-07-16T00:00:00",
          "2018-07-17T00:00:00",
          "2018-07-18T00:00:00",
          "2018-07-19T00:00:00",
          "2018-07-20T00:00:00",
          "2018-07-23T00:00:00",
          "2018-07-24T00:00:00",
          "2018-07-25T00:00:00",
          "2018-07-26T00:00:00",
          "2018-07-27T00:00:00",
          "2018-07-30T00:00:00",
          "2018-07-31T00:00:00",
          "2018-08-01T00:00:00",
          "2018-08-02T00:00:00",
          "2018-08-03T00:00:00",
          "2018-08-06T00:00:00",
          "2018-08-07T00:00:00",
          "2018-08-08T00:00:00",
          "2018-08-09T00:00:00",
          "2018-08-10T00:00:00",
          "2018-08-13T00:00:00",
          "2018-08-14T00:00:00",
          "2018-08-15T00:00:00",
          "2018-08-16T00:00:00",
          "2018-08-17T00:00:00",
          "2018-08-20T00:00:00",
          "2018-08-21T00:00:00",
          "2018-08-22T00:00:00",
          "2018-08-23T00:00:00",
          "2018-08-24T00:00:00",
          "2018-08-27T00:00:00",
          "2018-08-28T00:00:00",
          "2018-08-29T00:00:00",
          "2018-08-30T00:00:00",
          "2018-08-31T00:00:00",
          "2018-09-03T00:00:00",
          "2018-09-04T00:00:00",
          "2018-09-05T00:00:00",
          "2018-09-06T00:00:00",
          "2018-09-07T00:00:00",
          "2018-09-10T00:00:00",
          "2018-09-11T00:00:00",
          "2018-09-12T00:00:00",
          "2018-09-13T00:00:00",
          "2018-09-14T00:00:00",
          "2018-09-17T00:00:00",
          "2018-09-18T00:00:00",
          "2018-09-19T00:00:00",
          "2018-09-20T00:00:00",
          "2018-09-21T00:00:00",
          "2018-09-24T00:00:00",
          "2018-09-25T00:00:00",
          "2018-09-26T00:00:00",
          "2018-09-27T00:00:00",
          "2018-09-28T00:00:00",
          "2018-10-01T00:00:00",
          "2018-10-02T00:00:00",
          "2018-10-03T00:00:00",
          "2018-10-04T00:00:00",
          "2018-10-05T00:00:00",
          "2018-10-08T00:00:00",
          "2018-10-09T00:00:00",
          "2018-10-10T00:00:00",
          "2018-10-11T00:00:00",
          "2018-10-12T00:00:00",
          "2018-10-15T00:00:00",
          "2018-10-16T00:00:00",
          "2018-10-17T00:00:00",
          "2018-10-18T00:00:00",
          "2018-10-19T00:00:00",
          "2018-10-22T00:00:00",
          "2018-10-23T00:00:00",
          "2018-10-24T00:00:00",
          "2018-10-25T00:00:00",
          "2018-10-26T00:00:00",
          "2018-10-29T00:00:00",
          "2018-10-30T00:00:00",
          "2018-10-31T00:00:00",
          "2018-11-01T00:00:00",
          "2018-11-02T00:00:00",
          "2018-11-06T00:00:00",
          "2018-11-07T00:00:00",
          "2018-11-08T00:00:00",
          "2018-11-09T00:00:00",
          "2018-11-12T00:00:00",
          "2018-11-13T00:00:00",
          "2018-11-14T00:00:00",
          "2018-11-15T00:00:00",
          "2018-11-16T00:00:00",
          "2018-11-19T00:00:00",
          "2018-11-20T00:00:00",
          "2018-11-21T00:00:00",
          "2018-11-22T00:00:00",
          "2018-11-23T00:00:00",
          "2018-11-26T00:00:00",
          "2018-11-27T00:00:00",
          "2018-11-28T00:00:00",
          "2018-11-29T00:00:00",
          "2018-11-30T00:00:00",
          "2018-12-03T00:00:00",
          "2018-12-04T00:00:00",
          "2018-12-05T00:00:00",
          "2018-12-06T00:00:00",
          "2018-12-07T00:00:00",
          "2018-12-10T00:00:00",
          "2018-12-11T00:00:00",
          "2018-12-12T00:00:00",
          "2018-12-13T00:00:00",
          "2018-12-14T00:00:00",
          "2018-12-17T00:00:00",
          "2018-12-18T00:00:00",
          "2018-12-19T00:00:00",
          "2018-12-20T00:00:00",
          "2018-12-21T00:00:00",
          "2018-12-24T00:00:00",
          "2018-12-25T00:00:00",
          "2018-12-26T00:00:00",
          "2018-12-27T00:00:00",
          "2018-12-28T00:00:00",
          "2018-12-29T00:00:00"
         ]
        }
       ],
       "layout": {
        "template": {
         "data": {
          "bar": [
           {
            "error_x": {
             "color": "#2a3f5f"
            },
            "error_y": {
             "color": "#2a3f5f"
            },
            "marker": {
             "line": {
              "color": "#E5ECF6",
              "width": 0.5
             }
            },
            "type": "bar"
           }
          ],
          "barpolar": [
           {
            "marker": {
             "line": {
              "color": "#E5ECF6",
              "width": 0.5
             }
            },
            "type": "barpolar"
           }
          ],
          "carpet": [
           {
            "aaxis": {
             "endlinecolor": "#2a3f5f",
             "gridcolor": "white",
             "linecolor": "white",
             "minorgridcolor": "white",
             "startlinecolor": "#2a3f5f"
            },
            "baxis": {
             "endlinecolor": "#2a3f5f",
             "gridcolor": "white",
             "linecolor": "white",
             "minorgridcolor": "white",
             "startlinecolor": "#2a3f5f"
            },
            "type": "carpet"
           }
          ],
          "choropleth": [
           {
            "colorbar": {
             "outlinewidth": 0,
             "ticks": ""
            },
            "type": "choropleth"
           }
          ],
          "contour": [
           {
            "colorbar": {
             "outlinewidth": 0,
             "ticks": ""
            },
            "colorscale": [
             [
              0,
              "#0d0887"
             ],
             [
              0.1111111111111111,
              "#46039f"
             ],
             [
              0.2222222222222222,
              "#7201a8"
             ],
             [
              0.3333333333333333,
              "#9c179e"
             ],
             [
              0.4444444444444444,
              "#bd3786"
             ],
             [
              0.5555555555555556,
              "#d8576b"
             ],
             [
              0.6666666666666666,
              "#ed7953"
             ],
             [
              0.7777777777777778,
              "#fb9f3a"
             ],
             [
              0.8888888888888888,
              "#fdca26"
             ],
             [
              1,
              "#f0f921"
             ]
            ],
            "type": "contour"
           }
          ],
          "contourcarpet": [
           {
            "colorbar": {
             "outlinewidth": 0,
             "ticks": ""
            },
            "type": "contourcarpet"
           }
          ],
          "heatmap": [
           {
            "colorbar": {
             "outlinewidth": 0,
             "ticks": ""
            },
            "colorscale": [
             [
              0,
              "#0d0887"
             ],
             [
              0.1111111111111111,
              "#46039f"
             ],
             [
              0.2222222222222222,
              "#7201a8"
             ],
             [
              0.3333333333333333,
              "#9c179e"
             ],
             [
              0.4444444444444444,
              "#bd3786"
             ],
             [
              0.5555555555555556,
              "#d8576b"
             ],
             [
              0.6666666666666666,
              "#ed7953"
             ],
             [
              0.7777777777777778,
              "#fb9f3a"
             ],
             [
              0.8888888888888888,
              "#fdca26"
             ],
             [
              1,
              "#f0f921"
             ]
            ],
            "type": "heatmap"
           }
          ],
          "heatmapgl": [
           {
            "colorbar": {
             "outlinewidth": 0,
             "ticks": ""
            },
            "colorscale": [
             [
              0,
              "#0d0887"
             ],
             [
              0.1111111111111111,
              "#46039f"
             ],
             [
              0.2222222222222222,
              "#7201a8"
             ],
             [
              0.3333333333333333,
              "#9c179e"
             ],
             [
              0.4444444444444444,
              "#bd3786"
             ],
             [
              0.5555555555555556,
              "#d8576b"
             ],
             [
              0.6666666666666666,
              "#ed7953"
             ],
             [
              0.7777777777777778,
              "#fb9f3a"
             ],
             [
              0.8888888888888888,
              "#fdca26"
             ],
             [
              1,
              "#f0f921"
             ]
            ],
            "type": "heatmapgl"
           }
          ],
          "histogram": [
           {
            "marker": {
             "colorbar": {
              "outlinewidth": 0,
              "ticks": ""
             }
            },
            "type": "histogram"
           }
          ],
          "histogram2d": [
           {
            "colorbar": {
             "outlinewidth": 0,
             "ticks": ""
            },
            "colorscale": [
             [
              0,
              "#0d0887"
             ],
             [
              0.1111111111111111,
              "#46039f"
             ],
             [
              0.2222222222222222,
              "#7201a8"
             ],
             [
              0.3333333333333333,
              "#9c179e"
             ],
             [
              0.4444444444444444,
              "#bd3786"
             ],
             [
              0.5555555555555556,
              "#d8576b"
             ],
             [
              0.6666666666666666,
              "#ed7953"
             ],
             [
              0.7777777777777778,
              "#fb9f3a"
             ],
             [
              0.8888888888888888,
              "#fdca26"
             ],
             [
              1,
              "#f0f921"
             ]
            ],
            "type": "histogram2d"
           }
          ],
          "histogram2dcontour": [
           {
            "colorbar": {
             "outlinewidth": 0,
             "ticks": ""
            },
            "colorscale": [
             [
              0,
              "#0d0887"
             ],
             [
              0.1111111111111111,
              "#46039f"
             ],
             [
              0.2222222222222222,
              "#7201a8"
             ],
             [
              0.3333333333333333,
              "#9c179e"
             ],
             [
              0.4444444444444444,
              "#bd3786"
             ],
             [
              0.5555555555555556,
              "#d8576b"
             ],
             [
              0.6666666666666666,
              "#ed7953"
             ],
             [
              0.7777777777777778,
              "#fb9f3a"
             ],
             [
              0.8888888888888888,
              "#fdca26"
             ],
             [
              1,
              "#f0f921"
             ]
            ],
            "type": "histogram2dcontour"
           }
          ],
          "mesh3d": [
           {
            "colorbar": {
             "outlinewidth": 0,
             "ticks": ""
            },
            "type": "mesh3d"
           }
          ],
          "parcoords": [
           {
            "line": {
             "colorbar": {
              "outlinewidth": 0,
              "ticks": ""
             }
            },
            "type": "parcoords"
           }
          ],
          "pie": [
           {
            "automargin": true,
            "type": "pie"
           }
          ],
          "scatter": [
           {
            "marker": {
             "colorbar": {
              "outlinewidth": 0,
              "ticks": ""
             }
            },
            "type": "scatter"
           }
          ],
          "scatter3d": [
           {
            "line": {
             "colorbar": {
              "outlinewidth": 0,
              "ticks": ""
             }
            },
            "marker": {
             "colorbar": {
              "outlinewidth": 0,
              "ticks": ""
             }
            },
            "type": "scatter3d"
           }
          ],
          "scattercarpet": [
           {
            "marker": {
             "colorbar": {
              "outlinewidth": 0,
              "ticks": ""
             }
            },
            "type": "scattercarpet"
           }
          ],
          "scattergeo": [
           {
            "marker": {
             "colorbar": {
              "outlinewidth": 0,
              "ticks": ""
             }
            },
            "type": "scattergeo"
           }
          ],
          "scattergl": [
           {
            "marker": {
             "colorbar": {
              "outlinewidth": 0,
              "ticks": ""
             }
            },
            "type": "scattergl"
           }
          ],
          "scattermapbox": [
           {
            "marker": {
             "colorbar": {
              "outlinewidth": 0,
              "ticks": ""
             }
            },
            "type": "scattermapbox"
           }
          ],
          "scatterpolar": [
           {
            "marker": {
             "colorbar": {
              "outlinewidth": 0,
              "ticks": ""
             }
            },
            "type": "scatterpolar"
           }
          ],
          "scatterpolargl": [
           {
            "marker": {
             "colorbar": {
              "outlinewidth": 0,
              "ticks": ""
             }
            },
            "type": "scatterpolargl"
           }
          ],
          "scatterternary": [
           {
            "marker": {
             "colorbar": {
              "outlinewidth": 0,
              "ticks": ""
             }
            },
            "type": "scatterternary"
           }
          ],
          "surface": [
           {
            "colorbar": {
             "outlinewidth": 0,
             "ticks": ""
            },
            "colorscale": [
             [
              0,
              "#0d0887"
             ],
             [
              0.1111111111111111,
              "#46039f"
             ],
             [
              0.2222222222222222,
              "#7201a8"
             ],
             [
              0.3333333333333333,
              "#9c179e"
             ],
             [
              0.4444444444444444,
              "#bd3786"
             ],
             [
              0.5555555555555556,
              "#d8576b"
             ],
             [
              0.6666666666666666,
              "#ed7953"
             ],
             [
              0.7777777777777778,
              "#fb9f3a"
             ],
             [
              0.8888888888888888,
              "#fdca26"
             ],
             [
              1,
              "#f0f921"
             ]
            ],
            "type": "surface"
           }
          ],
          "table": [
           {
            "cells": {
             "fill": {
              "color": "#EBF0F8"
             },
             "line": {
              "color": "white"
             }
            },
            "header": {
             "fill": {
              "color": "#C8D4E3"
             },
             "line": {
              "color": "white"
             }
            },
            "type": "table"
           }
          ]
         },
         "layout": {
          "annotationdefaults": {
           "arrowcolor": "#2a3f5f",
           "arrowhead": 0,
           "arrowwidth": 1
          },
          "coloraxis": {
           "colorbar": {
            "outlinewidth": 0,
            "ticks": ""
           }
          },
          "colorscale": {
           "diverging": [
            [
             0,
             "#8e0152"
            ],
            [
             0.1,
             "#c51b7d"
            ],
            [
             0.2,
             "#de77ae"
            ],
            [
             0.3,
             "#f1b6da"
            ],
            [
             0.4,
             "#fde0ef"
            ],
            [
             0.5,
             "#f7f7f7"
            ],
            [
             0.6,
             "#e6f5d0"
            ],
            [
             0.7,
             "#b8e186"
            ],
            [
             0.8,
             "#7fbc41"
            ],
            [
             0.9,
             "#4d9221"
            ],
            [
             1,
             "#276419"
            ]
           ],
           "sequential": [
            [
             0,
             "#0d0887"
            ],
            [
             0.1111111111111111,
             "#46039f"
            ],
            [
             0.2222222222222222,
             "#7201a8"
            ],
            [
             0.3333333333333333,
             "#9c179e"
            ],
            [
             0.4444444444444444,
             "#bd3786"
            ],
            [
             0.5555555555555556,
             "#d8576b"
            ],
            [
             0.6666666666666666,
             "#ed7953"
            ],
            [
             0.7777777777777778,
             "#fb9f3a"
            ],
            [
             0.8888888888888888,
             "#fdca26"
            ],
            [
             1,
             "#f0f921"
            ]
           ],
           "sequentialminus": [
            [
             0,
             "#0d0887"
            ],
            [
             0.1111111111111111,
             "#46039f"
            ],
            [
             0.2222222222222222,
             "#7201a8"
            ],
            [
             0.3333333333333333,
             "#9c179e"
            ],
            [
             0.4444444444444444,
             "#bd3786"
            ],
            [
             0.5555555555555556,
             "#d8576b"
            ],
            [
             0.6666666666666666,
             "#ed7953"
            ],
            [
             0.7777777777777778,
             "#fb9f3a"
            ],
            [
             0.8888888888888888,
             "#fdca26"
            ],
            [
             1,
             "#f0f921"
            ]
           ]
          },
          "colorway": [
           "#636efa",
           "#EF553B",
           "#00cc96",
           "#ab63fa",
           "#FFA15A",
           "#19d3f3",
           "#FF6692",
           "#B6E880",
           "#FF97FF",
           "#FECB52"
          ],
          "font": {
           "color": "#2a3f5f"
          },
          "geo": {
           "bgcolor": "white",
           "lakecolor": "white",
           "landcolor": "#E5ECF6",
           "showlakes": true,
           "showland": true,
           "subunitcolor": "white"
          },
          "hoverlabel": {
           "align": "left"
          },
          "hovermode": "closest",
          "mapbox": {
           "style": "light"
          },
          "paper_bgcolor": "white",
          "plot_bgcolor": "#E5ECF6",
          "polar": {
           "angularaxis": {
            "gridcolor": "white",
            "linecolor": "white",
            "ticks": ""
           },
           "bgcolor": "#E5ECF6",
           "radialaxis": {
            "gridcolor": "white",
            "linecolor": "white",
            "ticks": ""
           }
          },
          "scene": {
           "xaxis": {
            "backgroundcolor": "#E5ECF6",
            "gridcolor": "white",
            "gridwidth": 2,
            "linecolor": "white",
            "showbackground": true,
            "ticks": "",
            "zerolinecolor": "white"
           },
           "yaxis": {
            "backgroundcolor": "#E5ECF6",
            "gridcolor": "white",
            "gridwidth": 2,
            "linecolor": "white",
            "showbackground": true,
            "ticks": "",
            "zerolinecolor": "white"
           },
           "zaxis": {
            "backgroundcolor": "#E5ECF6",
            "gridcolor": "white",
            "gridwidth": 2,
            "linecolor": "white",
            "showbackground": true,
            "ticks": "",
            "zerolinecolor": "white"
           }
          },
          "shapedefaults": {
           "line": {
            "color": "#2a3f5f"
           }
          },
          "ternary": {
           "aaxis": {
            "gridcolor": "white",
            "linecolor": "white",
            "ticks": ""
           },
           "baxis": {
            "gridcolor": "white",
            "linecolor": "white",
            "ticks": ""
           },
           "bgcolor": "#E5ECF6",
           "caxis": {
            "gridcolor": "white",
            "linecolor": "white",
            "ticks": ""
           }
          },
          "title": {
           "x": 0.05
          },
          "xaxis": {
           "automargin": true,
           "gridcolor": "white",
           "linecolor": "white",
           "ticks": "",
           "title": {
            "standoff": 15
           },
           "zerolinecolor": "white",
           "zerolinewidth": 2
          },
          "yaxis": {
           "automargin": true,
           "gridcolor": "white",
           "linecolor": "white",
           "ticks": "",
           "title": {
            "standoff": 15
           },
           "zerolinecolor": "white",
           "zerolinewidth": 2
          }
         }
        }
       }
      },
      "text/html": [
       "<div>\n",
       "        \n",
       "        \n",
       "            <div id=\"d10f23a1-9da1-4db5-9227-5144864ab0ec\" class=\"plotly-graph-div\" style=\"height:525px; width:100%;\"></div>\n",
       "            <script type=\"text/javascript\">\n",
       "                require([\"plotly\"], function(Plotly) {\n",
       "                    window.PLOTLYENV=window.PLOTLYENV || {};\n",
       "                    \n",
       "                if (document.getElementById(\"d10f23a1-9da1-4db5-9227-5144864ab0ec\")) {\n",
       "                    Plotly.newPlot(\n",
       "                        'd10f23a1-9da1-4db5-9227-5144864ab0ec',\n",
       "                        [{\"close\": [297.95, 307.0, 311.95, 315.1, 317.75, 325.0, 324.35, 319.95, 317.5, 326.5, 333.1, 328.0, 332.95, 335.0, 344.5, 351.5, 351.8, 346.35, 342.1, 343.2, 344.95, 339.9, 338.3, 330.0, 336.0, 326.65, 324.55, 325.3, 325.4, 326.0, 324.3, 324.2, 324.0, 322.0, 333.5, 337.3, 341.8, 337.5, 330.5, 323.5, 319.5, 320.5, 318.7, 315.0, 313.25, 314.7, 312.0, 310.35, 314.2, 319.3, 316.0, 317.55, 317.5, 316.15, 314.5, 308.05, 309.65, 308.8, 316.35, 313.9, 309.05, 313.25, 319.6, 322.65, 319.6, 299.5, 307.6, 324.0, 333.0, 323.0, 319.0, 329.5, 333.1, 337.3, 338.95, 351.0, 352.25, 370.0, 375.0, 380.0, 381.0, 383.0, 401.05, 387.15, 386.75, 388.25, 393.05, 395.7, 401.45, 403.55, 394.85, 389.8, 381.85, 387.0, 386.9, 385.55, 377.7, 378.0, 378.3, 379.55, 383.0, 381.05, 385.3, 382.55, 384.9, 381.95, 380.8, 380.05, 381.0, 382.15, 384.55, 382.0, 381.7, 383.25, 387.0, 392.35, 390.2, 392.75, 390.8, 393.95, 389.3, 394.6, 396.5, 396.15, 394.7, 389.95, 393.25, 406.05, 403.4, 408.15, 413.2, 409.85, 406.45, 406.9, 407.3, 399.5, 400.9, 400.5, 393.25, 394.5, 394.9, 395.8, 397.35, 403.5, 406.45, 419.0, 416.6, 416.8, 411.25, 419.35, 427.9, 429.0, 432.3, 433.25, 437.2, 431.3, 428.55, 422.3, 425.8, 427.0, 434.0, 437.3, 430.0, 428.1, 434.75, 436.0, 440.5, 437.0, 435.7, 438.75, 439.35, 434.5, 436.05, 439.55, 449.45, 448.8, 444.9, 442.4, 441.35, 441.3, 440.4, 437.85, 438.7, 440.4, 447.05, 460.0, 458.5, 478.0, 493.0, 494.05, 491.4, 512.0, 508.2, 503.0, 479.45, 473.1, 468.75, 462.55, 465.1, 462.05, 468.7, 467.85, 466.6, 467.0, 465.3, 455.0, 463.5, 458.4, 453.3, 458.5, 453.7, 460.45, 460.0, 459.6, 482.45, 484.1, 475.0, 468.6, 463.5, 443.6, 427.15, 424.25, 420.85, 424.1, 413.55, 411.85, 411.1, 405.2, 407.0, 419.8, 421.45, 417.0, 423.1, 434.0, 439.0, 439.0, 430.0, 439.0, 428.5, 425.55, 422.0, 415.75, 418.0, 416.0, 412.15, 418.2, 415.6, 415.0, 414.0, 409.0, 414.5, 420.5, 425.95, 430.95], \"high\": [297.95, 308.25, 313.65, 316.25, 319.85, 325.0, 326.95, 326.7, 321.45, 326.5, 333.35, 332.95, 332.95, 336.4, 345.85, 359.3, 356.85, 356.8, 352.85, 347.45, 353.0, 349.0, 340.45, 337.25, 338.3, 335.4, 329.5, 332.65, 328.05, 326.95, 333.8, 328.25, 327.8, 325.35, 333.5, 338.0, 345.85, 343.2, 335.7, 327.85, 324.8, 324.45, 324.95, 317.4, 316.45, 319.55, 315.35, 311.5, 316.0, 319.45, 324.6, 319.25, 321.5, 319.75, 315.25, 314.45, 311.25, 310.85, 317.5, 318.1, 316.85, 313.85, 319.95, 325.95, 322.3, 318.85, 313.95, 324.0, 333.0, 331.75, 324.5, 329.5, 337.85, 339.0, 342.45, 351.0, 362.5, 370.0, 376.0, 380.65, 381.15, 388.25, 408.05, 400.9, 394.95, 398.95, 394.55, 400.0, 403.75, 404.5, 402.0, 398.0, 392.05, 389.7, 391.55, 388.35, 384.7, 381.5, 379.45, 379.65, 383.5, 383.8, 386.0, 386.75, 387.75, 386.35, 382.75, 384.0, 383.75, 382.95, 386.5, 386.9, 383.55, 384.5, 389.5, 393.6, 395.9, 395.15, 395.4, 399.65, 397.35, 396.5, 399.85, 396.2, 398.8, 394.7, 393.75, 406.05, 405.0, 410.45, 419.0, 414.15, 408.45, 412.0, 411.9, 406.5, 402.2, 403.3, 401.5, 396.35, 395.1, 396.55, 400.0, 404.4, 407.0, 419.0, 419.8, 419.45, 416.7, 422.6, 432.45, 430.0, 432.3, 441.15, 439.95, 442.0, 433.25, 430.0, 427.85, 429.9, 434.0, 440.0, 441.25, 431.9, 434.75, 437.95, 444.95, 444.3, 438.25, 439.7, 444.85, 440.5, 439.0, 441.55, 449.45, 451.35, 453.35, 445.85, 443.7, 445.0, 442.0, 442.75, 444.85, 443.9, 449.4, 460.35, 464.5, 478.0, 495.0, 499.0, 498.8, 512.25, 522.8, 516.0, 492.45, 483.7, 475.8, 467.05, 468.75, 469.25, 472.0, 472.9, 469.5, 474.3, 473.65, 464.9, 468.1, 463.0, 458.65, 459.95, 461.7, 467.0, 463.95, 462.25, 484.35, 487.85, 485.0, 474.25, 475.6, 462.7, 441.6, 430.7, 428.65, 425.85, 423.45, 416.0, 414.25, 410.75, 415.15, 420.1, 425.85, 424.6, 424.4, 439.9, 440.55, 439.0, 438.4, 442.05, 441.0, 429.5, 428.05, 423.0, 422.3, 421.5, 414.85, 418.2, 416.8, 416.3, 419.2, 411.3, 414.5, 421.35, 428.25, 431.5], \"low\": [292.15, 297.6, 304.65, 311.15, 312.0, 316.05, 318.55, 318.75, 314.0, 312.95, 325.05, 326.65, 324.4, 329.2, 331.6, 343.5, 346.3, 346.35, 341.5, 338.5, 344.55, 337.25, 332.0, 328.35, 332.4, 326.6, 320.35, 324.7, 323.5, 322.75, 324.3, 323.1, 322.05, 320.55, 319.5, 329.05, 340.6, 336.65, 329.15, 322.1, 314.6, 319.3, 318.05, 312.2, 312.25, 313.1, 312.0, 307.55, 305.55, 311.5, 316.0, 312.6, 316.0, 315.0, 311.25, 308.05, 308.15, 305.0, 309.7, 313.2, 309.05, 309.05, 313.3, 320.1, 318.05, 281.65, 296.4, 306.9, 316.2, 319.8, 315.1, 320.05, 326.0, 333.0, 334.1, 336.1, 347.8, 348.05, 364.0, 373.5, 376.0, 379.15, 389.3, 386.1, 385.05, 387.5, 385.8, 393.2, 392.45, 397.45, 392.0, 388.65, 381.85, 380.1, 385.45, 381.5, 376.05, 374.25, 374.7, 374.25, 376.55, 379.0, 381.1, 381.65, 382.85, 371.4, 377.1, 380.05, 378.45, 381.05, 378.85, 381.2, 377.3, 379.0, 379.4, 383.25, 387.7, 387.05, 388.45, 388.7, 388.7, 387.7, 394.0, 391.05, 392.5, 388.35, 388.35, 391.95, 398.8, 402.4, 407.25, 407.15, 399.6, 403.45, 404.0, 398.15, 396.7, 397.2, 391.1, 391.4, 390.35, 390.85, 393.85, 397.35, 399.0, 405.6, 412.1, 413.65, 407.2, 412.5, 420.6, 418.8, 424.3, 429.7, 429.0, 430.0, 425.05, 422.1, 421.0, 418.05, 425.85, 432.4, 426.25, 425.0, 426.5, 432.15, 435.35, 435.0, 430.95, 432.4, 436.85, 434.45, 433.2, 432.4, 438.95, 446.0, 441.15, 438.5, 437.85, 437.55, 435.75, 436.8, 438.0, 434.45, 440.45, 446.55, 454.7, 456.7, 476.45, 487.8, 489.0, 491.5, 500.85, 498.35, 478.05, 473.1, 466.7, 458.15, 463.65, 460.2, 462.0, 466.0, 462.65, 464.6, 463.6, 450.3, 455.25, 453.5, 448.9, 453.05, 443.05, 456.2, 455.5, 456.75, 461.7, 478.7, 473.4, 465.0, 462.5, 443.6, 425.5, 421.85, 420.5, 421.2, 412.25, 409.0, 408.1, 401.25, 397.25, 408.0, 418.7, 412.5, 414.4, 429.25, 433.25, 430.0, 422.55, 429.15, 424.3, 421.5, 419.15, 414.0, 414.35, 414.0, 407.15, 406.5, 410.1, 405.05, 412.45, 401.85, 409.5, 416.35, 421.7, 421.4], \"open\": [292.15, 299.0, 307.0, 312.55, 316.1, 318.2, 325.5, 325.0, 320.0, 315.95, 326.85, 332.75, 328.0, 333.55, 334.95, 347.9, 350.0, 353.0, 344.05, 341.8, 345.0, 346.15, 336.0, 332.05, 332.45, 333.0, 323.5, 328.2, 326.15, 326.5, 328.55, 326.65, 325.4, 323.9, 321.6, 331.5, 341.35, 342.5, 333.5, 326.95, 322.95, 321.65, 322.15, 317.15, 314.55, 314.65, 314.05, 311.0, 310.0, 315.8, 321.8, 317.0, 317.65, 318.6, 315.1, 313.8, 310.1, 308.3, 309.7, 317.55, 314.5, 309.05, 313.5, 321.0, 321.85, 318.4, 298.5, 309.0, 324.95, 331.5, 317.9, 323.1, 329.3, 335.25, 336.5, 339.0, 352.9, 349.6, 368.15, 375.0, 379.5, 381.05, 390.05, 400.1, 388.0, 389.5, 388.25, 400.0, 394.3, 402.05, 401.95, 395.5, 392.0, 382.35, 387.85, 387.5, 384.65, 379.2, 378.45, 376.55, 378.9, 382.5, 381.8, 384.2, 383.5, 383.6, 382.0, 381.75, 380.5, 381.7, 382.8, 385.45, 383.5, 381.05, 381.85, 386.45, 393.15, 390.5, 393.6, 390.0, 395.05, 390.3, 394.95, 391.2, 394.5, 393.95, 390.85, 392.9, 405.0, 402.4, 409.7, 412.0, 407.0, 407.1, 406.3, 406.45, 401.0, 401.1, 401.05, 394.05, 394.55, 392.45, 396.1, 397.35, 400.4, 407.0, 418.5, 417.15, 416.7, 412.55, 420.6, 427.0, 427.55, 429.7, 430.1, 439.75, 430.05, 428.55, 423.2, 426.5, 427.8, 434.5, 437.8, 430.8, 429.25, 435.15, 436.0, 444.3, 435.0, 435.7, 439.0, 438.1, 435.0, 436.0, 438.95, 449.45, 449.4, 445.45, 442.15, 442.65, 440.85, 440.85, 438.3, 439.95, 442.15, 449.85, 460.15, 457.95, 478.15, 495.95, 497.0, 492.1, 512.0, 506.0, 490.55, 481.2, 473.3, 462.0, 464.75, 468.25, 462.5, 470.2, 467.3, 466.35, 469.0, 464.0, 456.45, 461.9, 458.3, 454.45, 457.55, 457.0, 460.0, 460.55, 462.2, 482.95, 483.8, 472.5, 472.2, 462.0, 439.85, 429.05, 426.0, 422.35, 423.15, 410.7, 411.8, 408.85, 405.8, 408.75, 419.15, 420.45, 416.95, 431.55, 434.4, 435.0, 436.0, 429.9, 436.75, 428.25, 426.25, 423.0, 415.65, 416.7, 412.8, 407.25, 412.95, 413.0, 414.7, 411.0, 409.5, 419.95, 423.0, 426.7], \"type\": \"ohlc\", \"x\": [\"2018-01-03T00:00:00\", \"2018-01-04T00:00:00\", \"2018-01-05T00:00:00\", \"2018-01-09T00:00:00\", \"2018-01-10T00:00:00\", \"2018-01-11T00:00:00\", \"2018-01-12T00:00:00\", \"2018-01-15T00:00:00\", \"2018-01-16T00:00:00\", \"2018-01-17T00:00:00\", \"2018-01-18T00:00:00\", \"2018-01-19T00:00:00\", \"2018-01-22T00:00:00\", \"2018-01-23T00:00:00\", \"2018-01-24T00:00:00\", \"2018-01-25T00:00:00\", \"2018-01-26T00:00:00\", \"2018-01-29T00:00:00\", \"2018-01-30T00:00:00\", \"2018-01-31T00:00:00\", \"2018-02-01T00:00:00\", \"2018-02-02T00:00:00\", \"2018-02-05T00:00:00\", \"2018-02-06T00:00:00\", \"2018-02-07T00:00:00\", \"2018-02-08T00:00:00\", \"2018-02-09T00:00:00\", \"2018-02-12T00:00:00\", \"2018-02-13T00:00:00\", \"2018-02-14T00:00:00\", \"2018-02-15T00:00:00\", \"2018-02-16T00:00:00\", \"2018-02-19T00:00:00\", \"2018-02-20T00:00:00\", \"2018-02-21T00:00:00\", \"2018-02-22T00:00:00\", \"2018-02-26T00:00:00\", \"2018-02-27T00:00:00\", \"2018-02-28T00:00:00\", \"2018-03-01T00:00:00\", \"2018-03-02T00:00:00\", \"2018-03-05T00:00:00\", \"2018-03-06T00:00:00\", \"2018-03-07T00:00:00\", \"2018-03-09T00:00:00\", \"2018-03-12T00:00:00\", \"2018-03-13T00:00:00\", \"2018-03-14T00:00:00\", \"2018-03-15T00:00:00\", \"2018-03-16T00:00:00\", \"2018-03-19T00:00:00\", \"2018-03-20T00:00:00\", \"2018-03-21T00:00:00\", \"2018-03-22T00:00:00\", \"2018-03-23T00:00:00\", \"2018-03-26T00:00:00\", \"2018-03-27T00:00:00\", \"2018-03-28T00:00:00\", \"2018-03-29T00:00:00\", \"2018-03-30T00:00:00\", \"2018-04-02T00:00:00\", \"2018-04-03T00:00:00\", \"2018-04-04T00:00:00\", \"2018-04-05T00:00:00\", \"2018-04-06T00:00:00\", \"2018-04-09T00:00:00\", \"2018-04-10T00:00:00\", \"2018-04-11T00:00:00\", \"2018-04-12T00:00:00\", \"2018-04-13T00:00:00\", \"2018-04-16T00:00:00\", \"2018-04-17T00:00:00\", \"2018-04-18T00:00:00\", \"2018-04-19T00:00:00\", \"2018-04-20T00:00:00\", \"2018-04-23T00:00:00\", \"2018-04-24T00:00:00\", \"2018-04-25T00:00:00\", \"2018-04-26T00:00:00\", \"2018-04-27T00:00:00\", \"2018-04-28T00:00:00\", \"2018-04-30T00:00:00\", \"2018-05-02T00:00:00\", \"2018-05-03T00:00:00\", \"2018-05-04T00:00:00\", \"2018-05-07T00:00:00\", \"2018-05-08T00:00:00\", \"2018-05-10T00:00:00\", \"2018-05-11T00:00:00\", \"2018-05-14T00:00:00\", \"2018-05-15T00:00:00\", \"2018-05-16T00:00:00\", \"2018-05-17T00:00:00\", \"2018-05-18T00:00:00\", \"2018-05-21T00:00:00\", \"2018-05-22T00:00:00\", \"2018-05-23T00:00:00\", \"2018-05-24T00:00:00\", \"2018-05-25T00:00:00\", \"2018-05-28T00:00:00\", \"2018-05-29T00:00:00\", \"2018-05-30T00:00:00\", \"2018-05-31T00:00:00\", \"2018-06-01T00:00:00\", \"2018-06-04T00:00:00\", \"2018-06-05T00:00:00\", \"2018-06-06T00:00:00\", \"2018-06-07T00:00:00\", \"2018-06-08T00:00:00\", \"2018-06-09T00:00:00\", \"2018-06-11T00:00:00\", \"2018-06-13T00:00:00\", \"2018-06-14T00:00:00\", \"2018-06-15T00:00:00\", \"2018-06-18T00:00:00\", \"2018-06-19T00:00:00\", \"2018-06-20T00:00:00\", \"2018-06-21T00:00:00\", \"2018-06-22T00:00:00\", \"2018-06-25T00:00:00\", \"2018-06-26T00:00:00\", \"2018-06-27T00:00:00\", \"2018-06-28T00:00:00\", \"2018-06-29T00:00:00\", \"2018-07-02T00:00:00\", \"2018-07-03T00:00:00\", \"2018-07-04T00:00:00\", \"2018-07-05T00:00:00\", \"2018-07-06T00:00:00\", \"2018-07-09T00:00:00\", \"2018-07-10T00:00:00\", \"2018-07-11T00:00:00\", \"2018-07-12T00:00:00\", \"2018-07-13T00:00:00\", \"2018-07-16T00:00:00\", \"2018-07-17T00:00:00\", \"2018-07-18T00:00:00\", \"2018-07-19T00:00:00\", \"2018-07-20T00:00:00\", \"2018-07-23T00:00:00\", \"2018-07-24T00:00:00\", \"2018-07-25T00:00:00\", \"2018-07-26T00:00:00\", \"2018-07-27T00:00:00\", \"2018-07-30T00:00:00\", \"2018-07-31T00:00:00\", \"2018-08-01T00:00:00\", \"2018-08-02T00:00:00\", \"2018-08-03T00:00:00\", \"2018-08-06T00:00:00\", \"2018-08-07T00:00:00\", \"2018-08-08T00:00:00\", \"2018-08-09T00:00:00\", \"2018-08-10T00:00:00\", \"2018-08-13T00:00:00\", \"2018-08-14T00:00:00\", \"2018-08-15T00:00:00\", \"2018-08-16T00:00:00\", \"2018-08-17T00:00:00\", \"2018-08-20T00:00:00\", \"2018-08-21T00:00:00\", \"2018-08-22T00:00:00\", \"2018-08-23T00:00:00\", \"2018-08-24T00:00:00\", \"2018-08-27T00:00:00\", \"2018-08-28T00:00:00\", \"2018-08-29T00:00:00\", \"2018-08-30T00:00:00\", \"2018-08-31T00:00:00\", \"2018-09-03T00:00:00\", \"2018-09-04T00:00:00\", \"2018-09-05T00:00:00\", \"2018-09-06T00:00:00\", \"2018-09-07T00:00:00\", \"2018-09-10T00:00:00\", \"2018-09-11T00:00:00\", \"2018-09-12T00:00:00\", \"2018-09-13T00:00:00\", \"2018-09-14T00:00:00\", \"2018-09-17T00:00:00\", \"2018-09-18T00:00:00\", \"2018-09-19T00:00:00\", \"2018-09-20T00:00:00\", \"2018-09-21T00:00:00\", \"2018-09-24T00:00:00\", \"2018-09-25T00:00:00\", \"2018-09-26T00:00:00\", \"2018-09-27T00:00:00\", \"2018-09-28T00:00:00\", \"2018-10-01T00:00:00\", \"2018-10-02T00:00:00\", \"2018-10-03T00:00:00\", \"2018-10-04T00:00:00\", \"2018-10-05T00:00:00\", \"2018-10-08T00:00:00\", \"2018-10-09T00:00:00\", \"2018-10-10T00:00:00\", \"2018-10-11T00:00:00\", \"2018-10-12T00:00:00\", \"2018-10-15T00:00:00\", \"2018-10-16T00:00:00\", \"2018-10-17T00:00:00\", \"2018-10-18T00:00:00\", \"2018-10-19T00:00:00\", \"2018-10-22T00:00:00\", \"2018-10-23T00:00:00\", \"2018-10-24T00:00:00\", \"2018-10-25T00:00:00\", \"2018-10-26T00:00:00\", \"2018-10-29T00:00:00\", \"2018-10-30T00:00:00\", \"2018-10-31T00:00:00\", \"2018-11-01T00:00:00\", \"2018-11-02T00:00:00\", \"2018-11-06T00:00:00\", \"2018-11-07T00:00:00\", \"2018-11-08T00:00:00\", \"2018-11-09T00:00:00\", \"2018-11-12T00:00:00\", \"2018-11-13T00:00:00\", \"2018-11-14T00:00:00\", \"2018-11-15T00:00:00\", \"2018-11-16T00:00:00\", \"2018-11-19T00:00:00\", \"2018-11-20T00:00:00\", \"2018-11-21T00:00:00\", \"2018-11-22T00:00:00\", \"2018-11-23T00:00:00\", \"2018-11-26T00:00:00\", \"2018-11-27T00:00:00\", \"2018-11-28T00:00:00\", \"2018-11-29T00:00:00\", \"2018-11-30T00:00:00\", \"2018-12-03T00:00:00\", \"2018-12-04T00:00:00\", \"2018-12-05T00:00:00\", \"2018-12-06T00:00:00\", \"2018-12-07T00:00:00\", \"2018-12-10T00:00:00\", \"2018-12-11T00:00:00\", \"2018-12-12T00:00:00\", \"2018-12-13T00:00:00\", \"2018-12-14T00:00:00\", \"2018-12-17T00:00:00\", \"2018-12-18T00:00:00\", \"2018-12-19T00:00:00\", \"2018-12-20T00:00:00\", \"2018-12-21T00:00:00\", \"2018-12-24T00:00:00\", \"2018-12-25T00:00:00\", \"2018-12-26T00:00:00\", \"2018-12-27T00:00:00\", \"2018-12-28T00:00:00\", \"2018-12-29T00:00:00\"]}],\n",
       "                        {\"template\": {\"data\": {\"bar\": [{\"error_x\": {\"color\": \"#2a3f5f\"}, \"error_y\": {\"color\": \"#2a3f5f\"}, \"marker\": {\"line\": {\"color\": \"#E5ECF6\", \"width\": 0.5}}, \"type\": \"bar\"}], \"barpolar\": [{\"marker\": {\"line\": {\"color\": \"#E5ECF6\", \"width\": 0.5}}, \"type\": \"barpolar\"}], \"carpet\": [{\"aaxis\": {\"endlinecolor\": \"#2a3f5f\", \"gridcolor\": \"white\", \"linecolor\": \"white\", \"minorgridcolor\": \"white\", \"startlinecolor\": \"#2a3f5f\"}, \"baxis\": {\"endlinecolor\": \"#2a3f5f\", \"gridcolor\": \"white\", \"linecolor\": \"white\", \"minorgridcolor\": \"white\", \"startlinecolor\": \"#2a3f5f\"}, \"type\": \"carpet\"}], \"choropleth\": [{\"colorbar\": {\"outlinewidth\": 0, \"ticks\": \"\"}, \"type\": \"choropleth\"}], \"contour\": [{\"colorbar\": {\"outlinewidth\": 0, \"ticks\": \"\"}, \"colorscale\": [[0.0, \"#0d0887\"], [0.1111111111111111, \"#46039f\"], [0.2222222222222222, \"#7201a8\"], [0.3333333333333333, \"#9c179e\"], [0.4444444444444444, \"#bd3786\"], [0.5555555555555556, \"#d8576b\"], [0.6666666666666666, \"#ed7953\"], [0.7777777777777778, \"#fb9f3a\"], [0.8888888888888888, \"#fdca26\"], [1.0, \"#f0f921\"]], \"type\": \"contour\"}], \"contourcarpet\": [{\"colorbar\": {\"outlinewidth\": 0, \"ticks\": \"\"}, \"type\": \"contourcarpet\"}], \"heatmap\": [{\"colorbar\": {\"outlinewidth\": 0, \"ticks\": \"\"}, \"colorscale\": [[0.0, \"#0d0887\"], [0.1111111111111111, \"#46039f\"], [0.2222222222222222, \"#7201a8\"], [0.3333333333333333, \"#9c179e\"], [0.4444444444444444, \"#bd3786\"], [0.5555555555555556, \"#d8576b\"], [0.6666666666666666, \"#ed7953\"], [0.7777777777777778, \"#fb9f3a\"], [0.8888888888888888, \"#fdca26\"], [1.0, \"#f0f921\"]], \"type\": \"heatmap\"}], \"heatmapgl\": [{\"colorbar\": {\"outlinewidth\": 0, \"ticks\": \"\"}, \"colorscale\": [[0.0, \"#0d0887\"], [0.1111111111111111, \"#46039f\"], [0.2222222222222222, \"#7201a8\"], [0.3333333333333333, \"#9c179e\"], [0.4444444444444444, \"#bd3786\"], [0.5555555555555556, \"#d8576b\"], [0.6666666666666666, \"#ed7953\"], [0.7777777777777778, \"#fb9f3a\"], [0.8888888888888888, \"#fdca26\"], [1.0, \"#f0f921\"]], \"type\": \"heatmapgl\"}], \"histogram\": [{\"marker\": {\"colorbar\": {\"outlinewidth\": 0, \"ticks\": \"\"}}, \"type\": \"histogram\"}], \"histogram2d\": [{\"colorbar\": {\"outlinewidth\": 0, \"ticks\": \"\"}, \"colorscale\": [[0.0, \"#0d0887\"], [0.1111111111111111, \"#46039f\"], [0.2222222222222222, \"#7201a8\"], [0.3333333333333333, \"#9c179e\"], [0.4444444444444444, \"#bd3786\"], [0.5555555555555556, \"#d8576b\"], [0.6666666666666666, \"#ed7953\"], [0.7777777777777778, \"#fb9f3a\"], [0.8888888888888888, \"#fdca26\"], [1.0, \"#f0f921\"]], \"type\": \"histogram2d\"}], \"histogram2dcontour\": [{\"colorbar\": {\"outlinewidth\": 0, \"ticks\": \"\"}, \"colorscale\": [[0.0, \"#0d0887\"], [0.1111111111111111, \"#46039f\"], [0.2222222222222222, \"#7201a8\"], [0.3333333333333333, \"#9c179e\"], [0.4444444444444444, \"#bd3786\"], [0.5555555555555556, \"#d8576b\"], [0.6666666666666666, \"#ed7953\"], [0.7777777777777778, \"#fb9f3a\"], [0.8888888888888888, \"#fdca26\"], [1.0, \"#f0f921\"]], \"type\": \"histogram2dcontour\"}], \"mesh3d\": [{\"colorbar\": {\"outlinewidth\": 0, \"ticks\": \"\"}, \"type\": \"mesh3d\"}], \"parcoords\": [{\"line\": {\"colorbar\": {\"outlinewidth\": 0, \"ticks\": \"\"}}, \"type\": \"parcoords\"}], \"pie\": [{\"automargin\": true, \"type\": \"pie\"}], \"scatter\": [{\"marker\": {\"colorbar\": {\"outlinewidth\": 0, \"ticks\": \"\"}}, \"type\": \"scatter\"}], \"scatter3d\": [{\"line\": {\"colorbar\": {\"outlinewidth\": 0, \"ticks\": \"\"}}, \"marker\": {\"colorbar\": {\"outlinewidth\": 0, \"ticks\": \"\"}}, \"type\": \"scatter3d\"}], \"scattercarpet\": [{\"marker\": {\"colorbar\": {\"outlinewidth\": 0, \"ticks\": \"\"}}, \"type\": \"scattercarpet\"}], \"scattergeo\": [{\"marker\": {\"colorbar\": {\"outlinewidth\": 0, \"ticks\": \"\"}}, \"type\": \"scattergeo\"}], \"scattergl\": [{\"marker\": {\"colorbar\": {\"outlinewidth\": 0, \"ticks\": \"\"}}, \"type\": \"scattergl\"}], \"scattermapbox\": [{\"marker\": {\"colorbar\": {\"outlinewidth\": 0, \"ticks\": \"\"}}, \"type\": \"scattermapbox\"}], \"scatterpolar\": [{\"marker\": {\"colorbar\": {\"outlinewidth\": 0, \"ticks\": \"\"}}, \"type\": \"scatterpolar\"}], \"scatterpolargl\": [{\"marker\": {\"colorbar\": {\"outlinewidth\": 0, \"ticks\": \"\"}}, \"type\": \"scatterpolargl\"}], \"scatterternary\": [{\"marker\": {\"colorbar\": {\"outlinewidth\": 0, \"ticks\": \"\"}}, \"type\": \"scatterternary\"}], \"surface\": [{\"colorbar\": {\"outlinewidth\": 0, \"ticks\": \"\"}, \"colorscale\": [[0.0, \"#0d0887\"], [0.1111111111111111, \"#46039f\"], [0.2222222222222222, \"#7201a8\"], [0.3333333333333333, \"#9c179e\"], [0.4444444444444444, \"#bd3786\"], [0.5555555555555556, \"#d8576b\"], [0.6666666666666666, \"#ed7953\"], [0.7777777777777778, \"#fb9f3a\"], [0.8888888888888888, \"#fdca26\"], [1.0, \"#f0f921\"]], \"type\": \"surface\"}], \"table\": [{\"cells\": {\"fill\": {\"color\": \"#EBF0F8\"}, \"line\": {\"color\": \"white\"}}, \"header\": {\"fill\": {\"color\": \"#C8D4E3\"}, \"line\": {\"color\": \"white\"}}, \"type\": \"table\"}]}, \"layout\": {\"annotationdefaults\": {\"arrowcolor\": \"#2a3f5f\", \"arrowhead\": 0, \"arrowwidth\": 1}, \"coloraxis\": {\"colorbar\": {\"outlinewidth\": 0, \"ticks\": \"\"}}, \"colorscale\": {\"diverging\": [[0, \"#8e0152\"], [0.1, \"#c51b7d\"], [0.2, \"#de77ae\"], [0.3, \"#f1b6da\"], [0.4, \"#fde0ef\"], [0.5, \"#f7f7f7\"], [0.6, \"#e6f5d0\"], [0.7, \"#b8e186\"], [0.8, \"#7fbc41\"], [0.9, \"#4d9221\"], [1, \"#276419\"]], \"sequential\": [[0.0, \"#0d0887\"], [0.1111111111111111, \"#46039f\"], [0.2222222222222222, \"#7201a8\"], [0.3333333333333333, \"#9c179e\"], [0.4444444444444444, \"#bd3786\"], [0.5555555555555556, \"#d8576b\"], [0.6666666666666666, \"#ed7953\"], [0.7777777777777778, \"#fb9f3a\"], [0.8888888888888888, \"#fdca26\"], [1.0, \"#f0f921\"]], \"sequentialminus\": [[0.0, \"#0d0887\"], [0.1111111111111111, \"#46039f\"], [0.2222222222222222, \"#7201a8\"], [0.3333333333333333, \"#9c179e\"], [0.4444444444444444, \"#bd3786\"], [0.5555555555555556, \"#d8576b\"], [0.6666666666666666, \"#ed7953\"], [0.7777777777777778, \"#fb9f3a\"], [0.8888888888888888, \"#fdca26\"], [1.0, \"#f0f921\"]]}, \"colorway\": [\"#636efa\", \"#EF553B\", \"#00cc96\", \"#ab63fa\", \"#FFA15A\", \"#19d3f3\", \"#FF6692\", \"#B6E880\", \"#FF97FF\", \"#FECB52\"], \"font\": {\"color\": \"#2a3f5f\"}, \"geo\": {\"bgcolor\": \"white\", \"lakecolor\": \"white\", \"landcolor\": \"#E5ECF6\", \"showlakes\": true, \"showland\": true, \"subunitcolor\": \"white\"}, \"hoverlabel\": {\"align\": \"left\"}, \"hovermode\": \"closest\", \"mapbox\": {\"style\": \"light\"}, \"paper_bgcolor\": \"white\", \"plot_bgcolor\": \"#E5ECF6\", \"polar\": {\"angularaxis\": {\"gridcolor\": \"white\", \"linecolor\": \"white\", \"ticks\": \"\"}, \"bgcolor\": \"#E5ECF6\", \"radialaxis\": {\"gridcolor\": \"white\", \"linecolor\": \"white\", \"ticks\": \"\"}}, \"scene\": {\"xaxis\": {\"backgroundcolor\": \"#E5ECF6\", \"gridcolor\": \"white\", \"gridwidth\": 2, \"linecolor\": \"white\", \"showbackground\": true, \"ticks\": \"\", \"zerolinecolor\": \"white\"}, \"yaxis\": {\"backgroundcolor\": \"#E5ECF6\", \"gridcolor\": \"white\", \"gridwidth\": 2, \"linecolor\": \"white\", \"showbackground\": true, \"ticks\": \"\", \"zerolinecolor\": \"white\"}, \"zaxis\": {\"backgroundcolor\": \"#E5ECF6\", \"gridcolor\": \"white\", \"gridwidth\": 2, \"linecolor\": \"white\", \"showbackground\": true, \"ticks\": \"\", \"zerolinecolor\": \"white\"}}, \"shapedefaults\": {\"line\": {\"color\": \"#2a3f5f\"}}, \"ternary\": {\"aaxis\": {\"gridcolor\": \"white\", \"linecolor\": \"white\", \"ticks\": \"\"}, \"baxis\": {\"gridcolor\": \"white\", \"linecolor\": \"white\", \"ticks\": \"\"}, \"bgcolor\": \"#E5ECF6\", \"caxis\": {\"gridcolor\": \"white\", \"linecolor\": \"white\", \"ticks\": \"\"}}, \"title\": {\"x\": 0.05}, \"xaxis\": {\"automargin\": true, \"gridcolor\": \"white\", \"linecolor\": \"white\", \"ticks\": \"\", \"title\": {\"standoff\": 15}, \"zerolinecolor\": \"white\", \"zerolinewidth\": 2}, \"yaxis\": {\"automargin\": true, \"gridcolor\": \"white\", \"linecolor\": \"white\", \"ticks\": \"\", \"title\": {\"standoff\": 15}, \"zerolinecolor\": \"white\", \"zerolinewidth\": 2}}}},\n",
       "                        {\"responsive\": true}\n",
       "                    ).then(function(){\n",
       "                            \n",
       "var gd = document.getElementById('d10f23a1-9da1-4db5-9227-5144864ab0ec');\n",
       "var x = new MutationObserver(function (mutations, observer) {{\n",
       "        var display = window.getComputedStyle(gd).display;\n",
       "        if (!display || display === 'none') {{\n",
       "            console.log([gd, 'removed!']);\n",
       "            Plotly.purge(gd);\n",
       "            observer.disconnect();\n",
       "        }}\n",
       "}});\n",
       "\n",
       "// Listen for the removal of the full notebook cells\n",
       "var notebookContainer = gd.closest('#notebook-container');\n",
       "if (notebookContainer) {{\n",
       "    x.observe(notebookContainer, {childList: true});\n",
       "}}\n",
       "\n",
       "// Listen for the clearing of the current output cell\n",
       "var outputEl = gd.closest('.output');\n",
       "if (outputEl) {{\n",
       "    x.observe(outputEl, {childList: true});\n",
       "}}\n",
       "\n",
       "                        })\n",
       "                };\n",
       "                });\n",
       "            </script>\n",
       "        </div>"
      ]
     },
     "metadata": {},
     "output_type": "display_data"
    }
   ],
   "source": [
    "trace = go.Ohlc(x=data_daily.index,\n",
    "                open=data_daily['Open'],\n",
    "                high=data_daily['High'],\n",
    "                low=data_daily['Low'],\n",
    "                close=data_daily['Close'])\n",
    "\n",
    "data = [trace]\n",
    "iplot(data)"
   ]
  },
  {
   "cell_type": "code",
   "execution_count": 72,
   "metadata": {},
   "outputs": [
    {
     "data": {
      "application/vnd.plotly.v1+json": {
       "config": {
        "linkText": "Export to plot.ly",
        "plotlyServerURL": "https://plot.ly",
        "showLink": false
       },
       "data": [
        {
         "close": [
          343.2,
          330.5,
          313.9,
          383,
          385.3,
          396.15,
          419,
          435.7,
          493,
          460.45,
          423.1,
          430.95
         ],
         "high": [
          359.3,
          353,
          327.85,
          388.25,
          408.05,
          399.85,
          419,
          444.95,
          495,
          522.8,
          487.85,
          442.05
         ],
         "low": [
          292.15,
          319.5,
          305,
          281.65,
          374.25,
          371.4,
          388.35,
          407.2,
          432.4,
          443.05,
          397.25,
          401.85
         ],
         "open": [
          292.15,
          345,
          326.95,
          314.5,
          390.05,
          384.2,
          394.5,
          418.5,
          435.7,
          495.95,
          460,
          431.55
         ],
         "type": "candlestick",
         "x": [
          "Jan-2017",
          "Feb-2017",
          "Mar-2017",
          "Apr-2017",
          "May-2017",
          "Jun-2017",
          "Jul-2017",
          "Aug-2017",
          "Sep-2017",
          "Oct-2017",
          "Nov-2017",
          "Dec-2017"
         ]
        }
       ],
       "layout": {
        "template": {
         "data": {
          "bar": [
           {
            "error_x": {
             "color": "#2a3f5f"
            },
            "error_y": {
             "color": "#2a3f5f"
            },
            "marker": {
             "line": {
              "color": "#E5ECF6",
              "width": 0.5
             }
            },
            "type": "bar"
           }
          ],
          "barpolar": [
           {
            "marker": {
             "line": {
              "color": "#E5ECF6",
              "width": 0.5
             }
            },
            "type": "barpolar"
           }
          ],
          "carpet": [
           {
            "aaxis": {
             "endlinecolor": "#2a3f5f",
             "gridcolor": "white",
             "linecolor": "white",
             "minorgridcolor": "white",
             "startlinecolor": "#2a3f5f"
            },
            "baxis": {
             "endlinecolor": "#2a3f5f",
             "gridcolor": "white",
             "linecolor": "white",
             "minorgridcolor": "white",
             "startlinecolor": "#2a3f5f"
            },
            "type": "carpet"
           }
          ],
          "choropleth": [
           {
            "colorbar": {
             "outlinewidth": 0,
             "ticks": ""
            },
            "type": "choropleth"
           }
          ],
          "contour": [
           {
            "colorbar": {
             "outlinewidth": 0,
             "ticks": ""
            },
            "colorscale": [
             [
              0,
              "#0d0887"
             ],
             [
              0.1111111111111111,
              "#46039f"
             ],
             [
              0.2222222222222222,
              "#7201a8"
             ],
             [
              0.3333333333333333,
              "#9c179e"
             ],
             [
              0.4444444444444444,
              "#bd3786"
             ],
             [
              0.5555555555555556,
              "#d8576b"
             ],
             [
              0.6666666666666666,
              "#ed7953"
             ],
             [
              0.7777777777777778,
              "#fb9f3a"
             ],
             [
              0.8888888888888888,
              "#fdca26"
             ],
             [
              1,
              "#f0f921"
             ]
            ],
            "type": "contour"
           }
          ],
          "contourcarpet": [
           {
            "colorbar": {
             "outlinewidth": 0,
             "ticks": ""
            },
            "type": "contourcarpet"
           }
          ],
          "heatmap": [
           {
            "colorbar": {
             "outlinewidth": 0,
             "ticks": ""
            },
            "colorscale": [
             [
              0,
              "#0d0887"
             ],
             [
              0.1111111111111111,
              "#46039f"
             ],
             [
              0.2222222222222222,
              "#7201a8"
             ],
             [
              0.3333333333333333,
              "#9c179e"
             ],
             [
              0.4444444444444444,
              "#bd3786"
             ],
             [
              0.5555555555555556,
              "#d8576b"
             ],
             [
              0.6666666666666666,
              "#ed7953"
             ],
             [
              0.7777777777777778,
              "#fb9f3a"
             ],
             [
              0.8888888888888888,
              "#fdca26"
             ],
             [
              1,
              "#f0f921"
             ]
            ],
            "type": "heatmap"
           }
          ],
          "heatmapgl": [
           {
            "colorbar": {
             "outlinewidth": 0,
             "ticks": ""
            },
            "colorscale": [
             [
              0,
              "#0d0887"
             ],
             [
              0.1111111111111111,
              "#46039f"
             ],
             [
              0.2222222222222222,
              "#7201a8"
             ],
             [
              0.3333333333333333,
              "#9c179e"
             ],
             [
              0.4444444444444444,
              "#bd3786"
             ],
             [
              0.5555555555555556,
              "#d8576b"
             ],
             [
              0.6666666666666666,
              "#ed7953"
             ],
             [
              0.7777777777777778,
              "#fb9f3a"
             ],
             [
              0.8888888888888888,
              "#fdca26"
             ],
             [
              1,
              "#f0f921"
             ]
            ],
            "type": "heatmapgl"
           }
          ],
          "histogram": [
           {
            "marker": {
             "colorbar": {
              "outlinewidth": 0,
              "ticks": ""
             }
            },
            "type": "histogram"
           }
          ],
          "histogram2d": [
           {
            "colorbar": {
             "outlinewidth": 0,
             "ticks": ""
            },
            "colorscale": [
             [
              0,
              "#0d0887"
             ],
             [
              0.1111111111111111,
              "#46039f"
             ],
             [
              0.2222222222222222,
              "#7201a8"
             ],
             [
              0.3333333333333333,
              "#9c179e"
             ],
             [
              0.4444444444444444,
              "#bd3786"
             ],
             [
              0.5555555555555556,
              "#d8576b"
             ],
             [
              0.6666666666666666,
              "#ed7953"
             ],
             [
              0.7777777777777778,
              "#fb9f3a"
             ],
             [
              0.8888888888888888,
              "#fdca26"
             ],
             [
              1,
              "#f0f921"
             ]
            ],
            "type": "histogram2d"
           }
          ],
          "histogram2dcontour": [
           {
            "colorbar": {
             "outlinewidth": 0,
             "ticks": ""
            },
            "colorscale": [
             [
              0,
              "#0d0887"
             ],
             [
              0.1111111111111111,
              "#46039f"
             ],
             [
              0.2222222222222222,
              "#7201a8"
             ],
             [
              0.3333333333333333,
              "#9c179e"
             ],
             [
              0.4444444444444444,
              "#bd3786"
             ],
             [
              0.5555555555555556,
              "#d8576b"
             ],
             [
              0.6666666666666666,
              "#ed7953"
             ],
             [
              0.7777777777777778,
              "#fb9f3a"
             ],
             [
              0.8888888888888888,
              "#fdca26"
             ],
             [
              1,
              "#f0f921"
             ]
            ],
            "type": "histogram2dcontour"
           }
          ],
          "mesh3d": [
           {
            "colorbar": {
             "outlinewidth": 0,
             "ticks": ""
            },
            "type": "mesh3d"
           }
          ],
          "parcoords": [
           {
            "line": {
             "colorbar": {
              "outlinewidth": 0,
              "ticks": ""
             }
            },
            "type": "parcoords"
           }
          ],
          "pie": [
           {
            "automargin": true,
            "type": "pie"
           }
          ],
          "scatter": [
           {
            "marker": {
             "colorbar": {
              "outlinewidth": 0,
              "ticks": ""
             }
            },
            "type": "scatter"
           }
          ],
          "scatter3d": [
           {
            "line": {
             "colorbar": {
              "outlinewidth": 0,
              "ticks": ""
             }
            },
            "marker": {
             "colorbar": {
              "outlinewidth": 0,
              "ticks": ""
             }
            },
            "type": "scatter3d"
           }
          ],
          "scattercarpet": [
           {
            "marker": {
             "colorbar": {
              "outlinewidth": 0,
              "ticks": ""
             }
            },
            "type": "scattercarpet"
           }
          ],
          "scattergeo": [
           {
            "marker": {
             "colorbar": {
              "outlinewidth": 0,
              "ticks": ""
             }
            },
            "type": "scattergeo"
           }
          ],
          "scattergl": [
           {
            "marker": {
             "colorbar": {
              "outlinewidth": 0,
              "ticks": ""
             }
            },
            "type": "scattergl"
           }
          ],
          "scattermapbox": [
           {
            "marker": {
             "colorbar": {
              "outlinewidth": 0,
              "ticks": ""
             }
            },
            "type": "scattermapbox"
           }
          ],
          "scatterpolar": [
           {
            "marker": {
             "colorbar": {
              "outlinewidth": 0,
              "ticks": ""
             }
            },
            "type": "scatterpolar"
           }
          ],
          "scatterpolargl": [
           {
            "marker": {
             "colorbar": {
              "outlinewidth": 0,
              "ticks": ""
             }
            },
            "type": "scatterpolargl"
           }
          ],
          "scatterternary": [
           {
            "marker": {
             "colorbar": {
              "outlinewidth": 0,
              "ticks": ""
             }
            },
            "type": "scatterternary"
           }
          ],
          "surface": [
           {
            "colorbar": {
             "outlinewidth": 0,
             "ticks": ""
            },
            "colorscale": [
             [
              0,
              "#0d0887"
             ],
             [
              0.1111111111111111,
              "#46039f"
             ],
             [
              0.2222222222222222,
              "#7201a8"
             ],
             [
              0.3333333333333333,
              "#9c179e"
             ],
             [
              0.4444444444444444,
              "#bd3786"
             ],
             [
              0.5555555555555556,
              "#d8576b"
             ],
             [
              0.6666666666666666,
              "#ed7953"
             ],
             [
              0.7777777777777778,
              "#fb9f3a"
             ],
             [
              0.8888888888888888,
              "#fdca26"
             ],
             [
              1,
              "#f0f921"
             ]
            ],
            "type": "surface"
           }
          ],
          "table": [
           {
            "cells": {
             "fill": {
              "color": "#EBF0F8"
             },
             "line": {
              "color": "white"
             }
            },
            "header": {
             "fill": {
              "color": "#C8D4E3"
             },
             "line": {
              "color": "white"
             }
            },
            "type": "table"
           }
          ]
         },
         "layout": {
          "annotationdefaults": {
           "arrowcolor": "#2a3f5f",
           "arrowhead": 0,
           "arrowwidth": 1
          },
          "coloraxis": {
           "colorbar": {
            "outlinewidth": 0,
            "ticks": ""
           }
          },
          "colorscale": {
           "diverging": [
            [
             0,
             "#8e0152"
            ],
            [
             0.1,
             "#c51b7d"
            ],
            [
             0.2,
             "#de77ae"
            ],
            [
             0.3,
             "#f1b6da"
            ],
            [
             0.4,
             "#fde0ef"
            ],
            [
             0.5,
             "#f7f7f7"
            ],
            [
             0.6,
             "#e6f5d0"
            ],
            [
             0.7,
             "#b8e186"
            ],
            [
             0.8,
             "#7fbc41"
            ],
            [
             0.9,
             "#4d9221"
            ],
            [
             1,
             "#276419"
            ]
           ],
           "sequential": [
            [
             0,
             "#0d0887"
            ],
            [
             0.1111111111111111,
             "#46039f"
            ],
            [
             0.2222222222222222,
             "#7201a8"
            ],
            [
             0.3333333333333333,
             "#9c179e"
            ],
            [
             0.4444444444444444,
             "#bd3786"
            ],
            [
             0.5555555555555556,
             "#d8576b"
            ],
            [
             0.6666666666666666,
             "#ed7953"
            ],
            [
             0.7777777777777778,
             "#fb9f3a"
            ],
            [
             0.8888888888888888,
             "#fdca26"
            ],
            [
             1,
             "#f0f921"
            ]
           ],
           "sequentialminus": [
            [
             0,
             "#0d0887"
            ],
            [
             0.1111111111111111,
             "#46039f"
            ],
            [
             0.2222222222222222,
             "#7201a8"
            ],
            [
             0.3333333333333333,
             "#9c179e"
            ],
            [
             0.4444444444444444,
             "#bd3786"
            ],
            [
             0.5555555555555556,
             "#d8576b"
            ],
            [
             0.6666666666666666,
             "#ed7953"
            ],
            [
             0.7777777777777778,
             "#fb9f3a"
            ],
            [
             0.8888888888888888,
             "#fdca26"
            ],
            [
             1,
             "#f0f921"
            ]
           ]
          },
          "colorway": [
           "#636efa",
           "#EF553B",
           "#00cc96",
           "#ab63fa",
           "#FFA15A",
           "#19d3f3",
           "#FF6692",
           "#B6E880",
           "#FF97FF",
           "#FECB52"
          ],
          "font": {
           "color": "#2a3f5f"
          },
          "geo": {
           "bgcolor": "white",
           "lakecolor": "white",
           "landcolor": "#E5ECF6",
           "showlakes": true,
           "showland": true,
           "subunitcolor": "white"
          },
          "hoverlabel": {
           "align": "left"
          },
          "hovermode": "closest",
          "mapbox": {
           "style": "light"
          },
          "paper_bgcolor": "white",
          "plot_bgcolor": "#E5ECF6",
          "polar": {
           "angularaxis": {
            "gridcolor": "white",
            "linecolor": "white",
            "ticks": ""
           },
           "bgcolor": "#E5ECF6",
           "radialaxis": {
            "gridcolor": "white",
            "linecolor": "white",
            "ticks": ""
           }
          },
          "scene": {
           "xaxis": {
            "backgroundcolor": "#E5ECF6",
            "gridcolor": "white",
            "gridwidth": 2,
            "linecolor": "white",
            "showbackground": true,
            "ticks": "",
            "zerolinecolor": "white"
           },
           "yaxis": {
            "backgroundcolor": "#E5ECF6",
            "gridcolor": "white",
            "gridwidth": 2,
            "linecolor": "white",
            "showbackground": true,
            "ticks": "",
            "zerolinecolor": "white"
           },
           "zaxis": {
            "backgroundcolor": "#E5ECF6",
            "gridcolor": "white",
            "gridwidth": 2,
            "linecolor": "white",
            "showbackground": true,
            "ticks": "",
            "zerolinecolor": "white"
           }
          },
          "shapedefaults": {
           "line": {
            "color": "#2a3f5f"
           }
          },
          "ternary": {
           "aaxis": {
            "gridcolor": "white",
            "linecolor": "white",
            "ticks": ""
           },
           "baxis": {
            "gridcolor": "white",
            "linecolor": "white",
            "ticks": ""
           },
           "bgcolor": "#E5ECF6",
           "caxis": {
            "gridcolor": "white",
            "linecolor": "white",
            "ticks": ""
           }
          },
          "title": {
           "x": 0.05
          },
          "xaxis": {
           "automargin": true,
           "gridcolor": "white",
           "linecolor": "white",
           "ticks": "",
           "title": {
            "standoff": 15
           },
           "zerolinecolor": "white",
           "zerolinewidth": 2
          },
          "yaxis": {
           "automargin": true,
           "gridcolor": "white",
           "linecolor": "white",
           "ticks": "",
           "title": {
            "standoff": 15
           },
           "zerolinecolor": "white",
           "zerolinewidth": 2
          }
         }
        }
       }
      },
      "text/html": [
       "<div>\n",
       "        \n",
       "        \n",
       "            <div id=\"098e37e6-2e8e-41c7-8945-7fafe8127f15\" class=\"plotly-graph-div\" style=\"height:525px; width:100%;\"></div>\n",
       "            <script type=\"text/javascript\">\n",
       "                require([\"plotly\"], function(Plotly) {\n",
       "                    window.PLOTLYENV=window.PLOTLYENV || {};\n",
       "                    \n",
       "                if (document.getElementById(\"098e37e6-2e8e-41c7-8945-7fafe8127f15\")) {\n",
       "                    Plotly.newPlot(\n",
       "                        '098e37e6-2e8e-41c7-8945-7fafe8127f15',\n",
       "                        [{\"close\": [343.2, 330.5, 313.9, 383.0, 385.3, 396.15, 419.0, 435.7, 493.0, 460.45, 423.1, 430.95], \"high\": [359.3, 353.0, 327.85, 388.25, 408.05, 399.85, 419.0, 444.95, 495.0, 522.8, 487.85, 442.05], \"low\": [292.15, 319.5, 305.0, 281.65, 374.25, 371.4, 388.35, 407.2, 432.4, 443.05, 397.25, 401.85], \"open\": [292.15, 345.0, 326.95, 314.5, 390.05, 384.2, 394.5, 418.5, 435.7, 495.95, 460.0, 431.55], \"type\": \"candlestick\", \"x\": [\"Jan-2017\", \"Feb-2017\", \"Mar-2017\", \"Apr-2017\", \"May-2017\", \"Jun-2017\", \"Jul-2017\", \"Aug-2017\", \"Sep-2017\", \"Oct-2017\", \"Nov-2017\", \"Dec-2017\"]}],\n",
       "                        {\"template\": {\"data\": {\"bar\": [{\"error_x\": {\"color\": \"#2a3f5f\"}, \"error_y\": {\"color\": \"#2a3f5f\"}, \"marker\": {\"line\": {\"color\": \"#E5ECF6\", \"width\": 0.5}}, \"type\": \"bar\"}], \"barpolar\": [{\"marker\": {\"line\": {\"color\": \"#E5ECF6\", \"width\": 0.5}}, \"type\": \"barpolar\"}], \"carpet\": [{\"aaxis\": {\"endlinecolor\": \"#2a3f5f\", \"gridcolor\": \"white\", \"linecolor\": \"white\", \"minorgridcolor\": \"white\", \"startlinecolor\": \"#2a3f5f\"}, \"baxis\": {\"endlinecolor\": \"#2a3f5f\", \"gridcolor\": \"white\", \"linecolor\": \"white\", \"minorgridcolor\": \"white\", \"startlinecolor\": \"#2a3f5f\"}, \"type\": \"carpet\"}], \"choropleth\": [{\"colorbar\": {\"outlinewidth\": 0, \"ticks\": \"\"}, \"type\": \"choropleth\"}], \"contour\": [{\"colorbar\": {\"outlinewidth\": 0, \"ticks\": \"\"}, \"colorscale\": [[0.0, \"#0d0887\"], [0.1111111111111111, \"#46039f\"], [0.2222222222222222, \"#7201a8\"], [0.3333333333333333, \"#9c179e\"], [0.4444444444444444, \"#bd3786\"], [0.5555555555555556, \"#d8576b\"], [0.6666666666666666, \"#ed7953\"], [0.7777777777777778, \"#fb9f3a\"], [0.8888888888888888, \"#fdca26\"], [1.0, \"#f0f921\"]], \"type\": \"contour\"}], \"contourcarpet\": [{\"colorbar\": {\"outlinewidth\": 0, \"ticks\": \"\"}, \"type\": \"contourcarpet\"}], \"heatmap\": [{\"colorbar\": {\"outlinewidth\": 0, \"ticks\": \"\"}, \"colorscale\": [[0.0, \"#0d0887\"], [0.1111111111111111, \"#46039f\"], [0.2222222222222222, \"#7201a8\"], [0.3333333333333333, \"#9c179e\"], [0.4444444444444444, \"#bd3786\"], [0.5555555555555556, \"#d8576b\"], [0.6666666666666666, \"#ed7953\"], [0.7777777777777778, \"#fb9f3a\"], [0.8888888888888888, \"#fdca26\"], [1.0, \"#f0f921\"]], \"type\": \"heatmap\"}], \"heatmapgl\": [{\"colorbar\": {\"outlinewidth\": 0, \"ticks\": \"\"}, \"colorscale\": [[0.0, \"#0d0887\"], [0.1111111111111111, \"#46039f\"], [0.2222222222222222, \"#7201a8\"], [0.3333333333333333, \"#9c179e\"], [0.4444444444444444, \"#bd3786\"], [0.5555555555555556, \"#d8576b\"], [0.6666666666666666, \"#ed7953\"], [0.7777777777777778, \"#fb9f3a\"], [0.8888888888888888, \"#fdca26\"], [1.0, \"#f0f921\"]], \"type\": \"heatmapgl\"}], \"histogram\": [{\"marker\": {\"colorbar\": {\"outlinewidth\": 0, \"ticks\": \"\"}}, \"type\": \"histogram\"}], \"histogram2d\": [{\"colorbar\": {\"outlinewidth\": 0, \"ticks\": \"\"}, \"colorscale\": [[0.0, \"#0d0887\"], [0.1111111111111111, \"#46039f\"], [0.2222222222222222, \"#7201a8\"], [0.3333333333333333, \"#9c179e\"], [0.4444444444444444, \"#bd3786\"], [0.5555555555555556, \"#d8576b\"], [0.6666666666666666, \"#ed7953\"], [0.7777777777777778, \"#fb9f3a\"], [0.8888888888888888, \"#fdca26\"], [1.0, \"#f0f921\"]], \"type\": \"histogram2d\"}], \"histogram2dcontour\": [{\"colorbar\": {\"outlinewidth\": 0, \"ticks\": \"\"}, \"colorscale\": [[0.0, \"#0d0887\"], [0.1111111111111111, \"#46039f\"], [0.2222222222222222, \"#7201a8\"], [0.3333333333333333, \"#9c179e\"], [0.4444444444444444, \"#bd3786\"], [0.5555555555555556, \"#d8576b\"], [0.6666666666666666, \"#ed7953\"], [0.7777777777777778, \"#fb9f3a\"], [0.8888888888888888, \"#fdca26\"], [1.0, \"#f0f921\"]], \"type\": \"histogram2dcontour\"}], \"mesh3d\": [{\"colorbar\": {\"outlinewidth\": 0, \"ticks\": \"\"}, \"type\": \"mesh3d\"}], \"parcoords\": [{\"line\": {\"colorbar\": {\"outlinewidth\": 0, \"ticks\": \"\"}}, \"type\": \"parcoords\"}], \"pie\": [{\"automargin\": true, \"type\": \"pie\"}], \"scatter\": [{\"marker\": {\"colorbar\": {\"outlinewidth\": 0, \"ticks\": \"\"}}, \"type\": \"scatter\"}], \"scatter3d\": [{\"line\": {\"colorbar\": {\"outlinewidth\": 0, \"ticks\": \"\"}}, \"marker\": {\"colorbar\": {\"outlinewidth\": 0, \"ticks\": \"\"}}, \"type\": \"scatter3d\"}], \"scattercarpet\": [{\"marker\": {\"colorbar\": {\"outlinewidth\": 0, \"ticks\": \"\"}}, \"type\": \"scattercarpet\"}], \"scattergeo\": [{\"marker\": {\"colorbar\": {\"outlinewidth\": 0, \"ticks\": \"\"}}, \"type\": \"scattergeo\"}], \"scattergl\": [{\"marker\": {\"colorbar\": {\"outlinewidth\": 0, \"ticks\": \"\"}}, \"type\": \"scattergl\"}], \"scattermapbox\": [{\"marker\": {\"colorbar\": {\"outlinewidth\": 0, \"ticks\": \"\"}}, \"type\": \"scattermapbox\"}], \"scatterpolar\": [{\"marker\": {\"colorbar\": {\"outlinewidth\": 0, \"ticks\": \"\"}}, \"type\": \"scatterpolar\"}], \"scatterpolargl\": [{\"marker\": {\"colorbar\": {\"outlinewidth\": 0, \"ticks\": \"\"}}, \"type\": \"scatterpolargl\"}], \"scatterternary\": [{\"marker\": {\"colorbar\": {\"outlinewidth\": 0, \"ticks\": \"\"}}, \"type\": \"scatterternary\"}], \"surface\": [{\"colorbar\": {\"outlinewidth\": 0, \"ticks\": \"\"}, \"colorscale\": [[0.0, \"#0d0887\"], [0.1111111111111111, \"#46039f\"], [0.2222222222222222, \"#7201a8\"], [0.3333333333333333, \"#9c179e\"], [0.4444444444444444, \"#bd3786\"], [0.5555555555555556, \"#d8576b\"], [0.6666666666666666, \"#ed7953\"], [0.7777777777777778, \"#fb9f3a\"], [0.8888888888888888, \"#fdca26\"], [1.0, \"#f0f921\"]], \"type\": \"surface\"}], \"table\": [{\"cells\": {\"fill\": {\"color\": \"#EBF0F8\"}, \"line\": {\"color\": \"white\"}}, \"header\": {\"fill\": {\"color\": \"#C8D4E3\"}, \"line\": {\"color\": \"white\"}}, \"type\": \"table\"}]}, \"layout\": {\"annotationdefaults\": {\"arrowcolor\": \"#2a3f5f\", \"arrowhead\": 0, \"arrowwidth\": 1}, \"coloraxis\": {\"colorbar\": {\"outlinewidth\": 0, \"ticks\": \"\"}}, \"colorscale\": {\"diverging\": [[0, \"#8e0152\"], [0.1, \"#c51b7d\"], [0.2, \"#de77ae\"], [0.3, \"#f1b6da\"], [0.4, \"#fde0ef\"], [0.5, \"#f7f7f7\"], [0.6, \"#e6f5d0\"], [0.7, \"#b8e186\"], [0.8, \"#7fbc41\"], [0.9, \"#4d9221\"], [1, \"#276419\"]], \"sequential\": [[0.0, \"#0d0887\"], [0.1111111111111111, \"#46039f\"], [0.2222222222222222, \"#7201a8\"], [0.3333333333333333, \"#9c179e\"], [0.4444444444444444, \"#bd3786\"], [0.5555555555555556, \"#d8576b\"], [0.6666666666666666, \"#ed7953\"], [0.7777777777777778, \"#fb9f3a\"], [0.8888888888888888, \"#fdca26\"], [1.0, \"#f0f921\"]], \"sequentialminus\": [[0.0, \"#0d0887\"], [0.1111111111111111, \"#46039f\"], [0.2222222222222222, \"#7201a8\"], [0.3333333333333333, \"#9c179e\"], [0.4444444444444444, \"#bd3786\"], [0.5555555555555556, \"#d8576b\"], [0.6666666666666666, \"#ed7953\"], [0.7777777777777778, \"#fb9f3a\"], [0.8888888888888888, \"#fdca26\"], [1.0, \"#f0f921\"]]}, \"colorway\": [\"#636efa\", \"#EF553B\", \"#00cc96\", \"#ab63fa\", \"#FFA15A\", \"#19d3f3\", \"#FF6692\", \"#B6E880\", \"#FF97FF\", \"#FECB52\"], \"font\": {\"color\": \"#2a3f5f\"}, \"geo\": {\"bgcolor\": \"white\", \"lakecolor\": \"white\", \"landcolor\": \"#E5ECF6\", \"showlakes\": true, \"showland\": true, \"subunitcolor\": \"white\"}, \"hoverlabel\": {\"align\": \"left\"}, \"hovermode\": \"closest\", \"mapbox\": {\"style\": \"light\"}, \"paper_bgcolor\": \"white\", \"plot_bgcolor\": \"#E5ECF6\", \"polar\": {\"angularaxis\": {\"gridcolor\": \"white\", \"linecolor\": \"white\", \"ticks\": \"\"}, \"bgcolor\": \"#E5ECF6\", \"radialaxis\": {\"gridcolor\": \"white\", \"linecolor\": \"white\", \"ticks\": \"\"}}, \"scene\": {\"xaxis\": {\"backgroundcolor\": \"#E5ECF6\", \"gridcolor\": \"white\", \"gridwidth\": 2, \"linecolor\": \"white\", \"showbackground\": true, \"ticks\": \"\", \"zerolinecolor\": \"white\"}, \"yaxis\": {\"backgroundcolor\": \"#E5ECF6\", \"gridcolor\": \"white\", \"gridwidth\": 2, \"linecolor\": \"white\", \"showbackground\": true, \"ticks\": \"\", \"zerolinecolor\": \"white\"}, \"zaxis\": {\"backgroundcolor\": \"#E5ECF6\", \"gridcolor\": \"white\", \"gridwidth\": 2, \"linecolor\": \"white\", \"showbackground\": true, \"ticks\": \"\", \"zerolinecolor\": \"white\"}}, \"shapedefaults\": {\"line\": {\"color\": \"#2a3f5f\"}}, \"ternary\": {\"aaxis\": {\"gridcolor\": \"white\", \"linecolor\": \"white\", \"ticks\": \"\"}, \"baxis\": {\"gridcolor\": \"white\", \"linecolor\": \"white\", \"ticks\": \"\"}, \"bgcolor\": \"#E5ECF6\", \"caxis\": {\"gridcolor\": \"white\", \"linecolor\": \"white\", \"ticks\": \"\"}}, \"title\": {\"x\": 0.05}, \"xaxis\": {\"automargin\": true, \"gridcolor\": \"white\", \"linecolor\": \"white\", \"ticks\": \"\", \"title\": {\"standoff\": 15}, \"zerolinecolor\": \"white\", \"zerolinewidth\": 2}, \"yaxis\": {\"automargin\": true, \"gridcolor\": \"white\", \"linecolor\": \"white\", \"ticks\": \"\", \"title\": {\"standoff\": 15}, \"zerolinecolor\": \"white\", \"zerolinewidth\": 2}}}},\n",
       "                        {\"responsive\": true}\n",
       "                    ).then(function(){\n",
       "                            \n",
       "var gd = document.getElementById('098e37e6-2e8e-41c7-8945-7fafe8127f15');\n",
       "var x = new MutationObserver(function (mutations, observer) {{\n",
       "        var display = window.getComputedStyle(gd).display;\n",
       "        if (!display || display === 'none') {{\n",
       "            console.log([gd, 'removed!']);\n",
       "            Plotly.purge(gd);\n",
       "            observer.disconnect();\n",
       "        }}\n",
       "}});\n",
       "\n",
       "// Listen for the removal of the full notebook cells\n",
       "var notebookContainer = gd.closest('#notebook-container');\n",
       "if (notebookContainer) {{\n",
       "    x.observe(notebookContainer, {childList: true});\n",
       "}}\n",
       "\n",
       "// Listen for the clearing of the current output cell\n",
       "var outputEl = gd.closest('.output');\n",
       "if (outputEl) {{\n",
       "    x.observe(outputEl, {childList: true});\n",
       "}}\n",
       "\n",
       "                        })\n",
       "                };\n",
       "                });\n",
       "            </script>\n",
       "        </div>"
      ]
     },
     "metadata": {},
     "output_type": "display_data"
    }
   ],
   "source": [
    "month=rosn_m.index.strftime('%b-2017')\n",
    "\n",
    "trace2 = go.Candlestick(\n",
    "                x=month, \n",
    "                open=rosn_m['Open'],\n",
    "                high=rosn_m['High'],\n",
    "                low=rosn_m['Low'],\n",
    "                close=rosn_m['Close'])\n",
    "\n",
    "data2 = [trace2]\n",
    "fig = go.Figure(data=data2)\n",
    "iplot(fig)"
   ]
  },
  {
   "cell_type": "code",
   "execution_count": 54,
   "metadata": {},
   "outputs": [
    {
     "data": {
      "text/html": [
       "<div>\n",
       "<style scoped>\n",
       "    .dataframe tbody tr th:only-of-type {\n",
       "        vertical-align: middle;\n",
       "    }\n",
       "\n",
       "    .dataframe tbody tr th {\n",
       "        vertical-align: top;\n",
       "    }\n",
       "\n",
       "    .dataframe thead th {\n",
       "        text-align: right;\n",
       "    }\n",
       "</style>\n",
       "<table border=\"1\" class=\"dataframe\">\n",
       "  <thead>\n",
       "    <tr style=\"text-align: right;\">\n",
       "      <th></th>\n",
       "      <th>&lt;OPEN&gt;</th>\n",
       "      <th>&lt;HIGH&gt;</th>\n",
       "      <th>&lt;LOW&gt;</th>\n",
       "      <th>&lt;CLOSE&gt;</th>\n",
       "      <th>&lt;VOL&gt;</th>\n",
       "    </tr>\n",
       "    <tr>\n",
       "      <th>index</th>\n",
       "      <th></th>\n",
       "      <th></th>\n",
       "      <th></th>\n",
       "      <th></th>\n",
       "      <th></th>\n",
       "    </tr>\n",
       "  </thead>\n",
       "  <tbody>\n",
       "    <tr>\n",
       "      <th>2018-01-01</th>\n",
       "      <td>292.15</td>\n",
       "      <td>313.65</td>\n",
       "      <td>292.15</td>\n",
       "      <td>311.95</td>\n",
       "      <td>12222400</td>\n",
       "    </tr>\n",
       "    <tr>\n",
       "      <th>2018-01-08</th>\n",
       "      <td>312.55</td>\n",
       "      <td>326.95</td>\n",
       "      <td>311.15</td>\n",
       "      <td>324.35</td>\n",
       "      <td>20182890</td>\n",
       "    </tr>\n",
       "    <tr>\n",
       "      <th>2018-01-15</th>\n",
       "      <td>325.00</td>\n",
       "      <td>333.35</td>\n",
       "      <td>312.95</td>\n",
       "      <td>328.00</td>\n",
       "      <td>29394910</td>\n",
       "    </tr>\n",
       "    <tr>\n",
       "      <th>2018-01-22</th>\n",
       "      <td>328.00</td>\n",
       "      <td>359.30</td>\n",
       "      <td>324.40</td>\n",
       "      <td>351.80</td>\n",
       "      <td>41393810</td>\n",
       "    </tr>\n",
       "    <tr>\n",
       "      <th>2018-01-29</th>\n",
       "      <td>353.00</td>\n",
       "      <td>356.80</td>\n",
       "      <td>337.25</td>\n",
       "      <td>339.90</td>\n",
       "      <td>27506010</td>\n",
       "    </tr>\n",
       "    <tr>\n",
       "      <th>2018-02-05</th>\n",
       "      <td>336.00</td>\n",
       "      <td>340.45</td>\n",
       "      <td>320.35</td>\n",
       "      <td>324.55</td>\n",
       "      <td>28248480</td>\n",
       "    </tr>\n",
       "    <tr>\n",
       "      <th>2018-02-12</th>\n",
       "      <td>328.20</td>\n",
       "      <td>333.80</td>\n",
       "      <td>322.75</td>\n",
       "      <td>324.20</td>\n",
       "      <td>23422490</td>\n",
       "    </tr>\n",
       "    <tr>\n",
       "      <th>2018-02-19</th>\n",
       "      <td>325.40</td>\n",
       "      <td>338.00</td>\n",
       "      <td>319.50</td>\n",
       "      <td>337.30</td>\n",
       "      <td>12858890</td>\n",
       "    </tr>\n",
       "    <tr>\n",
       "      <th>2018-02-26</th>\n",
       "      <td>341.35</td>\n",
       "      <td>345.85</td>\n",
       "      <td>314.60</td>\n",
       "      <td>319.50</td>\n",
       "      <td>20156080</td>\n",
       "    </tr>\n",
       "    <tr>\n",
       "      <th>2018-03-05</th>\n",
       "      <td>321.65</td>\n",
       "      <td>324.95</td>\n",
       "      <td>312.20</td>\n",
       "      <td>313.25</td>\n",
       "      <td>13290650</td>\n",
       "    </tr>\n",
       "  </tbody>\n",
       "</table>\n",
       "</div>"
      ],
      "text/plain": [
       "            <OPEN>  <HIGH>   <LOW>  <CLOSE>     <VOL>\n",
       "index                                                \n",
       "2018-01-01  292.15  313.65  292.15   311.95  12222400\n",
       "2018-01-08  312.55  326.95  311.15   324.35  20182890\n",
       "2018-01-15  325.00  333.35  312.95   328.00  29394910\n",
       "2018-01-22  328.00  359.30  324.40   351.80  41393810\n",
       "2018-01-29  353.00  356.80  337.25   339.90  27506010\n",
       "2018-02-05  336.00  340.45  320.35   324.55  28248480\n",
       "2018-02-12  328.20  333.80  322.75   324.20  23422490\n",
       "2018-02-19  325.40  338.00  319.50   337.30  12858890\n",
       "2018-02-26  341.35  345.85  314.60   319.50  20156080\n",
       "2018-03-05  321.65  324.95  312.20   313.25  13290650"
      ]
     },
     "execution_count": 54,
     "metadata": {},
     "output_type": "execute_result"
    }
   ],
   "source": [
    "#Пересобираем данные\n",
    "\n",
    "rosn_week = exporter.download(\n",
    "    id_ = rosn.index[0],\n",
    "    market = Market.SHARES,\n",
    "    start_date = datetime(2017, 12, 31),\n",
    "    end_date = datetime(2018, 12, 31),\n",
    "    timeframe = Timeframe.WEEKLY\n",
    ")\n",
    "rosn_week.head(10)"
   ]
  },
  {
   "cell_type": "code",
   "execution_count": 55,
   "metadata": {},
   "outputs": [
    {
     "data": {
      "text/html": [
       "<div>\n",
       "<style scoped>\n",
       "    .dataframe tbody tr th:only-of-type {\n",
       "        vertical-align: middle;\n",
       "    }\n",
       "\n",
       "    .dataframe tbody tr th {\n",
       "        vertical-align: top;\n",
       "    }\n",
       "\n",
       "    .dataframe thead th {\n",
       "        text-align: right;\n",
       "    }\n",
       "</style>\n",
       "<table border=\"1\" class=\"dataframe\">\n",
       "  <thead>\n",
       "    <tr style=\"text-align: right;\">\n",
       "      <th></th>\n",
       "      <th>Open</th>\n",
       "      <th>High</th>\n",
       "      <th>Low</th>\n",
       "      <th>Close</th>\n",
       "      <th>Volume</th>\n",
       "    </tr>\n",
       "    <tr>\n",
       "      <th>index</th>\n",
       "      <th></th>\n",
       "      <th></th>\n",
       "      <th></th>\n",
       "      <th></th>\n",
       "      <th></th>\n",
       "    </tr>\n",
       "  </thead>\n",
       "  <tbody>\n",
       "    <tr>\n",
       "      <th>2018-01-01</th>\n",
       "      <td>292.15</td>\n",
       "      <td>313.65</td>\n",
       "      <td>292.15</td>\n",
       "      <td>311.95</td>\n",
       "      <td>12222400</td>\n",
       "    </tr>\n",
       "    <tr>\n",
       "      <th>2018-01-08</th>\n",
       "      <td>312.55</td>\n",
       "      <td>326.95</td>\n",
       "      <td>311.15</td>\n",
       "      <td>324.35</td>\n",
       "      <td>20182890</td>\n",
       "    </tr>\n",
       "    <tr>\n",
       "      <th>2018-01-15</th>\n",
       "      <td>325.00</td>\n",
       "      <td>333.35</td>\n",
       "      <td>312.95</td>\n",
       "      <td>328.00</td>\n",
       "      <td>29394910</td>\n",
       "    </tr>\n",
       "    <tr>\n",
       "      <th>2018-01-22</th>\n",
       "      <td>328.00</td>\n",
       "      <td>359.30</td>\n",
       "      <td>324.40</td>\n",
       "      <td>351.80</td>\n",
       "      <td>41393810</td>\n",
       "    </tr>\n",
       "    <tr>\n",
       "      <th>2018-01-29</th>\n",
       "      <td>353.00</td>\n",
       "      <td>356.80</td>\n",
       "      <td>337.25</td>\n",
       "      <td>339.90</td>\n",
       "      <td>27506010</td>\n",
       "    </tr>\n",
       "  </tbody>\n",
       "</table>\n",
       "</div>"
      ],
      "text/plain": [
       "              Open    High     Low   Close    Volume\n",
       "index                                               \n",
       "2018-01-01  292.15  313.65  292.15  311.95  12222400\n",
       "2018-01-08  312.55  326.95  311.15  324.35  20182890\n",
       "2018-01-15  325.00  333.35  312.95  328.00  29394910\n",
       "2018-01-22  328.00  359.30  324.40  351.80  41393810\n",
       "2018-01-29  353.00  356.80  337.25  339.90  27506010"
      ]
     },
     "execution_count": 55,
     "metadata": {},
     "output_type": "execute_result"
    }
   ],
   "source": [
    "rosn_week.columns = ['Open', 'High','Low','Close','Volume']\n",
    "rosn_week.head(5)"
   ]
  },
  {
   "cell_type": "code",
   "execution_count": 58,
   "metadata": {},
   "outputs": [
    {
     "data": {
      "text/plain": [
       "index\n",
       "2018-01-07    12222400\n",
       "2018-01-14    20182890\n",
       "2018-01-21    29394910\n",
       "2018-01-28    41393810\n",
       "2018-02-04    27506010\n",
       "Freq: W-SUN, Name: Volume, dtype: int64"
      ]
     },
     "execution_count": 58,
     "metadata": {},
     "output_type": "execute_result"
    }
   ],
   "source": [
    "data_volume_week=rosn_week.Volume.resample('w').sum()\n",
    "data_volume_week.head(5)"
   ]
  },
  {
   "cell_type": "code",
   "execution_count": 59,
   "metadata": {},
   "outputs": [
    {
     "data": {
      "text/plain": [
       "array([292.15, 312.55, 325.  , 328.  , 353.  , 336.  , 328.2 , 325.4 ,\n",
       "       341.35, 321.65, 314.65, 321.8 , 313.8 , 314.5 , 318.4 , 317.9 ,\n",
       "       339.  , 381.05, 389.5 , 402.05, 387.85, 376.55, 383.5 , 382.8 ,\n",
       "       381.85, 390.  , 394.5 , 402.4 , 406.3 , 394.05, 400.4 , 412.55,\n",
       "       430.1 , 426.5 , 429.25, 435.7 , 438.95, 442.65, 442.15, 495.95,\n",
       "       490.55, 468.25, 469.  , 454.45, 462.2 , 472.2 , 422.35, 405.8 ,\n",
       "       431.55, 436.75, 416.7 , 414.7 , 429.  ])"
      ]
     },
     "execution_count": 59,
     "metadata": {},
     "output_type": "execute_result"
    }
   ],
   "source": [
    "open_w=rosn_week.Open.resample('W').first().values\n",
    "open_w"
   ]
  },
  {
   "cell_type": "code",
   "execution_count": 60,
   "metadata": {},
   "outputs": [],
   "source": [
    "close_w=rosn_week.Close.resample('W').last().values\n",
    "low_w=rosn_week.Low.resample('W').min().values\n",
    "high_w=rosn_week.High.resample('W').max().values"
   ]
  },
  {
   "cell_type": "code",
   "execution_count": 67,
   "metadata": {},
   "outputs": [
    {
     "data": {
      "text/plain": [
       "Index(['01', '02', '03', '04', '05', '06', '07', '08', '09', '10', '11', '12',\n",
       "       '13', '14', '15', '16', '17', '18', '19', '20', '21', '22', '23', '24',\n",
       "       '25', '26', '27', '28', '29', '30', '31', '32', '33', '34', '35', '36',\n",
       "       '37', '38', '39', '40', '41', '42', '43', '44', '45', '46', '47', '48',\n",
       "       '49', '50', '51', '52', '53'],\n",
       "      dtype='object')"
      ]
     },
     "execution_count": 67,
     "metadata": {},
     "output_type": "execute_result"
    }
   ],
   "source": [
    "week = rosn_week.index.strftime('%W').unique()\n",
    "week"
   ]
  },
  {
   "cell_type": "code",
   "execution_count": 68,
   "metadata": {},
   "outputs": [
    {
     "data": {
      "text/plain": [
       "PeriodIndex(['2018-01-01/2018-01-07', '2018-01-08/2018-01-14',\n",
       "             '2018-01-15/2018-01-21', '2018-01-22/2018-01-28',\n",
       "             '2018-01-29/2018-02-04', '2018-02-05/2018-02-11',\n",
       "             '2018-02-12/2018-02-18', '2018-02-19/2018-02-25',\n",
       "             '2018-02-26/2018-03-04', '2018-03-05/2018-03-11',\n",
       "             '2018-03-12/2018-03-18', '2018-03-19/2018-03-25',\n",
       "             '2018-03-26/2018-04-01', '2018-04-02/2018-04-08',\n",
       "             '2018-04-09/2018-04-15', '2018-04-16/2018-04-22',\n",
       "             '2018-04-23/2018-04-29', '2018-04-30/2018-05-06',\n",
       "             '2018-05-07/2018-05-13', '2018-05-14/2018-05-20',\n",
       "             '2018-05-21/2018-05-27', '2018-05-28/2018-06-03',\n",
       "             '2018-06-04/2018-06-10', '2018-06-11/2018-06-17',\n",
       "             '2018-06-18/2018-06-24', '2018-06-25/2018-07-01',\n",
       "             '2018-07-02/2018-07-08', '2018-07-09/2018-07-15',\n",
       "             '2018-07-16/2018-07-22', '2018-07-23/2018-07-29',\n",
       "             '2018-07-30/2018-08-05', '2018-08-06/2018-08-12',\n",
       "             '2018-08-13/2018-08-19', '2018-08-20/2018-08-26',\n",
       "             '2018-08-27/2018-09-02', '2018-09-03/2018-09-09',\n",
       "             '2018-09-10/2018-09-16', '2018-09-17/2018-09-23',\n",
       "             '2018-09-24/2018-09-30', '2018-10-01/2018-10-07',\n",
       "             '2018-10-08/2018-10-14', '2018-10-15/2018-10-21',\n",
       "             '2018-10-22/2018-10-28', '2018-10-29/2018-11-04',\n",
       "             '2018-11-05/2018-11-11', '2018-11-12/2018-11-18',\n",
       "             '2018-11-19/2018-11-25', '2018-11-26/2018-12-02',\n",
       "             '2018-12-03/2018-12-09', '2018-12-10/2018-12-16',\n",
       "             '2018-12-17/2018-12-23', '2018-12-24/2018-12-30',\n",
       "             '2018-12-31/2019-01-06'],\n",
       "            dtype='period[W-SUN]', name='index', freq='W-SUN')"
      ]
     },
     "execution_count": 68,
     "metadata": {},
     "output_type": "execute_result"
    }
   ],
   "source": [
    "rosn_week.to_period('W').index.unique()"
   ]
  },
  {
   "cell_type": "code",
   "execution_count": 69,
   "metadata": {},
   "outputs": [
    {
     "data": {
      "text/html": [
       "<div>\n",
       "<style scoped>\n",
       "    .dataframe tbody tr th:only-of-type {\n",
       "        vertical-align: middle;\n",
       "    }\n",
       "\n",
       "    .dataframe tbody tr th {\n",
       "        vertical-align: top;\n",
       "    }\n",
       "\n",
       "    .dataframe thead th {\n",
       "        text-align: right;\n",
       "    }\n",
       "</style>\n",
       "<table border=\"1\" class=\"dataframe\">\n",
       "  <thead>\n",
       "    <tr style=\"text-align: right;\">\n",
       "      <th></th>\n",
       "      <th>week</th>\n",
       "      <th>open</th>\n",
       "      <th>close</th>\n",
       "      <th>low</th>\n",
       "      <th>high</th>\n",
       "    </tr>\n",
       "    <tr>\n",
       "      <th>index</th>\n",
       "      <th></th>\n",
       "      <th></th>\n",
       "      <th></th>\n",
       "      <th></th>\n",
       "      <th></th>\n",
       "    </tr>\n",
       "  </thead>\n",
       "  <tbody>\n",
       "    <tr>\n",
       "      <th>2018-01-01/2018-01-07</th>\n",
       "      <td>01</td>\n",
       "      <td>292.15</td>\n",
       "      <td>311.95</td>\n",
       "      <td>292.15</td>\n",
       "      <td>313.65</td>\n",
       "    </tr>\n",
       "    <tr>\n",
       "      <th>2018-01-08/2018-01-14</th>\n",
       "      <td>02</td>\n",
       "      <td>312.55</td>\n",
       "      <td>324.35</td>\n",
       "      <td>311.15</td>\n",
       "      <td>326.95</td>\n",
       "    </tr>\n",
       "    <tr>\n",
       "      <th>2018-01-15/2018-01-21</th>\n",
       "      <td>03</td>\n",
       "      <td>325.00</td>\n",
       "      <td>328.00</td>\n",
       "      <td>312.95</td>\n",
       "      <td>333.35</td>\n",
       "    </tr>\n",
       "  </tbody>\n",
       "</table>\n",
       "</div>"
      ],
      "text/plain": [
       "                      week    open   close     low    high\n",
       "index                                                     \n",
       "2018-01-01/2018-01-07   01  292.15  311.95  292.15  313.65\n",
       "2018-01-08/2018-01-14   02  312.55  324.35  311.15  326.95\n",
       "2018-01-15/2018-01-21   03  325.00  328.00  312.95  333.35"
      ]
     },
     "execution_count": 69,
     "metadata": {},
     "output_type": "execute_result"
    }
   ],
   "source": [
    "week_df = pd.DataFrame(\n",
    "    {'week':week,'open':open_w,'close':close_w,'low':low_w,'high':high_w},\n",
    "    index=rosn_week.to_period('W').index.unique())\n",
    "week_df.head(3)"
   ]
  },
  {
   "cell_type": "code",
   "execution_count": 71,
   "metadata": {},
   "outputs": [
    {
     "data": {
      "text/html": [
       "<div>\n",
       "<style scoped>\n",
       "    .dataframe tbody tr th:only-of-type {\n",
       "        vertical-align: middle;\n",
       "    }\n",
       "\n",
       "    .dataframe tbody tr th {\n",
       "        vertical-align: top;\n",
       "    }\n",
       "\n",
       "    .dataframe thead th {\n",
       "        text-align: right;\n",
       "    }\n",
       "</style>\n",
       "<table border=\"1\" class=\"dataframe\">\n",
       "  <thead>\n",
       "    <tr style=\"text-align: right;\">\n",
       "      <th></th>\n",
       "      <th>Open</th>\n",
       "      <th>Low</th>\n",
       "      <th>High</th>\n",
       "      <th>Close</th>\n",
       "    </tr>\n",
       "    <tr>\n",
       "      <th>index</th>\n",
       "      <th></th>\n",
       "      <th></th>\n",
       "      <th></th>\n",
       "      <th></th>\n",
       "    </tr>\n",
       "  </thead>\n",
       "  <tbody>\n",
       "    <tr>\n",
       "      <th>2018-01-07</th>\n",
       "      <td>292.15</td>\n",
       "      <td>292.15</td>\n",
       "      <td>313.65</td>\n",
       "      <td>311.95</td>\n",
       "    </tr>\n",
       "    <tr>\n",
       "      <th>2018-01-14</th>\n",
       "      <td>312.55</td>\n",
       "      <td>311.15</td>\n",
       "      <td>326.95</td>\n",
       "      <td>324.35</td>\n",
       "    </tr>\n",
       "    <tr>\n",
       "      <th>2018-01-21</th>\n",
       "      <td>325.00</td>\n",
       "      <td>312.95</td>\n",
       "      <td>333.35</td>\n",
       "      <td>328.00</td>\n",
       "    </tr>\n",
       "    <tr>\n",
       "      <th>2018-01-28</th>\n",
       "      <td>328.00</td>\n",
       "      <td>324.40</td>\n",
       "      <td>359.30</td>\n",
       "      <td>351.80</td>\n",
       "    </tr>\n",
       "    <tr>\n",
       "      <th>2018-02-04</th>\n",
       "      <td>353.00</td>\n",
       "      <td>337.25</td>\n",
       "      <td>356.80</td>\n",
       "      <td>339.90</td>\n",
       "    </tr>\n",
       "  </tbody>\n",
       "</table>\n",
       "</div>"
      ],
      "text/plain": [
       "              Open     Low    High   Close\n",
       "index                                     \n",
       "2018-01-07  292.15  292.15  313.65  311.95\n",
       "2018-01-14  312.55  311.15  326.95  324.35\n",
       "2018-01-21  325.00  312.95  333.35  328.00\n",
       "2018-01-28  328.00  324.40  359.30  351.80\n",
       "2018-02-04  353.00  337.25  356.80  339.90"
      ]
     },
     "execution_count": 71,
     "metadata": {},
     "output_type": "execute_result"
    }
   ],
   "source": [
    "rosn_w = data_daily.resample('w').agg({'Open':'first','Low':'min','High':'max','Close':'last'})\n",
    "rosn_w.head(5)"
   ]
  },
  {
   "cell_type": "code",
   "execution_count": 115,
   "metadata": {},
   "outputs": [
    {
     "data": {
      "application/vnd.plotly.v1+json": {
       "config": {
        "linkText": "Export to plot.ly",
        "plotlyServerURL": "https://plot.ly",
        "showLink": false
       },
       "data": [
        {
         "close": [
          311.95,
          324.35,
          328,
          351.8,
          339.9,
          324.55,
          324.2,
          337.3,
          319.5,
          313.25,
          319.3,
          314.5,
          313.9,
          319.6,
          323,
          338.95,
          381,
          386.75,
          401.45,
          387,
          378.3,
          382.55,
          382.15,
          383.25,
          390.8,
          396.15,
          403.4,
          406.9,
          393.25,
          403.5,
          411.25,
          433.25,
          425.8,
          428.1,
          435.7,
          439.55,
          441.35,
          440.4,
          493,
          503,
          465.1,
          467,
          453.3,
          459.6,
          468.6,
          420.85,
          405.2,
          423.1,
          439,
          418,
          415,
          430.95,
          430.4
         ],
         "high": [
          313.65,
          326.95,
          333.35,
          359.3,
          356.8,
          340.45,
          333.8,
          338,
          345.85,
          324.95,
          319.55,
          324.6,
          318.1,
          325.95,
          333,
          342.45,
          381.15,
          408.05,
          403.75,
          404.5,
          391.55,
          386.75,
          387.75,
          386.9,
          395.9,
          399.85,
          406.05,
          419,
          411.9,
          404.4,
          419.8,
          441.15,
          442,
          441.25,
          444.95,
          444.85,
          453.35,
          445,
          495,
          522.8,
          492.45,
          474.3,
          473.65,
          467,
          487.85,
          475.6,
          425.85,
          425.85,
          442.05,
          441,
          421.5,
          431.5,
          439
         ],
         "low": [
          292.15,
          311.15,
          312.95,
          324.4,
          337.25,
          320.35,
          322.75,
          319.5,
          314.6,
          312.2,
          305.55,
          311.25,
          305,
          309.05,
          281.65,
          315.1,
          336.1,
          379.15,
          385.8,
          380.1,
          374.25,
          374.25,
          371.4,
          377.3,
          379.4,
          387.7,
          388.35,
          399.6,
          391.1,
          390.35,
          399,
          412.5,
          421,
          418.05,
          426.5,
          432.4,
          437.85,
          434.45,
          440.45,
          487.8,
          458.15,
          460.2,
          448.9,
          443.05,
          461.7,
          420.5,
          401.25,
          397.25,
          422.55,
          414,
          405.05,
          401.85,
          422.4
         ],
         "open": [
          292.15,
          312.55,
          325,
          328,
          353,
          336,
          328.2,
          325.4,
          341.35,
          321.65,
          314.65,
          321.8,
          313.8,
          314.5,
          318.4,
          317.9,
          339,
          381.05,
          389.5,
          402.05,
          387.85,
          376.55,
          383.5,
          382.8,
          381.85,
          390,
          394.5,
          402.4,
          406.3,
          394.05,
          400.4,
          412.55,
          430.1,
          426.5,
          429.25,
          435.7,
          438.95,
          442.65,
          442.15,
          495.95,
          490.55,
          468.25,
          469,
          454.45,
          462.2,
          472.2,
          422.35,
          405.8,
          431.55,
          436.75,
          416.7,
          414.7,
          429
         ],
         "type": "ohlc",
         "x": [
          "2018-01-01T00:00:00",
          "2018-01-08T00:00:00",
          "2018-01-15T00:00:00",
          "2018-01-22T00:00:00",
          "2018-01-29T00:00:00",
          "2018-02-05T00:00:00",
          "2018-02-12T00:00:00",
          "2018-02-19T00:00:00",
          "2018-02-26T00:00:00",
          "2018-03-05T00:00:00",
          "2018-03-12T00:00:00",
          "2018-03-19T00:00:00",
          "2018-03-26T00:00:00",
          "2018-04-02T00:00:00",
          "2018-04-09T00:00:00",
          "2018-04-16T00:00:00",
          "2018-04-23T00:00:00",
          "2018-04-30T00:00:00",
          "2018-05-07T00:00:00",
          "2018-05-14T00:00:00",
          "2018-05-21T00:00:00",
          "2018-05-28T00:00:00",
          "2018-06-04T00:00:00",
          "2018-06-11T00:00:00",
          "2018-06-18T00:00:00",
          "2018-06-25T00:00:00",
          "2018-07-02T00:00:00",
          "2018-07-09T00:00:00",
          "2018-07-16T00:00:00",
          "2018-07-23T00:00:00",
          "2018-07-30T00:00:00",
          "2018-08-06T00:00:00",
          "2018-08-13T00:00:00",
          "2018-08-20T00:00:00",
          "2018-08-27T00:00:00",
          "2018-09-03T00:00:00",
          "2018-09-10T00:00:00",
          "2018-09-17T00:00:00",
          "2018-09-24T00:00:00",
          "2018-10-01T00:00:00",
          "2018-10-08T00:00:00",
          "2018-10-15T00:00:00",
          "2018-10-22T00:00:00",
          "2018-10-29T00:00:00",
          "2018-11-05T00:00:00",
          "2018-11-12T00:00:00",
          "2018-11-19T00:00:00",
          "2018-11-26T00:00:00",
          "2018-12-03T00:00:00",
          "2018-12-10T00:00:00",
          "2018-12-17T00:00:00",
          "2018-12-24T00:00:00",
          "2018-12-31T00:00:00"
         ]
        },
        {
         "close": [
          311.95,
          324.35,
          328,
          351.8,
          339.9,
          324.55,
          324.2,
          337.3,
          319.5,
          313.25,
          319.3,
          314.5,
          313.9,
          319.6,
          323,
          338.95,
          381,
          386.75,
          401.45,
          387,
          378.3,
          382.55,
          382.15,
          383.25,
          390.8,
          396.15,
          403.4,
          406.9,
          393.25,
          403.5,
          411.25,
          433.25,
          425.8,
          428.1,
          435.7,
          439.55,
          441.35,
          440.4,
          493,
          503,
          465.1,
          467,
          453.3,
          459.6,
          468.6,
          420.85,
          405.2,
          423.1,
          439,
          418,
          415,
          430.95
         ],
         "high": [
          313.65,
          326.95,
          333.35,
          359.3,
          356.8,
          340.45,
          333.8,
          338,
          345.85,
          324.95,
          319.55,
          324.6,
          318.1,
          325.95,
          333,
          342.45,
          381.15,
          408.05,
          403.75,
          404.5,
          391.55,
          386.75,
          387.75,
          386.9,
          395.9,
          399.85,
          406.05,
          419,
          411.9,
          404.4,
          419.8,
          441.15,
          442,
          441.25,
          444.95,
          444.85,
          453.35,
          445,
          495,
          522.8,
          492.45,
          474.3,
          473.65,
          467,
          487.85,
          475.6,
          425.85,
          425.85,
          442.05,
          441,
          421.5,
          431.5
         ],
         "low": [
          292.15,
          311.15,
          312.95,
          324.4,
          337.25,
          320.35,
          322.75,
          319.5,
          314.6,
          312.2,
          305.55,
          311.25,
          305,
          309.05,
          281.65,
          315.1,
          336.1,
          379.15,
          385.8,
          380.1,
          374.25,
          374.25,
          371.4,
          377.3,
          379.4,
          387.7,
          388.35,
          399.6,
          391.1,
          390.35,
          399,
          412.5,
          421,
          418.05,
          426.5,
          432.4,
          437.85,
          434.45,
          440.45,
          487.8,
          458.15,
          460.2,
          448.9,
          443.05,
          461.7,
          420.5,
          401.25,
          397.25,
          422.55,
          414,
          405.05,
          401.85
         ],
         "open": [
          292.15,
          312.55,
          325,
          328,
          353,
          336,
          328.2,
          325.4,
          341.35,
          321.65,
          314.65,
          321.8,
          313.8,
          314.5,
          318.4,
          317.9,
          339,
          381.05,
          389.5,
          402.05,
          387.85,
          376.55,
          383.5,
          382.8,
          381.85,
          390,
          394.5,
          402.4,
          406.3,
          394.05,
          400.4,
          412.55,
          430.1,
          426.5,
          429.25,
          435.7,
          438.95,
          442.65,
          442.15,
          495.95,
          490.55,
          468.25,
          469,
          454.45,
          462.2,
          472.2,
          422.35,
          405.8,
          431.55,
          436.75,
          416.7,
          414.7
         ],
         "type": "candlestick",
         "x": [
          "01",
          "02",
          "03",
          "04",
          "05",
          "06",
          "07",
          "08",
          "09",
          "10",
          "11",
          "12",
          "13",
          "14",
          "15",
          "16",
          "17",
          "18",
          "19",
          "20",
          "21",
          "22",
          "23",
          "24",
          "25",
          "26",
          "27",
          "28",
          "29",
          "30",
          "31",
          "32",
          "33",
          "34",
          "35",
          "36",
          "37",
          "38",
          "39",
          "40",
          "41",
          "42",
          "43",
          "44",
          "45",
          "46",
          "47",
          "48",
          "49",
          "50",
          "51",
          "52",
          "53"
         ]
        }
       ],
       "layout": {
        "template": {
         "data": {
          "bar": [
           {
            "error_x": {
             "color": "#2a3f5f"
            },
            "error_y": {
             "color": "#2a3f5f"
            },
            "marker": {
             "line": {
              "color": "#E5ECF6",
              "width": 0.5
             }
            },
            "type": "bar"
           }
          ],
          "barpolar": [
           {
            "marker": {
             "line": {
              "color": "#E5ECF6",
              "width": 0.5
             }
            },
            "type": "barpolar"
           }
          ],
          "carpet": [
           {
            "aaxis": {
             "endlinecolor": "#2a3f5f",
             "gridcolor": "white",
             "linecolor": "white",
             "minorgridcolor": "white",
             "startlinecolor": "#2a3f5f"
            },
            "baxis": {
             "endlinecolor": "#2a3f5f",
             "gridcolor": "white",
             "linecolor": "white",
             "minorgridcolor": "white",
             "startlinecolor": "#2a3f5f"
            },
            "type": "carpet"
           }
          ],
          "choropleth": [
           {
            "colorbar": {
             "outlinewidth": 0,
             "ticks": ""
            },
            "type": "choropleth"
           }
          ],
          "contour": [
           {
            "colorbar": {
             "outlinewidth": 0,
             "ticks": ""
            },
            "colorscale": [
             [
              0,
              "#0d0887"
             ],
             [
              0.1111111111111111,
              "#46039f"
             ],
             [
              0.2222222222222222,
              "#7201a8"
             ],
             [
              0.3333333333333333,
              "#9c179e"
             ],
             [
              0.4444444444444444,
              "#bd3786"
             ],
             [
              0.5555555555555556,
              "#d8576b"
             ],
             [
              0.6666666666666666,
              "#ed7953"
             ],
             [
              0.7777777777777778,
              "#fb9f3a"
             ],
             [
              0.8888888888888888,
              "#fdca26"
             ],
             [
              1,
              "#f0f921"
             ]
            ],
            "type": "contour"
           }
          ],
          "contourcarpet": [
           {
            "colorbar": {
             "outlinewidth": 0,
             "ticks": ""
            },
            "type": "contourcarpet"
           }
          ],
          "heatmap": [
           {
            "colorbar": {
             "outlinewidth": 0,
             "ticks": ""
            },
            "colorscale": [
             [
              0,
              "#0d0887"
             ],
             [
              0.1111111111111111,
              "#46039f"
             ],
             [
              0.2222222222222222,
              "#7201a8"
             ],
             [
              0.3333333333333333,
              "#9c179e"
             ],
             [
              0.4444444444444444,
              "#bd3786"
             ],
             [
              0.5555555555555556,
              "#d8576b"
             ],
             [
              0.6666666666666666,
              "#ed7953"
             ],
             [
              0.7777777777777778,
              "#fb9f3a"
             ],
             [
              0.8888888888888888,
              "#fdca26"
             ],
             [
              1,
              "#f0f921"
             ]
            ],
            "type": "heatmap"
           }
          ],
          "heatmapgl": [
           {
            "colorbar": {
             "outlinewidth": 0,
             "ticks": ""
            },
            "colorscale": [
             [
              0,
              "#0d0887"
             ],
             [
              0.1111111111111111,
              "#46039f"
             ],
             [
              0.2222222222222222,
              "#7201a8"
             ],
             [
              0.3333333333333333,
              "#9c179e"
             ],
             [
              0.4444444444444444,
              "#bd3786"
             ],
             [
              0.5555555555555556,
              "#d8576b"
             ],
             [
              0.6666666666666666,
              "#ed7953"
             ],
             [
              0.7777777777777778,
              "#fb9f3a"
             ],
             [
              0.8888888888888888,
              "#fdca26"
             ],
             [
              1,
              "#f0f921"
             ]
            ],
            "type": "heatmapgl"
           }
          ],
          "histogram": [
           {
            "marker": {
             "colorbar": {
              "outlinewidth": 0,
              "ticks": ""
             }
            },
            "type": "histogram"
           }
          ],
          "histogram2d": [
           {
            "colorbar": {
             "outlinewidth": 0,
             "ticks": ""
            },
            "colorscale": [
             [
              0,
              "#0d0887"
             ],
             [
              0.1111111111111111,
              "#46039f"
             ],
             [
              0.2222222222222222,
              "#7201a8"
             ],
             [
              0.3333333333333333,
              "#9c179e"
             ],
             [
              0.4444444444444444,
              "#bd3786"
             ],
             [
              0.5555555555555556,
              "#d8576b"
             ],
             [
              0.6666666666666666,
              "#ed7953"
             ],
             [
              0.7777777777777778,
              "#fb9f3a"
             ],
             [
              0.8888888888888888,
              "#fdca26"
             ],
             [
              1,
              "#f0f921"
             ]
            ],
            "type": "histogram2d"
           }
          ],
          "histogram2dcontour": [
           {
            "colorbar": {
             "outlinewidth": 0,
             "ticks": ""
            },
            "colorscale": [
             [
              0,
              "#0d0887"
             ],
             [
              0.1111111111111111,
              "#46039f"
             ],
             [
              0.2222222222222222,
              "#7201a8"
             ],
             [
              0.3333333333333333,
              "#9c179e"
             ],
             [
              0.4444444444444444,
              "#bd3786"
             ],
             [
              0.5555555555555556,
              "#d8576b"
             ],
             [
              0.6666666666666666,
              "#ed7953"
             ],
             [
              0.7777777777777778,
              "#fb9f3a"
             ],
             [
              0.8888888888888888,
              "#fdca26"
             ],
             [
              1,
              "#f0f921"
             ]
            ],
            "type": "histogram2dcontour"
           }
          ],
          "mesh3d": [
           {
            "colorbar": {
             "outlinewidth": 0,
             "ticks": ""
            },
            "type": "mesh3d"
           }
          ],
          "parcoords": [
           {
            "line": {
             "colorbar": {
              "outlinewidth": 0,
              "ticks": ""
             }
            },
            "type": "parcoords"
           }
          ],
          "pie": [
           {
            "automargin": true,
            "type": "pie"
           }
          ],
          "scatter": [
           {
            "marker": {
             "colorbar": {
              "outlinewidth": 0,
              "ticks": ""
             }
            },
            "type": "scatter"
           }
          ],
          "scatter3d": [
           {
            "line": {
             "colorbar": {
              "outlinewidth": 0,
              "ticks": ""
             }
            },
            "marker": {
             "colorbar": {
              "outlinewidth": 0,
              "ticks": ""
             }
            },
            "type": "scatter3d"
           }
          ],
          "scattercarpet": [
           {
            "marker": {
             "colorbar": {
              "outlinewidth": 0,
              "ticks": ""
             }
            },
            "type": "scattercarpet"
           }
          ],
          "scattergeo": [
           {
            "marker": {
             "colorbar": {
              "outlinewidth": 0,
              "ticks": ""
             }
            },
            "type": "scattergeo"
           }
          ],
          "scattergl": [
           {
            "marker": {
             "colorbar": {
              "outlinewidth": 0,
              "ticks": ""
             }
            },
            "type": "scattergl"
           }
          ],
          "scattermapbox": [
           {
            "marker": {
             "colorbar": {
              "outlinewidth": 0,
              "ticks": ""
             }
            },
            "type": "scattermapbox"
           }
          ],
          "scatterpolar": [
           {
            "marker": {
             "colorbar": {
              "outlinewidth": 0,
              "ticks": ""
             }
            },
            "type": "scatterpolar"
           }
          ],
          "scatterpolargl": [
           {
            "marker": {
             "colorbar": {
              "outlinewidth": 0,
              "ticks": ""
             }
            },
            "type": "scatterpolargl"
           }
          ],
          "scatterternary": [
           {
            "marker": {
             "colorbar": {
              "outlinewidth": 0,
              "ticks": ""
             }
            },
            "type": "scatterternary"
           }
          ],
          "surface": [
           {
            "colorbar": {
             "outlinewidth": 0,
             "ticks": ""
            },
            "colorscale": [
             [
              0,
              "#0d0887"
             ],
             [
              0.1111111111111111,
              "#46039f"
             ],
             [
              0.2222222222222222,
              "#7201a8"
             ],
             [
              0.3333333333333333,
              "#9c179e"
             ],
             [
              0.4444444444444444,
              "#bd3786"
             ],
             [
              0.5555555555555556,
              "#d8576b"
             ],
             [
              0.6666666666666666,
              "#ed7953"
             ],
             [
              0.7777777777777778,
              "#fb9f3a"
             ],
             [
              0.8888888888888888,
              "#fdca26"
             ],
             [
              1,
              "#f0f921"
             ]
            ],
            "type": "surface"
           }
          ],
          "table": [
           {
            "cells": {
             "fill": {
              "color": "#EBF0F8"
             },
             "line": {
              "color": "white"
             }
            },
            "header": {
             "fill": {
              "color": "#C8D4E3"
             },
             "line": {
              "color": "white"
             }
            },
            "type": "table"
           }
          ]
         },
         "layout": {
          "annotationdefaults": {
           "arrowcolor": "#2a3f5f",
           "arrowhead": 0,
           "arrowwidth": 1
          },
          "coloraxis": {
           "colorbar": {
            "outlinewidth": 0,
            "ticks": ""
           }
          },
          "colorscale": {
           "diverging": [
            [
             0,
             "#8e0152"
            ],
            [
             0.1,
             "#c51b7d"
            ],
            [
             0.2,
             "#de77ae"
            ],
            [
             0.3,
             "#f1b6da"
            ],
            [
             0.4,
             "#fde0ef"
            ],
            [
             0.5,
             "#f7f7f7"
            ],
            [
             0.6,
             "#e6f5d0"
            ],
            [
             0.7,
             "#b8e186"
            ],
            [
             0.8,
             "#7fbc41"
            ],
            [
             0.9,
             "#4d9221"
            ],
            [
             1,
             "#276419"
            ]
           ],
           "sequential": [
            [
             0,
             "#0d0887"
            ],
            [
             0.1111111111111111,
             "#46039f"
            ],
            [
             0.2222222222222222,
             "#7201a8"
            ],
            [
             0.3333333333333333,
             "#9c179e"
            ],
            [
             0.4444444444444444,
             "#bd3786"
            ],
            [
             0.5555555555555556,
             "#d8576b"
            ],
            [
             0.6666666666666666,
             "#ed7953"
            ],
            [
             0.7777777777777778,
             "#fb9f3a"
            ],
            [
             0.8888888888888888,
             "#fdca26"
            ],
            [
             1,
             "#f0f921"
            ]
           ],
           "sequentialminus": [
            [
             0,
             "#0d0887"
            ],
            [
             0.1111111111111111,
             "#46039f"
            ],
            [
             0.2222222222222222,
             "#7201a8"
            ],
            [
             0.3333333333333333,
             "#9c179e"
            ],
            [
             0.4444444444444444,
             "#bd3786"
            ],
            [
             0.5555555555555556,
             "#d8576b"
            ],
            [
             0.6666666666666666,
             "#ed7953"
            ],
            [
             0.7777777777777778,
             "#fb9f3a"
            ],
            [
             0.8888888888888888,
             "#fdca26"
            ],
            [
             1,
             "#f0f921"
            ]
           ]
          },
          "colorway": [
           "#636efa",
           "#EF553B",
           "#00cc96",
           "#ab63fa",
           "#FFA15A",
           "#19d3f3",
           "#FF6692",
           "#B6E880",
           "#FF97FF",
           "#FECB52"
          ],
          "font": {
           "color": "#2a3f5f"
          },
          "geo": {
           "bgcolor": "white",
           "lakecolor": "white",
           "landcolor": "#E5ECF6",
           "showlakes": true,
           "showland": true,
           "subunitcolor": "white"
          },
          "hoverlabel": {
           "align": "left"
          },
          "hovermode": "closest",
          "mapbox": {
           "style": "light"
          },
          "paper_bgcolor": "white",
          "plot_bgcolor": "#E5ECF6",
          "polar": {
           "angularaxis": {
            "gridcolor": "white",
            "linecolor": "white",
            "ticks": ""
           },
           "bgcolor": "#E5ECF6",
           "radialaxis": {
            "gridcolor": "white",
            "linecolor": "white",
            "ticks": ""
           }
          },
          "scene": {
           "xaxis": {
            "backgroundcolor": "#E5ECF6",
            "gridcolor": "white",
            "gridwidth": 2,
            "linecolor": "white",
            "showbackground": true,
            "ticks": "",
            "zerolinecolor": "white"
           },
           "yaxis": {
            "backgroundcolor": "#E5ECF6",
            "gridcolor": "white",
            "gridwidth": 2,
            "linecolor": "white",
            "showbackground": true,
            "ticks": "",
            "zerolinecolor": "white"
           },
           "zaxis": {
            "backgroundcolor": "#E5ECF6",
            "gridcolor": "white",
            "gridwidth": 2,
            "linecolor": "white",
            "showbackground": true,
            "ticks": "",
            "zerolinecolor": "white"
           }
          },
          "shapedefaults": {
           "line": {
            "color": "#2a3f5f"
           }
          },
          "ternary": {
           "aaxis": {
            "gridcolor": "white",
            "linecolor": "white",
            "ticks": ""
           },
           "baxis": {
            "gridcolor": "white",
            "linecolor": "white",
            "ticks": ""
           },
           "bgcolor": "#E5ECF6",
           "caxis": {
            "gridcolor": "white",
            "linecolor": "white",
            "ticks": ""
           }
          },
          "title": {
           "x": 0.05
          },
          "xaxis": {
           "automargin": true,
           "gridcolor": "white",
           "linecolor": "white",
           "ticks": "",
           "title": {
            "standoff": 15
           },
           "zerolinecolor": "white",
           "zerolinewidth": 2
          },
          "yaxis": {
           "automargin": true,
           "gridcolor": "white",
           "linecolor": "white",
           "ticks": "",
           "title": {
            "standoff": 15
           },
           "zerolinecolor": "white",
           "zerolinewidth": 2
          }
         }
        }
       }
      },
      "text/html": [
       "<div>\n",
       "        \n",
       "        \n",
       "            <div id=\"d5a93f25-b572-4841-8d80-fac24a3cab49\" class=\"plotly-graph-div\" style=\"height:525px; width:100%;\"></div>\n",
       "            <script type=\"text/javascript\">\n",
       "                require([\"plotly\"], function(Plotly) {\n",
       "                    window.PLOTLYENV=window.PLOTLYENV || {};\n",
       "                    \n",
       "                if (document.getElementById(\"d5a93f25-b572-4841-8d80-fac24a3cab49\")) {\n",
       "                    Plotly.newPlot(\n",
       "                        'd5a93f25-b572-4841-8d80-fac24a3cab49',\n",
       "                        [{\"close\": [311.95, 324.35, 328.0, 351.8, 339.9, 324.55, 324.2, 337.3, 319.5, 313.25, 319.3, 314.5, 313.9, 319.6, 323.0, 338.95, 381.0, 386.75, 401.45, 387.0, 378.3, 382.55, 382.15, 383.25, 390.8, 396.15, 403.4, 406.9, 393.25, 403.5, 411.25, 433.25, 425.8, 428.1, 435.7, 439.55, 441.35, 440.4, 493.0, 503.0, 465.1, 467.0, 453.3, 459.6, 468.6, 420.85, 405.2, 423.1, 439.0, 418.0, 415.0, 430.95, 430.4], \"high\": [313.65, 326.95, 333.35, 359.3, 356.8, 340.45, 333.8, 338.0, 345.85, 324.95, 319.55, 324.6, 318.1, 325.95, 333.0, 342.45, 381.15, 408.05, 403.75, 404.5, 391.55, 386.75, 387.75, 386.9, 395.9, 399.85, 406.05, 419.0, 411.9, 404.4, 419.8, 441.15, 442.0, 441.25, 444.95, 444.85, 453.35, 445.0, 495.0, 522.8, 492.45, 474.3, 473.65, 467.0, 487.85, 475.6, 425.85, 425.85, 442.05, 441.0, 421.5, 431.5, 439.0], \"low\": [292.15, 311.15, 312.95, 324.4, 337.25, 320.35, 322.75, 319.5, 314.6, 312.2, 305.55, 311.25, 305.0, 309.05, 281.65, 315.1, 336.1, 379.15, 385.8, 380.1, 374.25, 374.25, 371.4, 377.3, 379.4, 387.7, 388.35, 399.6, 391.1, 390.35, 399.0, 412.5, 421.0, 418.05, 426.5, 432.4, 437.85, 434.45, 440.45, 487.8, 458.15, 460.2, 448.9, 443.05, 461.7, 420.5, 401.25, 397.25, 422.55, 414.0, 405.05, 401.85, 422.4], \"open\": [292.15, 312.55, 325.0, 328.0, 353.0, 336.0, 328.2, 325.4, 341.35, 321.65, 314.65, 321.8, 313.8, 314.5, 318.4, 317.9, 339.0, 381.05, 389.5, 402.05, 387.85, 376.55, 383.5, 382.8, 381.85, 390.0, 394.5, 402.4, 406.3, 394.05, 400.4, 412.55, 430.1, 426.5, 429.25, 435.7, 438.95, 442.65, 442.15, 495.95, 490.55, 468.25, 469.0, 454.45, 462.2, 472.2, 422.35, 405.8, 431.55, 436.75, 416.7, 414.7, 429.0], \"type\": \"ohlc\", \"x\": [\"2018-01-01T00:00:00\", \"2018-01-08T00:00:00\", \"2018-01-15T00:00:00\", \"2018-01-22T00:00:00\", \"2018-01-29T00:00:00\", \"2018-02-05T00:00:00\", \"2018-02-12T00:00:00\", \"2018-02-19T00:00:00\", \"2018-02-26T00:00:00\", \"2018-03-05T00:00:00\", \"2018-03-12T00:00:00\", \"2018-03-19T00:00:00\", \"2018-03-26T00:00:00\", \"2018-04-02T00:00:00\", \"2018-04-09T00:00:00\", \"2018-04-16T00:00:00\", \"2018-04-23T00:00:00\", \"2018-04-30T00:00:00\", \"2018-05-07T00:00:00\", \"2018-05-14T00:00:00\", \"2018-05-21T00:00:00\", \"2018-05-28T00:00:00\", \"2018-06-04T00:00:00\", \"2018-06-11T00:00:00\", \"2018-06-18T00:00:00\", \"2018-06-25T00:00:00\", \"2018-07-02T00:00:00\", \"2018-07-09T00:00:00\", \"2018-07-16T00:00:00\", \"2018-07-23T00:00:00\", \"2018-07-30T00:00:00\", \"2018-08-06T00:00:00\", \"2018-08-13T00:00:00\", \"2018-08-20T00:00:00\", \"2018-08-27T00:00:00\", \"2018-09-03T00:00:00\", \"2018-09-10T00:00:00\", \"2018-09-17T00:00:00\", \"2018-09-24T00:00:00\", \"2018-10-01T00:00:00\", \"2018-10-08T00:00:00\", \"2018-10-15T00:00:00\", \"2018-10-22T00:00:00\", \"2018-10-29T00:00:00\", \"2018-11-05T00:00:00\", \"2018-11-12T00:00:00\", \"2018-11-19T00:00:00\", \"2018-11-26T00:00:00\", \"2018-12-03T00:00:00\", \"2018-12-10T00:00:00\", \"2018-12-17T00:00:00\", \"2018-12-24T00:00:00\", \"2018-12-31T00:00:00\"]}, {\"close\": [311.95, 324.35, 328.0, 351.8, 339.9, 324.55, 324.2, 337.3, 319.5, 313.25, 319.3, 314.5, 313.9, 319.6, 323.0, 338.95, 381.0, 386.75, 401.45, 387.0, 378.3, 382.55, 382.15, 383.25, 390.8, 396.15, 403.4, 406.9, 393.25, 403.5, 411.25, 433.25, 425.8, 428.1, 435.7, 439.55, 441.35, 440.4, 493.0, 503.0, 465.1, 467.0, 453.3, 459.6, 468.6, 420.85, 405.2, 423.1, 439.0, 418.0, 415.0, 430.95], \"high\": [313.65, 326.95, 333.35, 359.3, 356.8, 340.45, 333.8, 338.0, 345.85, 324.95, 319.55, 324.6, 318.1, 325.95, 333.0, 342.45, 381.15, 408.05, 403.75, 404.5, 391.55, 386.75, 387.75, 386.9, 395.9, 399.85, 406.05, 419.0, 411.9, 404.4, 419.8, 441.15, 442.0, 441.25, 444.95, 444.85, 453.35, 445.0, 495.0, 522.8, 492.45, 474.3, 473.65, 467.0, 487.85, 475.6, 425.85, 425.85, 442.05, 441.0, 421.5, 431.5], \"low\": [292.15, 311.15, 312.95, 324.4, 337.25, 320.35, 322.75, 319.5, 314.6, 312.2, 305.55, 311.25, 305.0, 309.05, 281.65, 315.1, 336.1, 379.15, 385.8, 380.1, 374.25, 374.25, 371.4, 377.3, 379.4, 387.7, 388.35, 399.6, 391.1, 390.35, 399.0, 412.5, 421.0, 418.05, 426.5, 432.4, 437.85, 434.45, 440.45, 487.8, 458.15, 460.2, 448.9, 443.05, 461.7, 420.5, 401.25, 397.25, 422.55, 414.0, 405.05, 401.85], \"open\": [292.15, 312.55, 325.0, 328.0, 353.0, 336.0, 328.2, 325.4, 341.35, 321.65, 314.65, 321.8, 313.8, 314.5, 318.4, 317.9, 339.0, 381.05, 389.5, 402.05, 387.85, 376.55, 383.5, 382.8, 381.85, 390.0, 394.5, 402.4, 406.3, 394.05, 400.4, 412.55, 430.1, 426.5, 429.25, 435.7, 438.95, 442.65, 442.15, 495.95, 490.55, 468.25, 469.0, 454.45, 462.2, 472.2, 422.35, 405.8, 431.55, 436.75, 416.7, 414.7], \"type\": \"candlestick\", \"x\": [\"01\", \"02\", \"03\", \"04\", \"05\", \"06\", \"07\", \"08\", \"09\", \"10\", \"11\", \"12\", \"13\", \"14\", \"15\", \"16\", \"17\", \"18\", \"19\", \"20\", \"21\", \"22\", \"23\", \"24\", \"25\", \"26\", \"27\", \"28\", \"29\", \"30\", \"31\", \"32\", \"33\", \"34\", \"35\", \"36\", \"37\", \"38\", \"39\", \"40\", \"41\", \"42\", \"43\", \"44\", \"45\", \"46\", \"47\", \"48\", \"49\", \"50\", \"51\", \"52\", \"53\"]}],\n",
       "                        {\"template\": {\"data\": {\"bar\": [{\"error_x\": {\"color\": \"#2a3f5f\"}, \"error_y\": {\"color\": \"#2a3f5f\"}, \"marker\": {\"line\": {\"color\": \"#E5ECF6\", \"width\": 0.5}}, \"type\": \"bar\"}], \"barpolar\": [{\"marker\": {\"line\": {\"color\": \"#E5ECF6\", \"width\": 0.5}}, \"type\": \"barpolar\"}], \"carpet\": [{\"aaxis\": {\"endlinecolor\": \"#2a3f5f\", \"gridcolor\": \"white\", \"linecolor\": \"white\", \"minorgridcolor\": \"white\", \"startlinecolor\": \"#2a3f5f\"}, \"baxis\": {\"endlinecolor\": \"#2a3f5f\", \"gridcolor\": \"white\", \"linecolor\": \"white\", \"minorgridcolor\": \"white\", \"startlinecolor\": \"#2a3f5f\"}, \"type\": \"carpet\"}], \"choropleth\": [{\"colorbar\": {\"outlinewidth\": 0, \"ticks\": \"\"}, \"type\": \"choropleth\"}], \"contour\": [{\"colorbar\": {\"outlinewidth\": 0, \"ticks\": \"\"}, \"colorscale\": [[0.0, \"#0d0887\"], [0.1111111111111111, \"#46039f\"], [0.2222222222222222, \"#7201a8\"], [0.3333333333333333, \"#9c179e\"], [0.4444444444444444, \"#bd3786\"], [0.5555555555555556, \"#d8576b\"], [0.6666666666666666, \"#ed7953\"], [0.7777777777777778, \"#fb9f3a\"], [0.8888888888888888, \"#fdca26\"], [1.0, \"#f0f921\"]], \"type\": \"contour\"}], \"contourcarpet\": [{\"colorbar\": {\"outlinewidth\": 0, \"ticks\": \"\"}, \"type\": \"contourcarpet\"}], \"heatmap\": [{\"colorbar\": {\"outlinewidth\": 0, \"ticks\": \"\"}, \"colorscale\": [[0.0, \"#0d0887\"], [0.1111111111111111, \"#46039f\"], [0.2222222222222222, \"#7201a8\"], [0.3333333333333333, \"#9c179e\"], [0.4444444444444444, \"#bd3786\"], [0.5555555555555556, \"#d8576b\"], [0.6666666666666666, \"#ed7953\"], [0.7777777777777778, \"#fb9f3a\"], [0.8888888888888888, \"#fdca26\"], [1.0, \"#f0f921\"]], \"type\": \"heatmap\"}], \"heatmapgl\": [{\"colorbar\": {\"outlinewidth\": 0, \"ticks\": \"\"}, \"colorscale\": [[0.0, \"#0d0887\"], [0.1111111111111111, \"#46039f\"], [0.2222222222222222, \"#7201a8\"], [0.3333333333333333, \"#9c179e\"], [0.4444444444444444, \"#bd3786\"], [0.5555555555555556, \"#d8576b\"], [0.6666666666666666, \"#ed7953\"], [0.7777777777777778, \"#fb9f3a\"], [0.8888888888888888, \"#fdca26\"], [1.0, \"#f0f921\"]], \"type\": \"heatmapgl\"}], \"histogram\": [{\"marker\": {\"colorbar\": {\"outlinewidth\": 0, \"ticks\": \"\"}}, \"type\": \"histogram\"}], \"histogram2d\": [{\"colorbar\": {\"outlinewidth\": 0, \"ticks\": \"\"}, \"colorscale\": [[0.0, \"#0d0887\"], [0.1111111111111111, \"#46039f\"], [0.2222222222222222, \"#7201a8\"], [0.3333333333333333, \"#9c179e\"], [0.4444444444444444, \"#bd3786\"], [0.5555555555555556, \"#d8576b\"], [0.6666666666666666, \"#ed7953\"], [0.7777777777777778, \"#fb9f3a\"], [0.8888888888888888, \"#fdca26\"], [1.0, \"#f0f921\"]], \"type\": \"histogram2d\"}], \"histogram2dcontour\": [{\"colorbar\": {\"outlinewidth\": 0, \"ticks\": \"\"}, \"colorscale\": [[0.0, \"#0d0887\"], [0.1111111111111111, \"#46039f\"], [0.2222222222222222, \"#7201a8\"], [0.3333333333333333, \"#9c179e\"], [0.4444444444444444, \"#bd3786\"], [0.5555555555555556, \"#d8576b\"], [0.6666666666666666, \"#ed7953\"], [0.7777777777777778, \"#fb9f3a\"], [0.8888888888888888, \"#fdca26\"], [1.0, \"#f0f921\"]], \"type\": \"histogram2dcontour\"}], \"mesh3d\": [{\"colorbar\": {\"outlinewidth\": 0, \"ticks\": \"\"}, \"type\": \"mesh3d\"}], \"parcoords\": [{\"line\": {\"colorbar\": {\"outlinewidth\": 0, \"ticks\": \"\"}}, \"type\": \"parcoords\"}], \"pie\": [{\"automargin\": true, \"type\": \"pie\"}], \"scatter\": [{\"marker\": {\"colorbar\": {\"outlinewidth\": 0, \"ticks\": \"\"}}, \"type\": \"scatter\"}], \"scatter3d\": [{\"line\": {\"colorbar\": {\"outlinewidth\": 0, \"ticks\": \"\"}}, \"marker\": {\"colorbar\": {\"outlinewidth\": 0, \"ticks\": \"\"}}, \"type\": \"scatter3d\"}], \"scattercarpet\": [{\"marker\": {\"colorbar\": {\"outlinewidth\": 0, \"ticks\": \"\"}}, \"type\": \"scattercarpet\"}], \"scattergeo\": [{\"marker\": {\"colorbar\": {\"outlinewidth\": 0, \"ticks\": \"\"}}, \"type\": \"scattergeo\"}], \"scattergl\": [{\"marker\": {\"colorbar\": {\"outlinewidth\": 0, \"ticks\": \"\"}}, \"type\": \"scattergl\"}], \"scattermapbox\": [{\"marker\": {\"colorbar\": {\"outlinewidth\": 0, \"ticks\": \"\"}}, \"type\": \"scattermapbox\"}], \"scatterpolar\": [{\"marker\": {\"colorbar\": {\"outlinewidth\": 0, \"ticks\": \"\"}}, \"type\": \"scatterpolar\"}], \"scatterpolargl\": [{\"marker\": {\"colorbar\": {\"outlinewidth\": 0, \"ticks\": \"\"}}, \"type\": \"scatterpolargl\"}], \"scatterternary\": [{\"marker\": {\"colorbar\": {\"outlinewidth\": 0, \"ticks\": \"\"}}, \"type\": \"scatterternary\"}], \"surface\": [{\"colorbar\": {\"outlinewidth\": 0, \"ticks\": \"\"}, \"colorscale\": [[0.0, \"#0d0887\"], [0.1111111111111111, \"#46039f\"], [0.2222222222222222, \"#7201a8\"], [0.3333333333333333, \"#9c179e\"], [0.4444444444444444, \"#bd3786\"], [0.5555555555555556, \"#d8576b\"], [0.6666666666666666, \"#ed7953\"], [0.7777777777777778, \"#fb9f3a\"], [0.8888888888888888, \"#fdca26\"], [1.0, \"#f0f921\"]], \"type\": \"surface\"}], \"table\": [{\"cells\": {\"fill\": {\"color\": \"#EBF0F8\"}, \"line\": {\"color\": \"white\"}}, \"header\": {\"fill\": {\"color\": \"#C8D4E3\"}, \"line\": {\"color\": \"white\"}}, \"type\": \"table\"}]}, \"layout\": {\"annotationdefaults\": {\"arrowcolor\": \"#2a3f5f\", \"arrowhead\": 0, \"arrowwidth\": 1}, \"coloraxis\": {\"colorbar\": {\"outlinewidth\": 0, \"ticks\": \"\"}}, \"colorscale\": {\"diverging\": [[0, \"#8e0152\"], [0.1, \"#c51b7d\"], [0.2, \"#de77ae\"], [0.3, \"#f1b6da\"], [0.4, \"#fde0ef\"], [0.5, \"#f7f7f7\"], [0.6, \"#e6f5d0\"], [0.7, \"#b8e186\"], [0.8, \"#7fbc41\"], [0.9, \"#4d9221\"], [1, \"#276419\"]], \"sequential\": [[0.0, \"#0d0887\"], [0.1111111111111111, \"#46039f\"], [0.2222222222222222, \"#7201a8\"], [0.3333333333333333, \"#9c179e\"], [0.4444444444444444, \"#bd3786\"], [0.5555555555555556, \"#d8576b\"], [0.6666666666666666, \"#ed7953\"], [0.7777777777777778, \"#fb9f3a\"], [0.8888888888888888, \"#fdca26\"], [1.0, \"#f0f921\"]], \"sequentialminus\": [[0.0, \"#0d0887\"], [0.1111111111111111, \"#46039f\"], [0.2222222222222222, \"#7201a8\"], [0.3333333333333333, \"#9c179e\"], [0.4444444444444444, \"#bd3786\"], [0.5555555555555556, \"#d8576b\"], [0.6666666666666666, \"#ed7953\"], [0.7777777777777778, \"#fb9f3a\"], [0.8888888888888888, \"#fdca26\"], [1.0, \"#f0f921\"]]}, \"colorway\": [\"#636efa\", \"#EF553B\", \"#00cc96\", \"#ab63fa\", \"#FFA15A\", \"#19d3f3\", \"#FF6692\", \"#B6E880\", \"#FF97FF\", \"#FECB52\"], \"font\": {\"color\": \"#2a3f5f\"}, \"geo\": {\"bgcolor\": \"white\", \"lakecolor\": \"white\", \"landcolor\": \"#E5ECF6\", \"showlakes\": true, \"showland\": true, \"subunitcolor\": \"white\"}, \"hoverlabel\": {\"align\": \"left\"}, \"hovermode\": \"closest\", \"mapbox\": {\"style\": \"light\"}, \"paper_bgcolor\": \"white\", \"plot_bgcolor\": \"#E5ECF6\", \"polar\": {\"angularaxis\": {\"gridcolor\": \"white\", \"linecolor\": \"white\", \"ticks\": \"\"}, \"bgcolor\": \"#E5ECF6\", \"radialaxis\": {\"gridcolor\": \"white\", \"linecolor\": \"white\", \"ticks\": \"\"}}, \"scene\": {\"xaxis\": {\"backgroundcolor\": \"#E5ECF6\", \"gridcolor\": \"white\", \"gridwidth\": 2, \"linecolor\": \"white\", \"showbackground\": true, \"ticks\": \"\", \"zerolinecolor\": \"white\"}, \"yaxis\": {\"backgroundcolor\": \"#E5ECF6\", \"gridcolor\": \"white\", \"gridwidth\": 2, \"linecolor\": \"white\", \"showbackground\": true, \"ticks\": \"\", \"zerolinecolor\": \"white\"}, \"zaxis\": {\"backgroundcolor\": \"#E5ECF6\", \"gridcolor\": \"white\", \"gridwidth\": 2, \"linecolor\": \"white\", \"showbackground\": true, \"ticks\": \"\", \"zerolinecolor\": \"white\"}}, \"shapedefaults\": {\"line\": {\"color\": \"#2a3f5f\"}}, \"ternary\": {\"aaxis\": {\"gridcolor\": \"white\", \"linecolor\": \"white\", \"ticks\": \"\"}, \"baxis\": {\"gridcolor\": \"white\", \"linecolor\": \"white\", \"ticks\": \"\"}, \"bgcolor\": \"#E5ECF6\", \"caxis\": {\"gridcolor\": \"white\", \"linecolor\": \"white\", \"ticks\": \"\"}}, \"title\": {\"x\": 0.05}, \"xaxis\": {\"automargin\": true, \"gridcolor\": \"white\", \"linecolor\": \"white\", \"ticks\": \"\", \"title\": {\"standoff\": 15}, \"zerolinecolor\": \"white\", \"zerolinewidth\": 2}, \"yaxis\": {\"automargin\": true, \"gridcolor\": \"white\", \"linecolor\": \"white\", \"ticks\": \"\", \"title\": {\"standoff\": 15}, \"zerolinecolor\": \"white\", \"zerolinewidth\": 2}}}},\n",
       "                        {\"responsive\": true}\n",
       "                    ).then(function(){\n",
       "                            \n",
       "var gd = document.getElementById('d5a93f25-b572-4841-8d80-fac24a3cab49');\n",
       "var x = new MutationObserver(function (mutations, observer) {{\n",
       "        var display = window.getComputedStyle(gd).display;\n",
       "        if (!display || display === 'none') {{\n",
       "            console.log([gd, 'removed!']);\n",
       "            Plotly.purge(gd);\n",
       "            observer.disconnect();\n",
       "        }}\n",
       "}});\n",
       "\n",
       "// Listen for the removal of the full notebook cells\n",
       "var notebookContainer = gd.closest('#notebook-container');\n",
       "if (notebookContainer) {{\n",
       "    x.observe(notebookContainer, {childList: true});\n",
       "}}\n",
       "\n",
       "// Listen for the clearing of the current output cell\n",
       "var outputEl = gd.closest('.output');\n",
       "if (outputEl) {{\n",
       "    x.observe(outputEl, {childList: true});\n",
       "}}\n",
       "\n",
       "                        })\n",
       "                };\n",
       "                });\n",
       "            </script>\n",
       "        </div>"
      ]
     },
     "metadata": {},
     "output_type": "display_data"
    }
   ],
   "source": [
    "# Я долго думал,как объединить два графика,и в итоге путём перебора дошёл до этого. Я не знаю,почему он берёт отсчёт с 1950 по \n",
    "# 2049,но с 2017 по 2018 там есть скользящая средняя и ohlc\n",
    "month=rosn_w.index.strftime('%b-2017')\n",
    "\n",
    "trace = go.Ohlc(x=rosn_week.index,\n",
    "                open=rosn_week['Open'],\n",
    "                high=rosn_week['High'],\n",
    "                low=rosn_week['Low'],\n",
    "                close=rosn_week['Close'])\n",
    "\n",
    "\n",
    "trace2 = go.Candlestick(\n",
    "                x=week, \n",
    "                open=rosn_w['Open'],\n",
    "                high=rosn_w['High'],\n",
    "                low=rosn_w['Low'],\n",
    "                close=rosn_w['Close'])\n",
    "\n",
    "layout = go.Layout(\n",
    "    xaxis = dict(\n",
    "        rangeslider = dict(\n",
    "            visible = False\n",
    "        )\n",
    "    )\n",
    ")\n",
    "\n",
    "\n",
    "data3 = [trace,trace2]\n",
    "fig = go.Figure(data=data3)\n",
    "iplot(fig)"
   ]
  },
  {
   "cell_type": "code",
   "execution_count": null,
   "metadata": {},
   "outputs": [],
   "source": []
  }
 ],
 "metadata": {
  "kernelspec": {
   "display_name": "Python 3",
   "language": "python",
   "name": "python3"
  },
  "language_info": {
   "codemirror_mode": {
    "name": "ipython",
    "version": 3
   },
   "file_extension": ".py",
   "mimetype": "text/x-python",
   "name": "python",
   "nbconvert_exporter": "python",
   "pygments_lexer": "ipython3",
   "version": "3.7.3"
  }
 },
 "nbformat": 4,
 "nbformat_minor": 2
}
